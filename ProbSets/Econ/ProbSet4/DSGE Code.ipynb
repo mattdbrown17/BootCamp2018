{
 "cells": [
  {
   "cell_type": "code",
   "execution_count": 71,
   "metadata": {},
   "outputs": [
    {
     "ename": "ModuleNotFoundError",
     "evalue": "No module named 'LinApp_FindSS'",
     "output_type": "error",
     "traceback": [
      "\u001b[1;31m---------------------------------------------------------------------------\u001b[0m",
      "\u001b[1;31mModuleNotFoundError\u001b[0m                       Traceback (most recent call last)",
      "\u001b[1;32m<ipython-input-71-724ba5b3f966>\u001b[0m in \u001b[0;36m<module>\u001b[1;34m()\u001b[0m\n\u001b[0;32m      3\u001b[0m \u001b[1;32mfrom\u001b[0m \u001b[0mcollections\u001b[0m \u001b[1;32mimport\u001b[0m \u001b[0mnamedtuple\u001b[0m\u001b[1;33m\u001b[0m\u001b[0m\n\u001b[0;32m      4\u001b[0m \u001b[1;33m\u001b[0m\u001b[0m\n\u001b[1;32m----> 5\u001b[1;33m \u001b[1;32mfrom\u001b[0m \u001b[0mLinApp_FindSS\u001b[0m \u001b[1;32mimport\u001b[0m \u001b[0mLinApp_FindSS\u001b[0m\u001b[1;33m\u001b[0m\u001b[0m\n\u001b[0m\u001b[0;32m      6\u001b[0m \u001b[1;32mfrom\u001b[0m \u001b[0mLinApp_Deriv\u001b[0m \u001b[1;32mimport\u001b[0m \u001b[0mLinApp_Deriv\u001b[0m\u001b[1;33m\u001b[0m\u001b[0m\n\u001b[0;32m      7\u001b[0m \u001b[1;32mfrom\u001b[0m \u001b[0mLinApp_Solve\u001b[0m \u001b[1;32mimport\u001b[0m \u001b[0mLinApp_Solve\u001b[0m\u001b[1;33m\u001b[0m\u001b[0m\n",
      "\u001b[1;31mModuleNotFoundError\u001b[0m: No module named 'LinApp_FindSS'"
     ]
    }
   ],
   "source": [
    "import numpy as np\n",
    "from scipy import optimize as opt\n",
    "from collections import namedtuple\n",
    "\n",
    "from LinApp_FindSS import LinApp_FindSS\n",
    "from LinApp_Deriv import LinApp_Deriv\n",
    "from LinApp_Solve import LinApp_Solve"
   ]
  },
  {
   "cell_type": "code",
   "execution_count": 2,
   "metadata": {},
   "outputs": [
    {
     "name": "stdout",
     "output_type": "stream",
     "text": [
      " k_ss = 7.287497950692919 \n",
      " r_ss = 0.12148227712137491 \n",
      " w_ss = 1.327952768351301 \n",
      " y_ss = 0.7287497950692919 \n",
      " i_ss = 2.2132546139188345\n"
     ]
    }
   ],
   "source": [
    "# Use a root finder to optimize over the 3 equations from part 1.\n",
    "params5 = [2.5, 1.5, .98, .4, .5, .10, 0, .05]\n",
    "def diff5(varvec, params):\n",
    "    k, r, w = varvec[0], varvec[1], varvec[2]\n",
    "    gamma, xi, beta, alpha, a, delta, zbar, tau = params\n",
    "    eulerdiff = 1 - beta * ((r - delta) * (1 - tau) + 1)\n",
    "    rdiff = r - alpha * k ** (alpha - 1)\n",
    "    wdiff = w - (1 - alpha) * k ** alpha\n",
    "    outvec = np.array([eulerdiff, rdiff, wdiff])\n",
    "    return outvec\n",
    "\n",
    "roots = opt.root(diff5, [1, 1, 1], args = params5).x\n",
    "k_ss = roots[0]\n",
    "r_ss = roots[1]\n",
    "w_ss = roots[2]\n",
    "i_ss = k_ss ** .4\n",
    "y_ss = k_ss * .1\n",
    "print(\" k_ss =\", k_ss, \"\\n r_ss =\", r_ss, \"\\n w_ss =\", w_ss, \"\\n y_ss =\", y_ss, \"\\n i_ss =\", i_ss)\n"
   ]
  },
  {
   "cell_type": "markdown",
   "metadata": {},
   "source": [
    "## Exercise 6"
   ]
  },
  {
   "cell_type": "code",
   "execution_count": 3,
   "metadata": {},
   "outputs": [
    {
     "name": "stdout",
     "output_type": "stream",
     "text": [
      "1.71\n"
     ]
    },
    {
     "data": {
      "text/plain": [
       "array([ 1.37132122e+01,  7.08716511e+01, -2.93144843e-01, -1.58869059e-02])"
      ]
     },
     "execution_count": 3,
     "metadata": {},
     "output_type": "execute_result"
    }
   ],
   "source": [
    "params6 = [2.5, 1.5, .98, .4, .5, .10, 0, .05]\n",
    "\n",
    "#Define tax function\n",
    "def T(k, r, w, l, params):\n",
    "    gamma, xi, beta, alpha, a, delta, zbar, tau = params\n",
    "    T = tau * ( w*l + (r - delta) * k)\n",
    "    return T\n",
    "\n",
    "#print(T(1, 1, 1, 1, params6))\n",
    "\n",
    "#define consumption function (assume T is zero)\n",
    "def cons(k, r, w, l, params):\n",
    "    gamma, xi, beta, alpha, a, delta, zbar, tau = params\n",
    "    c = (1 - tau) * (w * l + (r - delta) * k) - T(k, r, w, l, params6)\n",
    "    return c\n",
    "\n",
    "print(cons(1, 1, 1, 1, params6))\n",
    "\n",
    "#Define Difference function\n",
    "def diff6(varvec, params):\n",
    "    k, r, w, l = varvec[0], varvec[1], varvec[2], varvec[3]\n",
    "    gamma, xi, beta, alpha, a, delta, zbar, tau = params\n",
    "    c = cons(k, r, w, l, params6)\n",
    "    cldiff = w * (1 - tau) * c ** (-gamma) + a * (1 - l) ** (-gamma)\n",
    "    eulerdiff = c ** (-gamma) - c**(-gamma) * (- beta) * ((r - delta) * (1 - tau) + 1)\n",
    "    rdiff = r - alpha * k ** (alpha - 1)\n",
    "    wdiff = w - (1 - alpha) * k ** alpha\n",
    "    outvec = np.array([cldiff, eulerdiff, rdiff, wdiff])\n",
    "    return outvec\n",
    "\n",
    "diff6([.4, .4, .4, .4], params6)\n",
    "#roots = opt.root(diff6, [1, 1, 1, 1], args = params6).x"
   ]
  },
  {
   "cell_type": "markdown",
   "metadata": {},
   "source": [
    "### Something is likely broken above!"
   ]
  },
  {
   "cell_type": "markdown",
   "metadata": {},
   "source": [
    "## Baseline Tax Model"
   ]
  },
  {
   "cell_type": "markdown",
   "metadata": {},
   "source": [
    "### Exercise 4"
   ]
  },
  {
   "cell_type": "markdown",
   "metadata": {},
   "source": [
    "This is from Chase's notebook on Github! Had to add a few things."
   ]
  },
  {
   "cell_type": "code",
   "execution_count": 16,
   "metadata": {},
   "outputs": [],
   "source": [
    "# Parametrize\n",
    "params = [\"a\", \"alpha\", \"beta\", \"delta\", \"gamma\", \"rho\", \"sigma\", \"tau\", \"xi\", \"zbar\"]\n",
    "BaselineModel = namedtuple(\"BaselineModel\", params)\n",
    "\n",
    "m = BaselineModel(0.50, 0.40, 0.98, 0.10, 2.50, 0.90, 0.02, 0.05, 1.5, 0.0)"
   ]
  },
  {
   "cell_type": "markdown",
   "metadata": {},
   "source": [
    "Define Functions:"
   ]
  },
  {
   "cell_type": "code",
   "execution_count": 17,
   "metadata": {},
   "outputs": [],
   "source": [
    "#Utility/Production Functions\n",
    "def u(m, c, l):\n",
    "    uc = (c**(1.0 - m.gamma) - 1.0) / (1.0 - m.gamma)\n",
    "    ul = m.a * ((1.0 - l)**(1.0 - m.xi) - 1.0) / (1.0 - m.xi)\n",
    "    return uc + ul\n",
    "\n",
    "def du_dc(m, c, l):\n",
    "    return c**(-m.gamma)\n",
    "\n",
    "def du_dl(m, c, l):\n",
    "    return - m.a * (1.0 - l)**(-m.xi)\n",
    "\n",
    "def f(m, k, l, z):\n",
    "    return k**m.alpha * (l * np.exp(z))**(1.0 - m.alpha)\n",
    "\n",
    "def df_dk(m, k, l, z):\n",
    "    return m.alpha * (l/k * np.exp(z))**(1.0 - m.alpha)\n",
    "\n",
    "def df_dl(m, k, l, z):\n",
    "    return (1.0 - m.alpha) * np.exp(z)**(1.0 - m.alpha) * (k / l)**m.alpha\n",
    "\n",
    "#Characteristic Equations\n",
    "def Definitions(m, ktp1, kt, lt, zt):\n",
    "    wt = df_dl(m, kt, lt, zt)\n",
    "    rt = df_dk(m, kt, lt, zt)\n",
    "    Tt = m.tau * (wt*lt + (rt - m.delta)*kt)\n",
    "    ct = (1 - m.tau) * (wt*lt + (rt - m.delta)*kt) + kt + Tt - ktp1\n",
    "\n",
    "    ct = max(ct, 1e-8)\n",
    "\n",
    "    return ct, rt, Tt, wt\n",
    "\n",
    "\n",
    "def CharacteristicEquations(m, ktp2, ltp1, ktp1, lt, kt, ltm1, ztp1, zt):\n",
    "    ct, rt, Tt, wt = Definitions(m, ktp1, kt, lt, zt)\n",
    "    ctp1, rtp1, Ttp1, wtp1 = Definitions(m, ktp2, ktp1, ltp1, ztp1)\n",
    "    rr_tp1 = (rtp1 - m.delta)*(1 - m.tau) + 1.0\n",
    "\n",
    "    intertemporal_ee = du_dc(m, ct, lt) - m.beta*du_dc(m, ctp1, ltp1)*rr_tp1\n",
    "    intratemporal_ee = du_dl(m, ct, lt) + du_dc(m, ct, lt)*wt*(1.0 - m.tau)\n",
    "\n",
    "    return np.array([intertemporal_ee, intratemporal_ee])"
   ]
  },
  {
   "cell_type": "markdown",
   "metadata": {},
   "source": [
    "### Exercise 4"
   ]
  },
  {
   "cell_type": "code",
   "execution_count": 18,
   "metadata": {},
   "outputs": [
    {
     "name": "stdout",
     "output_type": "stream",
     "text": [
      " cbar =  0.8607032061550788 \n",
      " rbar =  0.12148227712083877 \n",
      " Tbar =  0.04303516030775391 \n",
      " wbar = 1.3279527683552124\n"
     ]
    }
   ],
   "source": [
    "# Solve the Steady-state\n",
    "def solve_ss(m):\n",
    "    solve_me = lambda x: CharacteristicEquations(m, x[0], x[1], x[0], x[1], x[0], x[1], m.zbar, m.zbar)\n",
    "    sol = opt.root(solve_me, np.array([0.5, 0.85]))\n",
    "    return sol.x\n",
    "\n",
    "kbar, lbar = solve_ss(m)\n",
    "cbar, rbar, Tbar, wbar = Definitions(m, kbar, kbar, lbar, m.zbar)"
   ]
  },
  {
   "cell_type": "markdown",
   "metadata": {},
   "source": [
    "### Exercises 4/5"
   ]
  },
  {
   "cell_type": "code",
   "execution_count": 63,
   "metadata": {},
   "outputs": [
    {
     "name": "stdout",
     "output_type": "stream",
     "text": [
      " Steady state values: \n",
      " (4.225229026815977, 0.8607032061550788, 0.12148227712083877, 1.3279527683552124, 0.5797914531671479, 0.04303516030775391, 1.2832261088366759, 0.4225229026815971) \n",
      " Derivatives: \n",
      " [[-1.84927301e+00  2.59839699e+01  6.54224134e+01 -4.83544084e+01\n",
      "   1.38699492e-01  0.00000000e+00  0.00000000e+00 -2.32321275e+00\n",
      "  -8.01657851e-01  2.83828090e+00]\n",
      " [-3.76707418e-01  2.08513434e+00  1.75110016e+00 -3.51149925e+00\n",
      "   2.82538834e-02  0.00000000e+00  0.00000000e+00 -2.34390902e-01\n",
      "  -1.63302315e-01  5.78173980e-01]\n",
      " [ 1.99562589e-09 -7.03187508e-09 -1.09604572e+00  1.00000001e+00\n",
      "   6.89726054e-10  0.00000000e+00  0.00000000e+00  2.26126864e-02\n",
      "  -4.42562653e-09  2.48412402e-10]\n",
      " [-1.45883305e-08  4.39568631e+00  7.98683048e+00 -7.28799800e+00\n",
      "  -5.04041253e-09  0.00000000e+00  0.00000000e+00 -1.64790161e-01\n",
      "   3.22408766e-08  1.32794613e+00]\n",
      " [-2.53759645e-01 -7.69361431e-01  2.60046612e-01  1.31984080e+00\n",
      "   1.90325311e-02  0.00000000e+00  0.00000000e+00 -1.38922976e-01\n",
      "  -1.10004574e-01 -1.90317838e-01]\n",
      " [-1.88353709e-02  1.04256717e-01  8.75550081e-02 -1.75574963e-01\n",
      "   1.41269417e-03  0.00000000e+00  0.00000000e+00  8.48986005e-01\n",
      "  -8.16511574e-03  2.89086990e-02]\n",
      " [-5.61634719e-01  4.68353134e+00  8.29334150e+00 -4.12122752e+00\n",
      "   4.21238325e-02  0.00000000e+00  0.00000000e+00 -4.66712177e-01\n",
      "  -2.43468100e-01  8.62002070e-01]\n",
      " [-1.84927301e-01  2.59839699e+00  6.54224134e+00 -6.09728270e-01\n",
      "   1.38699491e-02  0.00000000e+00  0.00000000e+00 -2.32321275e-01\n",
      "  -8.01657852e-02  2.83828090e-01]]\n",
      "Examples: \n",
      " Derivative of interest rate w.r.t beta: \n",
      " -1.096045724856276 \n",
      " Derivative of output w.r.t zbar: \n",
      " 0.862002069723644 \n",
      " Derivative of capital stock w.r.t. alpha: \n",
      " 25.98396994990537 \n",
      " Derivative of consumption w.r.t. gamma: \n",
      " 0.02825388341065604 \n",
      " Derivative of total tax w.r.t. tau \n",
      " 0.8489860049698538\n",
      "That consumption number looks... weird... but everything else seems like it's going the correct direction!\n"
     ]
    }
   ],
   "source": [
    "'''\n",
    "dy/dx will be returned as a matrix of derivatives with the columns \n",
    "being one element of x, and the rows being one element of y. (basically\n",
    "a derivative matrix) The xs are in the order as defined in the namedtuple.\n",
    "The ys are in the same order as they are in the problem, see the output\n",
    "of \"get_outcomes\"\n",
    "'''\n",
    "\n",
    "def get_outcomes(m):\n",
    "    '''\n",
    "    This is the function I'll be differentiating. It takes the parameters\n",
    "    m as inputs, and returns the important outputs as a list in the \n",
    "    appropriate order.\n",
    "    '''\n",
    "    kbar, lbar = solve_ss(m)\n",
    "    cbar, rbar, Tbar, wbar = Definitions(m, kbar, kbar, lbar, m.zbar)\n",
    "    ybar = f(m, kbar, lbar, m.zbar)\n",
    "    ibar = ybar - cbar\n",
    "    return kbar, cbar, rbar, wbar, lbar, Tbar, ybar, ibar\n",
    "\n",
    "def Dmat5(x, y, f, dist = 10e-6):\n",
    "    m = len(y)\n",
    "    n = len(x)\n",
    "    #Initialize Jacobian\n",
    "    Dmat = np.zeros((m, n))\n",
    "    for i in range(m):\n",
    "        for j in range(n):\n",
    "            xnew = np.array(x)\n",
    "            xnew[j] = xnew[j] - 10e-6\n",
    "            xnew = BaselineModel(*xnew)\n",
    "            Dmat[i, j] = (f(x)[i] - f(xnew)[i]) / dist\n",
    "    return Dmat\n",
    "\n",
    "ss = get_outcomes(m)\n",
    "Derivs = Dmat5(m, ss, get_outcomes)\n",
    "print(\" Steady state values: \\n\", ss, \"\\n Derivatives: \\n\", Derivs)\n",
    "print(\"Examples: \\n Derivative of interest rate w.r.t beta: \\n\", Derivs[2, 2], \\\n",
    "      \"\\n Derivative of output w.r.t zbar: \\n\", Derivs[6, 9], \\\n",
    "      \"\\n Derivative of capital stock w.r.t. alpha: \\n\", Derivs[0, 1], \\\n",
    "      \"\\n Derivative of consumption w.r.t. gamma: \\n\", Derivs[1, 4], \\\n",
    "      \"\\n Derivative of total tax w.r.t. tau \\n\", Derivs[5, 7])\n",
    "\n",
    "print(\"That consumption number looks... weird... but everything else seems like it's going the correct direction!\")"
   ]
  },
  {
   "cell_type": "markdown",
   "metadata": {},
   "source": [
    "## Exercise 6"
   ]
  },
  {
   "cell_type": "code",
   "execution_count": 70,
   "metadata": {},
   "outputs": [
    {
     "data": {
      "text/plain": [
       "(array([[ 4.22623769e-06, -5.44191867e-06],\n",
       "        [ 0.00000000e+00,  0.00000000e+00]]),\n",
       " array([[-8.56661520e-06,  5.61221554e-06],\n",
       "        [-5.33163184e-06,  1.48988829e-05]]),\n",
       " array([[4.31700912e-06, 0.00000000e+00],\n",
       "        [5.27237248e-06, 0.00000000e+00]]),\n",
       " array([-3.1551835e-06,  0.0000000e+00]),\n",
       " array([3.25392039e-06, 3.00365571e-06]),\n",
       " 0.9)"
      ]
     },
     "execution_count": 70,
     "metadata": {},
     "output_type": "execute_result"
    }
   ],
   "source": [
    "def linearize(m, kbar, lbar, eps=1e-6):\n",
    "    # Compute ss gamma\n",
    "    x = np.array([kbar, lbar, kbar, lbar, kbar, lbar, 0.0, 0.0])\n",
    "    Gamma_ss = CharacteristicEquations(m, kbar, lbar, kbar, lbar, kbar, lbar, 0.0, 0.0)\n",
    "\n",
    "    # Allocate space for derivative matrix\n",
    "    neq = len(Gamma_ss)\n",
    "    Dmat = np.empty((neq, 8))\n",
    "\n",
    "    CEsplat = lambda x: CharacteristicEquations(m, *list(x))\n",
    "    for i in range(8):\n",
    "        xtilde = np.array([kbar, lbar, kbar, lbar, kbar, lbar, 0.0, 0.0])\n",
    "        xtilde[i] += eps\n",
    "        Dmat[:, i] = derivative(CEsplat, x, xtilde)\n",
    "\n",
    "    F = Dmat[:, :2]\n",
    "    G = Dmat[:, 2:4]\n",
    "    H = Dmat[:, 4:6]\n",
    "    L = Dmat[:, 6]\n",
    "    M = Dmat[:, 7]\n",
    "    #N is 1x1 so just a constant\n",
    "    N = m.rho\n",
    "    \n",
    "    return F, G, H, L, M, N\n",
    "\n",
    "F, G, H, L, M, N = linearize(m, kbar, lbar)\n",
    "F, G, H, L, M, N\n"
   ]
  },
  {
   "cell_type": "code",
   "execution_count": null,
   "metadata": {},
   "outputs": [],
   "source": []
  }
 ],
 "metadata": {
  "kernelspec": {
   "display_name": "Python 3",
   "language": "python",
   "name": "python3"
  },
  "language_info": {
   "codemirror_mode": {
    "name": "ipython",
    "version": 3
   },
   "file_extension": ".py",
   "mimetype": "text/x-python",
   "name": "python",
   "nbconvert_exporter": "python",
   "pygments_lexer": "ipython3",
   "version": "3.6.5"
  }
 },
 "nbformat": 4,
 "nbformat_minor": 2
}
