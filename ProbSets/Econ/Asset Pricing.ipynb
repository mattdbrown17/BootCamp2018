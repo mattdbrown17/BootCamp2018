{
 "cells": [
  {
   "cell_type": "code",
   "execution_count": 159,
   "metadata": {},
   "outputs": [],
   "source": [
    "import numpy as np\n",
    "import pandas as pd\n",
    "import matplotlib.pyplot as plt\n",
    "from fredapi import Fred\n",
    "from scipy import optimize as opt\n",
    "#I'm using Natasha's key :)\n",
    "fred = Fred(api_key='16fc433e0cb217bb8cb94bf76b981f2f')"
   ]
  },
  {
   "cell_type": "markdown",
   "metadata": {},
   "source": [
    "## Exercise 1"
   ]
  },
  {
   "cell_type": "markdown",
   "metadata": {},
   "source": [
    "### Part 1"
   ]
  },
  {
   "cell_type": "code",
   "execution_count": 300,
   "metadata": {},
   "outputs": [],
   "source": [
    "# Import data\n",
    "cons = fred.get_series('PCECC96')\n",
    "gdp_def = fred.get_series('GDPDEF')\n",
    "wilshire = fred.get_series('WILL5000INDFC')\n",
    "tbill = fred.get_series('TB3MS')\n",
    "#wilshire"
   ]
  },
  {
   "cell_type": "markdown",
   "metadata": {},
   "source": [
    "Note - I'll be throwing out the last period throughout when I do shifts."
   ]
  },
  {
   "cell_type": "code",
   "execution_count": 302,
   "metadata": {
    "scrolled": true
   },
   "outputs": [],
   "source": [
    "'''\n",
    "Clean data.\n",
    "Initially:\n",
    "tbill - monthly from 1934 - 2018\n",
    "gdp_def - quarterly from 1947 - Jan 2018\n",
    "wilshire - quarterly from 1971 - 2018\n",
    "cons - quarterly from 1947 - Jan 2018\n",
    "'''\n",
    "#Get Quarterly data for wilshire and tbill\n",
    "wilshire = wilshire.resample('QS').first()\n",
    "tbill = tbill.resample('QS').first()\n",
    "\n",
    "#Calculate risk-free rate\n",
    "riskfree = tbill/100 + 1\n",
    "\n",
    "#merge series into a dataframe\n",
    "df = pd.concat([cons, gdp_def, wilshire, riskfree], axis=1, join='inner')\n",
    "df.columns = ['cons_r', 'gdp_def', 'wilshire', 'riskfree']\n",
    "\n",
    "#normalize gdp_def\n",
    "df['gdp_def'] = df['gdp_def']/100\n",
    "\n",
    "#Get real vars\n",
    "df['wilshire_r'] = df['wilshire']/df['gdp_def']\n",
    "df['R_r'] = df['wilshire_r']/df['wilshire_r'].shift(1)"
   ]
  },
  {
   "cell_type": "code",
   "execution_count": 309,
   "metadata": {},
   "outputs": [],
   "source": [
    "'''\n",
    "Define functions to get m and estimate gamma \n",
    "'''\n",
    "\n",
    "def get_empiricalvals(gamma, df, beta):\n",
    "    '''\n",
    "    This function calculates an empirical series of ms from cons\n",
    "    data for a given gamma/beta.\n",
    "    gamma, beta are scalars\n",
    "    cseries is a data frame\n",
    "    '''\n",
    "    df['m'] = df['cons_r'] ** -gamma / df['cons_r'].shift(1) ** -gamma * beta\n",
    "    covmR = df['m'][1:].cov(df['R_r'][1:])\n",
    "    expm = df['m'].mean()\n",
    "    expR = df['R_r'].mean()\n",
    "    #df.dropna(axis = 0, inplace = True)\n",
    "    return df, covmR, expm, expR\n",
    "\n",
    "def objective(gamma, args):\n",
    "    '''\n",
    "    Function gives the sum of least squares for a given gamma under \n",
    "    the conditions args (args = df, beta)\n",
    "    Function calls get_empiricalvals\n",
    "    '''\n",
    "    df, beta = args\n",
    "    df, covmR, expm, expR = get_empiricalvals(gamma, df, beta)\n",
    "    error = 1 - covmR - expm * expR\n",
    "    #print(df, covmR, expm, expR, error)\n",
    "    return error"
   ]
  },
  {
   "cell_type": "code",
   "execution_count": 310,
   "metadata": {},
   "outputs": [
    {
     "name": "stdout",
     "output_type": "stream",
     "text": [
      "Estimated gamma is [1.32635712]\n"
     ]
    }
   ],
   "source": [
    "beta = .99\n",
    "gammaguess1 = 1\n",
    "args = [df, beta]\n",
    "\n",
    "#df['cons_()']\n",
    "result = opt.root(objective, gammaguess1, args=args)\n",
    "gamma_est1 = result.x\n",
    "print(f\"Estimated gamma is {gamma_est1}\")"
   ]
  },
  {
   "cell_type": "markdown",
   "metadata": {},
   "source": [
    "### Part 2"
   ]
  },
  {
   "cell_type": "markdown",
   "metadata": {},
   "source": [
    "This parameter looks reasonable to me - I've definitely seen gammas like this in the CRRA utility function. I don't know of any other checks for "
   ]
  },
  {
   "cell_type": "markdown",
   "metadata": {},
   "source": [
    "### Part 3"
   ]
  },
  {
   "cell_type": "code",
   "execution_count": 305,
   "metadata": {},
   "outputs": [],
   "source": [
    "#Define moment error\n",
    "def riskfreeerror(gamma, args):\n",
    "    '''\n",
    "    Function gives the sum of squared errors of the moment conditions\n",
    "    for each time period for a given gamma.\n",
    "    '''\n",
    "    df, beta = args\n",
    "    df, covmR, expm, expR = get_empiricalvals(gamma, df, beta)\n",
    "    df['err'] = df['riskfree'] - 1/expm\n",
    "    sqerr = np.sum((df['err'])**2)\n",
    "    return sqerr    "
   ]
  },
  {
   "cell_type": "code",
   "execution_count": 306,
   "metadata": {},
   "outputs": [
    {
     "data": {
      "text/plain": [
       "array([4.84443948])"
      ]
     },
     "execution_count": 306,
     "metadata": {},
     "output_type": "execute_result"
    }
   ],
   "source": [
    "beta = .99\n",
    "gammaguess1 = 1\n",
    "args = [df, beta]\n",
    "\n",
    "results = opt.minimize(riskfreeerror, gammaguess1, args)\n",
    "gamma_est2 = results.x\n",
    "#df['riskfree']\n",
    "gamma_est2"
   ]
  },
  {
   "cell_type": "markdown",
   "metadata": {},
   "source": [
    "Which is a very different estimate from the preivous one!"
   ]
  },
  {
   "cell_type": "markdown",
   "metadata": {},
   "source": [
    "### Part 4"
   ]
  },
  {
   "cell_type": "code",
   "execution_count": 324,
   "metadata": {},
   "outputs": [],
   "source": [
    "#First thing is to define an error function\n",
    "\n",
    "def errvec4(params, df):\n",
    "    '''\n",
    "    This function gets the error from equation 5 and equation 7\n",
    "    (which were used in the last problem) and puts them into a \n",
    "    length-2 error vector for a given gamma, beta = params. \n",
    "    '''\n",
    "    beta, gamma = params\n",
    "    df, covmR, expm, expR = get_empiricalvals(gamma, df, beta)\n",
    "    error5 = 1 - covmR - expm * expR\n",
    "    df['err7s'] = df['riskfree'] - 1/expm\n",
    "    error7 = np.sum((df['err7s'])**2)\n",
    "    errvec = np.array([error5, error7])\n",
    "    return errvec\n",
    "\n",
    "def crit(params, args):\n",
    "    '''\n",
    "    Criterion function to minimize\n",
    "    args includes df and a weighting matrix W\n",
    "    '''\n",
    "    df, W = args\n",
    "    errvec = errvec4(params, df)\n",
    "    out = np.sum(errvec**2)\n",
    "    return out"
   ]
  },
  {
   "cell_type": "code",
   "execution_count": 345,
   "metadata": {},
   "outputs": [
    {
     "name": "stdout",
     "output_type": "stream",
     "text": [
      "Estimated beta: 0.9769327147685942 \n",
      "Estimated gamma: 3.00017068507085\n"
     ]
    },
    {
     "data": {
      "text/plain": [
       "0.049977353539514324"
      ]
     },
     "execution_count": 345,
     "metadata": {},
     "output_type": "execute_result"
    }
   ],
   "source": [
    "betaguess4 = 1\n",
    "gammaguess4 = 3\n",
    "W  = np.eye(2)\n",
    "params = [betaguess4, gammaguess4]\n",
    "args = [df, W]\n",
    "\n",
    "results = opt.minimize(crit, params, args=args, bounds = ((None, 1), (None, None)))\n",
    "beta_est4, gamma_est4 = results.x\n",
    "print(f\"Estimated beta: {beta_est4} \\nEstimated gamma: {gamma_est4}\")\n",
    "results.fun"
   ]
  },
  {
   "cell_type": "code",
   "execution_count": 346,
   "metadata": {},
   "outputs": [
    {
     "data": {
      "text/plain": [
       "Text(0,0.5,'gamma')"
      ]
     },
     "execution_count": 346,
     "metadata": {},
     "output_type": "execute_result"
    },
    {
     "data": {
      "image/png": "[encoded data removed]",
      "text/plain": [
       "<Figure size 432x288 with 2 Axes>"
      ]
     },
     "metadata": {},
     "output_type": "display_data"
    }
   ],
   "source": [
    "#Plot\n",
    "#Initialize grids\n",
    "res = 100\n",
    "betagrid = np.linspace(.97, .98, res)\n",
    "gammagrid = np.linspace(2.9, 3.1, res)\n",
    "X, Y = np.meshgrid(betagrid, gammagrid)\n",
    "\n",
    "#Calculate function vals\n",
    "args = [df, W]\n",
    "Z = np.zeros((res, res))\n",
    "for i in range(res):\n",
    "    for j in range(res):\n",
    "        params = [betagrid[i], gammagrid[j]]\n",
    "        Z[i,j] = crit(params, args)\n",
    "\n",
    "plt.contour(X, Y, Z, 5)\n",
    "plt.colorbar()\n",
    "plt.xlabel('beta')\n",
    "plt.ylabel('gamma')"
   ]
  },
  {
   "cell_type": "markdown",
   "metadata": {},
   "source": [
    "### Return to this plot "
   ]
  },
  {
   "cell_type": "code",
   "execution_count": null,
   "metadata": {},
   "outputs": [],
   "source": []
  }
 ],
 "metadata": {
  "kernelspec": {
   "display_name": "Python 3",
   "language": "python",
   "name": "python3"
  },
  "language_info": {
   "codemirror_mode": {
    "name": "ipython",
    "version": 3
   },
   "file_extension": ".py",
   "mimetype": "text/x-python",
   "name": "python",
   "nbconvert_exporter": "python",
   "pygments_lexer": "ipython3",
   "version": "3.6.5"
  }
 },
 "nbformat": 4,
 "nbformat_minor": 2
}
