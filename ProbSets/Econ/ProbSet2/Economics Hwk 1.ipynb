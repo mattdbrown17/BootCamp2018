{
 "cells": [
  {
   "cell_type": "markdown",
   "metadata": {},
   "source": [
    "## Exercise 1"
   ]
  },
  {
   "cell_type": "code",
   "execution_count": 73,
   "metadata": {},
   "outputs": [
    {
     "name": "stdout",
     "output_type": "stream",
     "text": [
      "Should be a number: 10.46221466110753\n",
      "Difference = 0.0009999803594988865 after 3090 iterations\n"
     ]
    }
   ],
   "source": [
    "from scipy import linalg as linalg\n",
    "import numpy as np\n",
    "from numpy import linalg as LA\n",
    "from numpy import random as rand\n",
    "from numba import vectorize, jit, njit, float64, prange\n",
    "\n",
    "# This is confusing - the numpy one is LA, the scipy one is linalg\n",
    "\n",
    "#Define norm function.\n",
    "def twonorm(v):\n",
    "    \"\"\"\n",
    "    --------------------------------------------------------------------\n",
    "    This function takes the standard 2-norm of an n dimensional vector.\n",
    "    --------------------------------------------------------------------\n",
    "    INPUTS:\n",
    "    v = tuple of numbers, first tuple argument passed into function\n",
    "    \n",
    "    OTHER FUNCTIONS AND FILES CALLED BY THIS FUNCTION: None\n",
    "    OBJECTS CREATED WITHIN THIS FUNCTION:\n",
    "    n = floating point, the dimension of v\n",
    "    norm = floating point, the 2-norm of v\n",
    "    FILES CREATED BY THIS FUNCTION: None,\n",
    "    RETURNS: norm\n",
    "    --------------------------------------------------------------------\n",
    "    \"\"\"\n",
    "    n = len(v)\n",
    "    norm=0\n",
    "    for i in range(0,n):\n",
    "        norm = norm+v[i]**2\n",
    "        norm=norm**.5\n",
    "    return norm\n",
    "\n",
    "# Read in data\n",
    "X = np.loadtxt('matrix_data.txt')\n",
    "\n",
    "#get eigenvalues\n",
    "evals = linalg.eig(X)[0]\n",
    "#Take absolute value\n",
    "absevals = abs(evals)\n",
    "#find r(X)\n",
    "rX = max(absevals)\n",
    "\n",
    "#point where we stop with i\n",
    "stop = 50000\n",
    "\n",
    "#pick arbitrary test vector v\n",
    "v = np.zeros(10)\n",
    "for j in range(10):\n",
    "    v[j] = j\n",
    "v += 1\n",
    "\n",
    "\n",
    "print(\"Should be a number:\", twonorm(v))\n",
    "#compute the functions at iterations\n",
    "#choose tolerance\n",
    "tol = .001\n",
    "\n",
    "iter = 0\n",
    "difference = 10\n",
    "while difference > tol and iter < 20000:\n",
    "    out = twonorm(np.matmul( LA.matrix_power(X, iter+1), v) ) ** ( 1 / (iter+1) )\n",
    "    difference = out - rX\n",
    "    iter += 1 \n",
    "    print\n",
    "print(\"Difference =\", difference, \"after\", iter ,\"iterations\" )\n"
   ]
  },
  {
   "cell_type": "markdown",
   "metadata": {},
   "source": [
    "And you'll see that the difference between the thing we want to converge and r(X) goes to zero for any vector chosen.\n"
   ]
  },
  {
   "cell_type": "markdown",
   "metadata": {},
   "source": [
    "## Exercise 2"
   ]
  },
  {
   "cell_type": "code",
   "execution_count": 77,
   "metadata": {},
   "outputs": [],
   "source": [
    "#\n",
    "\n",
    "def nextx(x):\n",
    "    ''' \n",
    "    This function takes as its argument the last x_t and outputs\n",
    "    (x_t+1) according to the quadratic map.\n",
    "    '''\n",
    "    xnew = 4 * x * (1 - x) \n",
    "    return xnew\n",
    "\n",
    "def generate(slength, numx):\n",
    "    '''\n",
    "    This function generates the numx time series of length slength\n",
    "    following the quadratic map. The inital x values are drawn from \n",
    "    a uniform distribution on (0, 1)\n",
    "    '''\n",
    "    # Generate initial xs\n",
    "    x = rand.uniform(0, 1, numx)\n",
    "    # initialize timeseries (columns are individual series)\n",
    "    seriesmat = np.zeros((numx, slength))\n",
    "    for i in range(slength):\n",
    "        for j in range(numx): \n",
    "            seriesmat[i, j] = x[j]\n",
    "        x = nextx(x)\n",
    "    return seriesmat\n",
    "\n",
    "generate(20, 20)\n",
    "\n",
    "@njit\n",
    "def generate_jitted(slength, numx):\n",
    "    '''\n",
    "    This function generates the numx time series of length slength\n",
    "    following the quadratic map. The inital x values are drawn from \n",
    "    a uniform distribution on (0, 1)\n",
    "    '''\n",
    "    # Generate initial xs\n",
    "    x = rand.uniform(0, 1, numx)\n",
    "    # initialize timeseries (columns are individual series)\n",
    "    seriesmat = np.zeros((numx, slength))\n",
    "    for i in range(slength):\n",
    "        for j in range(numx): \n",
    "            seriesmat[i, j] = x[j]\n",
    "        x = nextx(x)\n",
    "    return seriesmat\n",
    "\n",
    "plt.plot()"
   ]
  },
  {
   "cell_type": "markdown",
   "metadata": {},
   "source": [
    "## Exercise 3"
   ]
  },
  {
   "cell_type": "markdown",
   "metadata": {},
   "source": [
    "I will employ the following fact: *If $g$ is continuous at $\\hat{x}$, there exists a ball $B_\\delta(\\hat{x})$ such that for $x \\in B_\\delta(\\hat{x})$, $g$ is continuous at $x$*.\n",
    "\n",
    "Now, if $g_t(x)$ converges to $g(\\hat{x})$, it must eventually (say, for $t>T$) get inside this ball $B_\\delta(\\hat{x})$, so $t>T \\implies g_t(x) \\in B_\\delta(\\hat{x}) \\implies g$ is continuous at $g_t(x)$. And as $t$ goes to infinity, we will always be inside this special ball where we can pass limits in and out of $g$. \n",
    "\n",
    "We can do the rest in one line.\n",
    "\n",
    "$$\n",
    "\\hat{x} = lim_{t \\to \\infty} g_t(x) = g(lim_{t \\to \\infty} g_{t-1} (x)) = g(\\hat{x})\n",
    "$$\n",
    "\n",
    "Good work on this one Jaehyung, Albi, and Alex!"
   ]
  },
  {
   "cell_type": "code",
   "execution_count": null,
   "metadata": {},
   "outputs": [],
   "source": []
  }
 ],
 "metadata": {
  "kernelspec": {
   "display_name": "Python 3",
   "language": "python",
   "name": "python3"
  },
  "language_info": {
   "codemirror_mode": {
    "name": "ipython",
    "version": 3
   },
   "file_extension": ".py",
   "mimetype": "text/x-python",
   "name": "python",
   "nbconvert_exporter": "python",
   "pygments_lexer": "ipython3",
   "version": "3.6.5"
  }
 },
 "nbformat": 4,
 "nbformat_minor": 2
}
