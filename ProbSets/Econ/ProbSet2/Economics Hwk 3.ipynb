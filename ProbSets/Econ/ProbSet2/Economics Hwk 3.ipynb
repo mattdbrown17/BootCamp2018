{
 "cells": [
  {
   "cell_type": "markdown",
   "metadata": {},
   "source": [
    "## Problem 1"
   ]
  },
  {
   "cell_type": "code",
   "execution_count": 1,
   "metadata": {},
   "outputs": [],
   "source": [
    "import numpy as np\n",
    "import quantecon as qe\n",
    "import matplotlib.pyplot as plt"
   ]
  },
  {
   "cell_type": "code",
   "execution_count": 55,
   "metadata": {},
   "outputs": [
    {
     "name": "stdout",
     "output_type": "stream",
     "text": [
      "The stationary distribution is [[0.20254451 0.20379879 0.20742102 0.19505842 0.09287832 0.0503871\n",
      "  0.03932382 0.00858802]]\n"
     ]
    },
    {
     "data": {
      "text/plain": [
       "<StemContainer object of 3 artists>"
      ]
     },
     "execution_count": 55,
     "metadata": {},
     "output_type": "execute_result"
    },
    {
     "data": {
      "image/png": "[encoded data removed]",
      "text/plain": [
       "<Figure size 432x288 with 1 Axes>"
      ]
     },
     "metadata": {},
     "output_type": "display_data"
    }
   ],
   "source": [
    "# Define Probability Transition Matrix\n",
    "\n",
    "\n",
    "P = [[0.222, 0.222, 0.215, 0.187, 0.081, 0.038, 0.029, 0.006],\n",
    "     [0.221, 0.220, 0.215, 0.188, 0.082, 0.039, 0.029, 0.006],\n",
    "     [0.207, 0.209, 0.210, 0.194, 0.090, 0.046, 0.036, 0.008],\n",
    "     [0.198, 0.201, 0.207, 0.198, 0.095, 0.052, 0.040, 0.009],\n",
    "     [0.175, 0.178, 0.197, 0.207, 0.110, 0.067, 0.054, 0.012],\n",
    "     [0.182, 0.184, 0.200, 0.205, 0.106, 0.062, 0.050, 0.011],\n",
    "     [0.123, 0.125, 0.166, 0.216, 0.141, 0.114, 0.094, 0.021],\n",
    "     [0.084, 0.084, 0.142, 0.228, 0.170, 0.143, 0.121, 0.028]]\n",
    "\n",
    "#Compute Stationary Distributions\n",
    "P = qe.markov.core.MarkovChain(P)\n",
    "print(\"The stationary distribution is\", P.stationary_distributions)\n",
    "\n",
    "plt.stem(P.stationary_distributions.flatten())\n",
    "# Figure out how to plot this ***"
   ]
  },
  {
   "cell_type": "markdown",
   "metadata": {},
   "source": [
    "## Exercise 2"
   ]
  },
  {
   "cell_type": "code",
   "execution_count": 75,
   "metadata": {},
   "outputs": [
    {
     "name": "stdout",
     "output_type": "stream",
     "text": [
      "The stationary distribution is [0.20284 0.20383 0.20751 0.19388 0.09351 0.05031 0.03931 0.00881]\n"
     ]
    },
    {
     "data": {
      "text/plain": [
       "<StemContainer object of 3 artists>"
      ]
     },
     "execution_count": 75,
     "metadata": {},
     "output_type": "execute_result"
    },
    {
     "data": {
      "image/png": "[encoded data removed]",
      "text/plain": [
       "<Figure size 432x288 with 1 Axes>"
      ]
     },
     "metadata": {},
     "output_type": "display_data"
    }
   ],
   "source": [
    "K = P.simulate(100000)\n",
    "Distrib = np.zeros(8)\n",
    "for i in range(8):\n",
    "    Distrib[i] = 0\n",
    "    Distrib[i] = len(K[K == i])/len(K)\n",
    "\n",
    "print(\"The stationary distribution is\", Distrib)\n",
    "plt.stem(Distrib)\n"
   ]
  },
  {
   "cell_type": "markdown",
   "metadata": {},
   "source": [
    "Which is close enough to exercise 1's plot"
   ]
  },
  {
   "cell_type": "markdown",
   "metadata": {},
   "source": [
    "## Exercise 3"
   ]
  },
  {
   "cell_type": "code",
   "execution_count": 46,
   "metadata": {},
   "outputs": [
    {
     "name": "stdout",
     "output_type": "stream",
     "text": [
      "[[3 2 5 ... 3 6 4]\n",
      " [1 0 0 ... 1 2 2]\n",
      " [4 4 0 ... 0 1 1]\n",
      " ...\n",
      " [5 0 5 ... 3 2 1]\n",
      " [1 0 2 ... 3 4 5]\n",
      " [7 6 3 ... 2 2 6]]\n"
     ]
    },
    {
     "data": {
      "text/plain": [
       "(array([2034., 2060., 2000., 2009.,  953.,  463.,  408.,   73.]),\n",
       " array([0.   , 0.875, 1.75 , 2.625, 3.5  , 4.375, 5.25 , 6.125, 7.   ]),\n",
       " <a list of 8 Patch objects>)"
      ]
     },
     "execution_count": 46,
     "metadata": {},
     "output_type": "execute_result"
    },
    {
     "data": {
      "image/png": "[encoded data removed]",
      "text/plain": [
       "<Figure size 432x288 with 1 Axes>"
      ]
     },
     "metadata": {},
     "output_type": "display_data"
    }
   ],
   "source": [
    "\n",
    "K=P.simulate(ts_length=10000, num_reps = 10000).T\n",
    "\n",
    "print(K)\n",
    "\n",
    "plt.hist(K[-1, :], bins = 8)"
   ]
  },
  {
   "cell_type": "markdown",
   "metadata": {},
   "source": [
    "Which is close enough to exercise 1's plot"
   ]
  },
  {
   "cell_type": "code",
   "execution_count": null,
   "metadata": {},
   "outputs": [],
   "source": []
  }
 ],
 "metadata": {
  "kernelspec": {
   "display_name": "Python 3",
   "language": "python",
   "name": "python3"
  },
  "language_info": {
   "codemirror_mode": {
    "name": "ipython",
    "version": 3
   },
   "file_extension": ".py",
   "mimetype": "text/x-python",
   "name": "python",
   "nbconvert_exporter": "python",
   "pygments_lexer": "ipython3",
   "version": "3.6.5"
  }
 },
 "nbformat": 4,
 "nbformat_minor": 2
}
