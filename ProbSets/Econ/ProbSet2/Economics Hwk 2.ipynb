{
 "cells": [
  {
   "cell_type": "markdown",
   "metadata": {},
   "source": [
    "## Exercise 1"
   ]
  },
  {
   "cell_type": "code",
   "execution_count": 108,
   "metadata": {},
   "outputs": [],
   "source": [
    "import numpy as np\n",
    "from numpy import random as rand\n",
    "from matplotlib import pyplot as plt\n",
    "from numba import njit\n",
    "from scipy import stats "
   ]
  },
  {
   "cell_type": "code",
   "execution_count": 156,
   "metadata": {},
   "outputs": [
    {
     "name": "stdout",
     "output_type": "stream",
     "text": [
      "5000\n"
     ]
    },
    {
     "data": {
      "text/plain": [
       "[<matplotlib.lines.Line2D at 0x2c2c3073240>]"
      ]
     },
     "execution_count": 156,
     "metadata": {},
     "output_type": "execute_result"
    },
    {
     "data": {
      "image/png": "[encoded data removed]",
      "text/plain": [
       "<Figure size 432x288 with 1 Axes>"
      ]
     },
     "metadata": {},
     "output_type": "display_data"
    }
   ],
   "source": [
    "# Define function which yields silverman's constant\n",
    "@njit\n",
    "def silverman(sigma, n):\n",
    "    '''\n",
    "    A function which takes as input sigma = standard deviation of\n",
    "    data and n = count of data, and outputs silverman's constant\n",
    "    '''\n",
    "    s = ( (4 * sigma ** 5) / (3 * n) ) ** .2\n",
    "    return s\n",
    "\n",
    "\n",
    "# Define function which evaluates gaussian kernel\n",
    "@njit\n",
    "def gauss(mu, sigmasq, x):\n",
    "    '''\n",
    "    A function which takes as input a point x and parameters mu and \n",
    "    sigmasq and outputs the density of the gaussian kernel with mean \n",
    "    mu and variance sigmasq at that point.\n",
    "    Important note, sigmasq is variance not std deviation.\n",
    "    '''\n",
    "    g = ( 1 / (2 * np.pi * sigmasq) ) * np.exp( -( (x - mu) ** 2 / (2 * sigmasq) )  )\n",
    "    return g\n",
    "\n",
    "# Define function which evaluates the sum from the notebook \n",
    "@njit\n",
    "def sumgauss(x, X, mean, var, h):\n",
    "    '''\n",
    "    This function evaluates the sum that is defined in the \n",
    "    jupyter notebook for a point x with respect to a set of \n",
    "    data X (x is not necessarily in X), with a given parameter\n",
    "    h. Output is exactly that sum.\n",
    "    \n",
    "    I must include mean and var as arguments rather than calcuate\n",
    "    them withi the function because I'm going to @njit this func.\n",
    "    '''\n",
    "    s = 0\n",
    "    for i in range(len(X)):\n",
    "        s += gauss(mean, var, (x - X[i] / h) ) \n",
    "    return s\n",
    "\n",
    "# Define Kernel Density Estimator class\n",
    "class KDE:\n",
    "    '''\n",
    "    A class that estimates the density function of a given dataset\n",
    "    using the gaussian kernel as a guide. Has a data attribute and a \n",
    "    bandwidth attribute.\n",
    "    Attributes:\n",
    "    data (1xn array) = data points drawn from some unknown \n",
    "    distribution \n",
    "    bandwidth (float) = parameter \n",
    "    '''\n",
    "    def __init__(self, data, bandwidth='silverman'):\n",
    "        self.data = data\n",
    "        self.mean = self.data.mean()\n",
    "        self.var = self.data.var()\n",
    "        self.n = len(self.data)\n",
    "        # Default to silverman's constant\n",
    "        if bandwidth == 'silverman':\n",
    "            self.bandwidth = silverman(self.var, self.n)\n",
    "        else:\n",
    "            self.bandwidth = bandwidth\n",
    "    \n",
    "    #Method for kernel estimation\n",
    "    def f(self, x):\n",
    "        cumul = 0\n",
    "        #Evaluate sumgauss at x and multiply by factor.\n",
    "        out = (1 / (self.bandwidth * self.n) ) * sumgauss(x, self.data, self.mean, self.var, self.bandwidth)\n",
    "        return out\n",
    "\n",
    "#Define xgrid and function to estimate kernel.\n",
    "xgrid = np.linspace(-10, 10, 5000)\n",
    "outgrid = np.zeros(5000)\n",
    "print(len(xgrid))\n",
    "\n",
    "def kergrid(xgrid, KDE):\n",
    "    '''\n",
    "    Function designed generate an xgrid and apply the kernel \n",
    "    estimator to its points. Parameters are the xgrid and a KDE object\n",
    "    (which is a sample that we're trying to estimate the density of). \n",
    "    Output is a grid that is the KDE function applied to the xgrid\n",
    "    '''\n",
    "    for i in range(len(xgrid)):\n",
    "        outgrid[i] = KDE.f(xgrid[i])\n",
    "    return outgrid\n",
    "\n",
    "# Now begin testing it on some test data.\n",
    "n = 1000 #number of elements in beta sample\n",
    "\n",
    "# Beta Distribution: Alpha = 2, Beta = 2\n",
    "X = rand.randn(1000)\n",
    "kX = KDE(X)\n",
    "#plt.hist(X, bins = 20)\n",
    "est = kergrid(xgrid, kX)\n",
    "plt.plot(xgrid, est, color = 'y')\n",
    "\n",
    "# Beta Distribution: Alpha = 1, Beta = 5\n",
    "#X = rand.beta(1, 5, n)\n",
    "\n",
    "# Beta Distribution: Alpha = .5, Beta = .5\n",
    "#X = rand.beta(.5, .5, n)\n",
    "\n",
    "\n",
    "        "
   ]
  },
  {
   "cell_type": "code",
   "execution_count": null,
   "metadata": {},
   "outputs": [],
   "source": []
  },
  {
   "cell_type": "markdown",
   "metadata": {},
   "source": [
    "## Exercise 2\n",
    "This is not bad:\\begin{proof\n",
    "If I can show that $||A|| < 1$, then I am done. By Gelfand's formula, $||A^k||^{\\frac{1}{k}} \\to r(A)<1$. And submultiplicativity gives us that for all $k \\in \\mathbb{N} $ $||A|| = ||(A^k)^{\\frac{1}{k}}|| \\leq ||A^k||^{\\frac{1}{k}}$ which is less than 1 for sufficiently large k."
   ]
  },
  {
   "cell_type": "code",
   "execution_count": null,
   "metadata": {},
   "outputs": [],
   "source": []
  }
 ],
 "metadata": {
  "kernelspec": {
   "display_name": "Python 3",
   "language": "python",
   "name": "python3"
  },
  "language_info": {
   "codemirror_mode": {
    "name": "ipython",
    "version": 3
   },
   "file_extension": ".py",
   "mimetype": "text/x-python",
   "name": "python",
   "nbconvert_exporter": "python",
   "pygments_lexer": "ipython3",
   "version": "3.6.5"
  }
 },
 "nbformat": 4,
 "nbformat_minor": 2
}
