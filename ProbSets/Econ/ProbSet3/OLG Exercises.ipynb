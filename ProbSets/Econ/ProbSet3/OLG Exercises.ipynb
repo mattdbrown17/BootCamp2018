{
 "cells": [
  {
   "cell_type": "code",
   "execution_count": 1,
   "metadata": {},
   "outputs": [],
   "source": [
    "import numpy as np\n",
    "from scipy import optimize as opt\n",
    "import time\n",
    "from matplotlib import pyplot as plt\n",
    "from scipy import linalg as la"
   ]
  },
  {
   "cell_type": "markdown",
   "metadata": {},
   "source": [
    "## Exercise 1"
   ]
  },
  {
   "cell_type": "code",
   "execution_count": 2,
   "metadata": {},
   "outputs": [
    {
     "name": "stdout",
     "output_type": "stream",
     "text": [
      "test for (a) (0.65, -0.2915, (True, False), (True, False, False), False)\n",
      "test for (b) (0.18317391275691647, 3.036307374780331, (False, False), (False, False, False), False)\n",
      "test for (c) (0.28081863036662547, 1.021810349094628, (False, False), (False, False, False), False)\n"
     ]
    }
   ],
   "source": [
    "## First I'll define some useful functions for the 3-period model.\n",
    "def get_w(bvec, argsw):\n",
    "    '''\n",
    "    bvec is a 2-element list, the savings b_2t and b_3t.\n",
    "    argsw is a parameters vector [nvec, A, alpha]\n",
    "    Output is w_t the equilibrium wage rate\n",
    "    '''\n",
    "    nvec, A, alpha = argsw\n",
    "    w = (1 - alpha) * A * ((bvec[0] + bvec[1]) / np.sum(nvec)) ** alpha\n",
    "    return w\n",
    "\n",
    "def get_r(bvec, argsr):\n",
    "    '''\n",
    "    bvec is a 2-element list, the savings b_2t and b_3t.\n",
    "    argsw is a parameters vector [nvec, A, alpha, delta]\n",
    "    Output is r_t the equilibrium intrest rate\n",
    "    '''\n",
    "    nvec, A, alpha, delta = argsr\n",
    "    r = alpha * A * (np.sum(nvec) / (bvec[0] +bvec[1])) ** (1 - alpha) - delta\n",
    "    return r\n",
    "\n",
    "def feasible(f_params, bvec_guess):\n",
    "    '''\n",
    "    fparams is a prameter vector [nvec, A, alpha, delta]\n",
    "    bvec_guess is the guess for bvec (steady-state savings vector)\n",
    "    '''\n",
    "    nvec, A, alpha, delta = f_params\n",
    "    w = get_w(bvec_guess, [nvec, A, alpha])\n",
    "    r = get_r(bvec_guess, [nvec, A, alpha, delta])\n",
    "    #print('w', w, 'r', r)\n",
    "    b_2, b_3 = bvec_guess[0], bvec_guess[0]\n",
    "    n_1, n_2, n_3 = nvec[0], nvec[1], nvec[2]\n",
    "    # K_cnstr = True if capital is <= 0.\n",
    "    K_cnstr = (b_2 + b_3 <= 0)\n",
    "    # c_cnstr = True if Consumption <= 0.\n",
    "    # I get these by plugging into the budget constraints.\n",
    "    c_1 = w * n_1 - b_2\n",
    "    c_2 = b_2 * (1+r) + w * n_2 - b_3\n",
    "    c_3 = b_3 * (1+r) + w * n_3\n",
    "    #print('c1', c_1, 'c2', c_2, 'c3', c_3)\n",
    "    c_cnstr = ((c_1 <= 0), (c_2 <= 0), (c_3 <= 0))\n",
    "    b_cnstr = ((c_cnstr[0] == True | c_cnstr[1] == True), (c_cnstr[1] == True | c_cnstr[2] == True))\n",
    "    return w, r, b_cnstr, c_cnstr, K_cnstr\n",
    "\n",
    "print(\"test for (a)\", feasible([[1, 1, .2], 1, .35, .6415], [1.0, 1.2]))\n",
    "print(\"test for (b)\", feasible([[1, 1, .2], 1, .35, .6415], [.06, -.001]))\n",
    "print(\"test for (c)\", feasible([[1, 1, .2], 1, .35, .6415], [.1, .1]))"
   ]
  },
  {
   "cell_type": "markdown",
   "metadata": {},
   "source": [
    "In (a) and (b), the first budget constraint of the household is violated. In (c), nothing is violated."
   ]
  },
  {
   "cell_type": "markdown",
   "metadata": {},
   "source": [
    "## Exercise 2"
   ]
  },
  {
   "cell_type": "code",
   "execution_count": 3,
   "metadata": {},
   "outputs": [
    {
     "data": {
      "image/png": "[encoded data removed]",
      "text/plain": [
       "<Figure size 432x288 with 1 Axes>"
      ]
     },
     "metadata": {},
     "output_type": "display_data"
    },
    {
     "name": "stdout",
     "output_type": "stream",
     "text": [
      "{'b_ss': array([0.01931262, 0.05841243]), 'c_ss': [0.18241332984586706, 0.2096142411367639, 0.2408765622579139], 'w_ss': 0.20172594930955895, 'r_ss': 2.433025771148647, 'K_ss': 0.07772504796372812, 'Y_ss': 0.6827647515092765, 'C_ss': 0.6329041332405448, 'EulErr_ss': array([-0.00253831,  0.0054862 ]), 'RCerr_ss': 9.020562075079397e-17, 'ss_time': 0.0009335462683535922}\n"
     ]
    },
    {
     "data": {
      "image/png": "[encoded data removed]",
      "text/plain": [
       "<Figure size 432x288 with 1 Axes>"
      ]
     },
     "metadata": {},
     "output_type": "display_data"
    },
    {
     "name": "stdout",
     "output_type": "stream",
     "text": [
      "{'b_ss': array([0.02818307, 0.07686099]), 'c_ss': [0.19597038673396155, 0.22863868705115642, 0.2666784110010002], 'w_ss': 0.22415346070701764, 'r_ss': 1.8863500166253273, 'K_ss': 0.10504406365960055, 'Y_ss': 0.7586732516237521, 'C_ss': 0.6912874847861181, 'EulErr_ss': array([ 0.05081364, -0.03801077]), 'RCerr_ss': 2.220446049250313e-16, 'ss_time': 0.2696395649537856}\n"
     ]
    }
   ],
   "source": [
    "def uprime(c, sigma):\n",
    "    '''\n",
    "    Input is some level of consumption and CRRE parameter sigma\n",
    "    uprime \n",
    "    '''\n",
    "    if c <= 1e-6:\n",
    "        uprime = 1e20\n",
    "    else:\n",
    "        uprime = c ** (- sigma)\n",
    "    return uprime\n",
    "#uprime()\n",
    "\n",
    "def euler_errors(bvec, params):\n",
    "    '''\n",
    "    This function calculates the difference between the euler \n",
    "    equations for the age 1 householods and the age 2 households.\n",
    "    fparams is a prameter vector [nvec, A, alpha, delta]\n",
    "    bvec_guess is the guess for bvec\n",
    "    Output is eulerr = [diff1, diff2]\n",
    "    This is what we will try to set = 0 to optimize\n",
    "    '''\n",
    "    #Name things\n",
    "    nvec, A, alpha, delta, beta, sigma = params\n",
    "    w = get_w(bvec, [nvec, A, alpha])\n",
    "    r = get_r(bvec, [nvec, A, alpha, delta])\n",
    "    b_2, b_3 = bvec[0], bvec[1]\n",
    "    n_1, n_2, n_3 = nvec[0], nvec[1], nvec[2]\n",
    "    #Define Euler differences\n",
    "    eulerr1 = uprime((w - b_2), sigma) - beta * (1 + r) * uprime((w + (1 + r) * b_2 - b_3), sigma)\n",
    "    eulerr2 = uprime((w + (1 + r) * b_2 - b_3), sigma) - beta * (1+r) * uprime(((1 + r) * b_3 + n_3 * w), sigma)\n",
    "    return (eulerr1, eulerr2)\n",
    "\n",
    "#print(euler_errors([1.56e+7, 4.98e+22], [[1, 1, .2], 1, .35, .6415, .442, .3]))\n",
    "\n",
    "def c(bvec, nvec, w, r):\n",
    "    c1 = w * nvec[0] - bvec[0]\n",
    "    c2 = bvec[0] * (1+r) + w * nvec[1] - bvec[1]\n",
    "    c3 = bvec[1] * (1+r) + w * nvec[2]\n",
    "    cvec = [c1, c2, c3]\n",
    "    return cvec\n",
    "\n",
    "def get_SS(params, bvec_guess, SS_graphs=False):\n",
    "    '''\n",
    "    Inputs are the parameters for the model (defined below), an initial\n",
    "    guess of the steady sate savings, and a boolean withc tells me to\n",
    "    plot anything. Output ss_output has a variety of different factors\n",
    "    which are given in the definition.\n",
    "    '''\n",
    "    time.clock()\n",
    "    beta, sigma, nvec, L, A, alpha, delta, SS_tol = params\n",
    "    optimizer = opt.root(euler_errors, bvec_guess, args =[nvec, A, alpha, delta, beta, sigma], tol = SS_tol)\n",
    "    b_ss = optimizer.x\n",
    "    w_ss = get_w(b_ss, [nvec, A, alpha])\n",
    "    r_ss = get_r(b_ss, [nvec, A, alpha, delta])\n",
    "    c_ss = c(b_ss, nvec, w_ss, r_ss)\n",
    "    K_ss = np.sum(b_ss)\n",
    "    Y_ss = (A * K_ss ** alpha) * (L ** (1-alpha))\n",
    "    C_ss = np.sum(c_ss)\n",
    "    EulErr_ss = optimizer.fun\n",
    "    RCerr_ss = Y_ss - C_ss - delta * K_ss\n",
    "    ss_time = time.clock()\n",
    "    ss_output = {\n",
    "        'b_ss': b_ss, 'c_ss': c_ss, 'w_ss': w_ss, 'r_ss': r_ss,\n",
    "        'K_ss': K_ss, 'Y_ss': Y_ss, 'C_ss': C_ss,\n",
    "        'EulErr_ss': EulErr_ss, 'RCerr_ss': RCerr_ss,\n",
    "        'ss_time': ss_time}\n",
    "    if SS_graphs == True:\n",
    "        plt.barh([\"Young\", \"Middle Aged\", \"Old\"], c_ss)\n",
    "        plt.ylabel(\"Age group\")\n",
    "        plt.xlabel(\"Consumption at steady-state\")\n",
    "        plt.title(f\"Consumption by age group, beta = {beta}\")\n",
    "        plt.show()\n",
    "    return ss_output\n",
    "        \n",
    "#Run function\n",
    "params = [.442, 3, [1, 1, .2], 2.2, 1, .35, .6415, .01]\n",
    "bvec_guess = [.1,.1]\n",
    "print(get_SS(params, bvec_guess, SS_graphs = True))\n",
    "\n",
    "#Now with new beta\n",
    "params = [.55, 3, [1, 1, .2], 2.2, 1, .35, .6415, .01]\n",
    "print(get_SS(params, bvec_guess, SS_graphs = True))"
   ]
  },
  {
   "cell_type": "markdown",
   "metadata": {},
   "source": [
    "When we increase beta, we see that savings in both the young and middle-aged increases. Interestingly, so does consumption in all age groups, but the largest effect is in the old. Wages increase, and interst rates decrease."
   ]
  },
  {
   "cell_type": "markdown",
   "metadata": {},
   "source": [
    "## Exercise 3"
   ]
  },
  {
   "cell_type": "code",
   "execution_count": 4,
   "metadata": {},
   "outputs": [
    {
     "name": "stdout",
     "output_type": "stream",
     "text": [
      "SS, 0.019312619463691887 0.05841242850003624 0.07772504796372812\n",
      "Initial 0.01545009557095351 0.06425367135003987 0.07970376692099337\n"
     ]
    }
   ],
   "source": [
    "# Step 1/2/3: Get Parameters, initial state, and steady state.\n",
    "# params = beta, sigma, nvec, L, A, alpha, beta, tol\n",
    "beta = .442\n",
    "delta = .6415\n",
    "nvec = [1, 1, .2]\n",
    "L = 2.2\n",
    "A = 1\n",
    "alpha = .35\n",
    "sigma = 3\n",
    "T = 25\n",
    "tol = 1e-9\n",
    "\n",
    "params = [beta, sigma, nvec, L, A, alpha, delta, T, tol]\n",
    "\n",
    "#Get SS savings:\n",
    "b_ss = get_SS([beta, sigma, nvec, L, A, alpha, delta, .01], [.1,.1])['b_ss']\n",
    "b_2_ss = b_ss[0]\n",
    "b_3_ss = b_ss[1]\n",
    "K_ss = b_2_ss + b_3_ss\n",
    "#print(\"SS,\", b_2_ss, b_3_ss, K_ss)\n",
    "\n",
    "#Compute intial savings as required\n",
    "b_2_1 = 0.8*b_2_ss\n",
    "b_3_1 = 1.1*b_3_ss\n",
    "K_1 = b_2_1 + b_3_1\n",
    "#print(\"Initial\", b_2_1, b_3_1, K_1)\n",
    "b_i = [b_2_1, b_3_1]\n",
    "\n",
    "#Re-configure some functions to take K as arguments rather than b.\n",
    "def get_w3(K, argsw):\n",
    "    '''\n",
    "    K is the capital stock in the period.\n",
    "    argsw is a parameters vector [nvec, A, alpha]\n",
    "    Output is w_t the wage rate.\n",
    "    '''\n",
    "    nvec, A, alpha = argsw\n",
    "    w = (1 - alpha) * A * (K / np.sum(nvec)) ** alpha\n",
    "    return w\n",
    "\n",
    "def get_r3(K, argsr):\n",
    "    '''\n",
    "    K is the capital stock in the period.\n",
    "    argsw is a parameters vector [nvec, A, alpha, delta]\n",
    "    Output is r_t the intrest rate.\n",
    "    '''\n",
    "    nvec, A, alpha, delta = argsr\n",
    "    r = alpha * A * (np.sum(nvec) / K) ** (1 - alpha) - delta\n",
    "    return r\n",
    "\n",
    "def euler_errors3(bvec, params):\n",
    "    '''\n",
    "    This function calculates the difference between the euler \n",
    "    equations for the age 1 householods and the age 2 households.\n",
    "    fparams is a prameter vector [nvec, A, alpha, delta]\n",
    "    bvec_guess is the guess for bvec\n",
    "    Output is eulerr = [diff1, diff2]\n",
    "    This is what we will try to set = 0 to optimize Household decisions.\n",
    "    '''\n",
    "    #Name things\n",
    "    wvec, rvec, nvec, A, alpha, delta, beta, sigma = params\n",
    "    w_1, w_2, w_3 = wvec[0], wvec[1], wvec[2]\n",
    "    r_1, r_2, r_3 = rvec[0], rvec[1], rvec[2]\n",
    "    b_22, b_33 = bvec[0], bvec[1]\n",
    "    n_1, n_2, n_3 = nvec[0], nvec[1], nvec[2]\n",
    "    #Define Euler differences\n",
    "    eulerr1 = uprime((w_1 * n_1 - b_22), sigma) - beta * (1 + r_2) * uprime((w_2 * n_2 + (1 + r_2) * b_22 - b_33), sigma)\n",
    "    eulerr2 = uprime((w_2 * n_2 + (1 + r_2) * b_22 - b_33), sigma) - beta * (1+r_3) * uprime(((1 + r_3) * b_33 + n_3 * w_3), sigma)\n",
    "    return (eulerr1, eulerr2)\n",
    "\n",
    "\n",
    "#Step 4: Guess a Path between current state and steady state capital\n",
    "# My guess is just linear\n",
    "Kpath = np.linspace(K_1, K_ss, T)\n",
    "# I'll append 2 more observations at the steady-state.\n",
    "Kpath = np.append(Kpath, [Kpath[T-1], Kpath[T-1]])\n",
    "# Step 5: Solve for individual's lifetime decisons\n",
    "# Define some functions that let me do this.\n",
    "\n",
    "def solveHHpaths(b_i, Kpath, params):\n",
    "    '''\n",
    "    Function takes as input Kpath a capital path and params.\n",
    "    It solves for the optimal household savings decisions for\n",
    "    all households in all time periods given this capital path\n",
    "    (and rational expectations). Output is a matrix in which the\n",
    "    first column is all the b_2_t in order, second column is the\n",
    "    b_3_t. There is notably a hole here: I can't get b_32 in the \n",
    "    ordinary way, so I fill it in by using another function.\n",
    "    '''\n",
    "    beta, sigma, nvec, L, A, alpha, delta, T, tol = params\n",
    "    # Get rpath and wpath\n",
    "    r_path = get_r3(Kpath, [nvec, A, alpha, delta])\n",
    "    w_path = get_w3(Kpath, [nvec, A, alpha])\n",
    "    # Solve via twist donut: get b_2t, b_3(t+1):\n",
    "    #Initialize bmat\n",
    "    bmat = np.zeros((T+1, 2))\n",
    "    eulerr = np.zeros((T+1, 2))\n",
    "    bmat[0, 0] = b_i[0]\n",
    "    bmat[0, 1] = b_i[1]\n",
    "    for t in range (T-1):\n",
    "        # Set up params for euler_errors function (Test case: b_22, b_33)\n",
    "        # This should ge giving me w_t, w_t+1, w_t+2, and same for r.\n",
    "        wvect = w_path[t:t+3] \n",
    "        rvect = r_path[t:t+3]\n",
    "        eeparams = wvect, rvect, nvec, A, alpha, delta, beta, sigma\n",
    "        # Throw through a root finder.\n",
    "        bvec_guess = [b_2_ss, b_3_ss]\n",
    "        HHoptimizer = opt.root(euler_errors3, bvec_guess, args =[wvect, rvect, nvec, A, alpha, delta, beta, sigma], tol = .01)\n",
    "        bmat[t+1, 0] = HHoptimizer.x[0]\n",
    "        bmat[t+2, 1] = HHoptimizer.x[1]\n",
    "        #I'll include a matrix to track my errors.\n",
    "        eulerr[t+1, :] = HHoptimizer.fun\n",
    "    # Truncate (cut off T+1st row)\n",
    "    bmat = bmat[:-1, :]\n",
    "    # Add b_3_2\n",
    "    b_3_2 = solveHH32(Kpath, b_2_1, wvect, rvect, params)\n",
    "    bmat[1, 1] = b_3_2\n",
    "    return bmat, eulerr\n",
    "\n",
    "def euler_error_b32(b_3_2, params):\n",
    "    '''\n",
    "    This is the function that I'm maximizing over in the solveHH32\n",
    "    function. There's only one equation with one unknown, this time.\n",
    "    params = b_2_1, beta, sigma, nvec, L, A, alpha, delta, T, tol\n",
    "    '''\n",
    "    #Naming\n",
    "    b_2_1, wvec, rvec, beta, sigma, nvec, L, A, alpha, delta, T, tol = params\n",
    "    w_1, w_2, w_3 = wvec[0], wvec[1], wvec[2]\n",
    "    r_1, r_2, r_3 = rvec[0], rvec[1], rvec[2]\n",
    "    n_1, n_2, n_3 = nvec[0], nvec[1], nvec[2]\n",
    "    eulerr = uprime(w_1 * n_2 + (1 + r_1) * b_2_1 - b_3_2, sigma) - beta * (1 + r_2) * uprime((1+r_2)*b_3_2 + w_2 *n_3, sigma)\n",
    "    return eulerr\n",
    "\n",
    "def solveHH32(Kpath, b_2_1, wvec, rvec, params):\n",
    "    '''\n",
    "    This function is created to fill the hole in the output\n",
    "    of the earlier function and solve for b_32. Takes same\n",
    "    inputs, plus an additional input for knowing what is b_21. \n",
    "    Only output is the integer b_32.\n",
    "    '''\n",
    "    beta, sigma, nvec, L, A, alpha, delta, T, tol = params\n",
    "    b32_guess = b_3_ss\n",
    "    b32optimizer = opt.root(euler_error_b32, b32_guess, args = [b_2_1] + [wvec] + [rvec] + params, tol = .01)\n",
    "    return b32optimizer.x\n"
   ]
  },
  {
   "cell_type": "code",
   "execution_count": 53,
   "metadata": {},
   "outputs": [
    {
     "name": "stdout",
     "output_type": "stream",
     "text": [
      "Max Euler Error: 0.0036272300831683424 \n",
      "Max Resource Error: 0.017101882660571863 \n",
      " This resource error seems a bit high to me, I may have made a mistake somewhere.\n"
     ]
    },
    {
     "data": {
      "image/png": "[encoded data removed]",
      "text/plain": [
       "<Figure size 432x288 with 1 Axes>"
      ]
     },
     "metadata": {},
     "output_type": "display_data"
    },
    {
     "data": {
      "image/png": "[encoded data removed]",
      "text/plain": [
       "<Figure size 432x288 with 1 Axes>"
      ]
     },
     "metadata": {},
     "output_type": "display_data"
    },
    {
     "data": {
      "image/png": "[encoded data removed]",
      "text/plain": [
       "<Figure size 432x288 with 1 Axes>"
      ]
     },
     "metadata": {},
     "output_type": "display_data"
    },
    {
     "name": "stdout",
     "output_type": "stream",
     "text": [
      "(array([10, 11, 12, 13, 14, 15, 16, 17, 18, 19, 20, 21, 22, 23, 24, 25, 26],\n",
      "      dtype=int64),) \n",
      "We see from the above that at T = 10, the function gets within .00001 of the steady state capital, and it never leaves this window again.\n"
     ]
    }
   ],
   "source": [
    "'''\n",
    "Anyways. Now that I have functions which give me the new \n",
    "household paths, it is time to iterate through the capital \n",
    "paths until they converge.\n",
    "'''\n",
    "\n",
    "def Kprime(Bmat):\n",
    "    '''\n",
    "    Pulls a new capital path from Bmat, adding up the optimal\n",
    "    household savings for the young and the middle aged.\n",
    "    '''\n",
    "    Kprime = Bmat[:, 0] + Bmat[:, 1]\n",
    "    Kprime = np.append(Kprime, [Kprime[T-1], Kprime[T-1]])\n",
    "    return Kprime\n",
    "\n",
    "def Kiter(b_i, Kpath_guess, params, xi = .15, maxiter = 5000, tol = 1e-9):\n",
    "    '''\n",
    "    Iterates through successive capital paths until they \n",
    "    converge to a stable path. The function creates a bmatrix\n",
    "    of household decisions from each new path, from which it\n",
    "    draws a kprime. Then it checks the distance between k and\n",
    "    kprime. If they have not yet converged, it creates a new k\n",
    "    from a linear combination of k and kprime, and then repeats \n",
    "    the process\n",
    "    '''\n",
    "    beta, sigma, nvec, L, A, alpha, delta, T, tol = params\n",
    "    #Initialize things\n",
    "    Kdist = 5\n",
    "    iter = 1\n",
    "    Kpath = Kpath_guess\n",
    "    #Enter loop\n",
    "    while (Kdist > tol) & (iter<maxiter):\n",
    "        Bmat = solveHHpaths(b_i, Kpath, params)[0]\n",
    "        Kpr = Kprime(Bmat)\n",
    "        Kdist = la.norm(Kpath-Kpr)\n",
    "        #print(\"Iter =\", iter, \"Kdist =\", Kdist)\n",
    "        Kpath = Kpr * xi + (1- xi) * Kpath\n",
    "        iter += 1\n",
    "    Bmatfinal = solveHHpaths(b_i, Kpath, params)[0]\n",
    "    Eulerr = solveHHpaths(b_i, Kpath, params)[1]\n",
    "    Maxeuler = np.amax(abs(Eulerr))\n",
    "    Ypath = (A * Kpath ** alpha) * (L **(1-alpha))\n",
    "    Wpath = get_w3(Kpath, [nvec, A, alpha])\n",
    "    Rpath = get_r3(Kpath, [nvec, A, alpha, delta])\n",
    "    Cpath = conspath(Bmatfinal, Wpath, Rpath, params)\n",
    "    Rerrorpath = np.zeros(T)\n",
    "    for i in range(1, T):\n",
    "        Rerrorpath[i] = abs(Ypath[i] - Cpath[i] - Kpath[i+1] + (1 - delta) * Kpath[i])\n",
    "    Maxrerror = max(Rerrorpath)\n",
    "    Kiter_output = {\n",
    "        'Kpath': Kpath, 'Bmat': Bmatfinal, 'Ypath': Ypath,\n",
    "        'Wpath': Wpath, 'Rpath': Rpath, 'Maxeuler': Maxeuler, \n",
    "        'Cpath': Cpath, 'Rerrorpath': Rerrorpath, 'Maxrerror': Maxrerror}\n",
    "    return Kiter_output\n",
    "\n",
    "'''\n",
    "I need to define some more functions to learn about the \n",
    "error associated with this process.\n",
    "'''\n",
    "\n",
    "def conspath(Bmat, Wpath, Rpath, params):\n",
    "    '''\n",
    "    Given a Bmat, Wpath, and Rpath, defines a consumption\n",
    "    path.\n",
    "    '''\n",
    "    c_1path = np.zeros(T)\n",
    "    c_2path = np.zeros(T)\n",
    "    c_3path = np.zeros(T)\n",
    "    for i in range(1, T):\n",
    "        c_1path[i] = Wpath[i] * nvec[0] - Bmat[i, 0]\n",
    "        c_2path[i] = Wpath[i] * nvec[1] + (1+Rpath[i])*Bmat[i-1, 0] - Bmat[i, 1]\n",
    "        c_3path[i] = Wpath[i] * nvec[2] + (1+Rpath[i])*Bmat[i-1, 1]\n",
    "    Cpath = c_1path + c_2path + c_3path\n",
    "    return Cpath\n",
    "\n",
    "K_path_guess = Kpath                                                                       \n",
    "final = Kiter(b_i, K_path_guess, params)\n",
    "print(\"Max Euler Error:\", final['Maxeuler'], \"\\nMax Resource Error:\", final['Maxrerror'], \"\\n This resource error seems a bit high to me, I may have made a mistake somewhere.\")\n",
    "\n",
    "plt.plot(soln['Kpath'])\n",
    "plt.xlabel(\"T\")\n",
    "plt.ylabel(\"Capital\")\n",
    "plt.title(\"Capital over Time\")\n",
    "plt.show()\n",
    "\n",
    "plt.plot(soln['Wpath'])\n",
    "plt.xlabel(\"T\")\n",
    "plt.ylabel(\"Wage\")\n",
    "plt.title(\"Wage over Time\")\n",
    "plt.show()\n",
    "\n",
    "plt.plot(soln['Rpath'])\n",
    "plt.xlabel(\"T\")\n",
    "plt.ylabel(\"Intrest Rate\")\n",
    "plt.title(\"Intrest Rate over time\")\n",
    "plt.show()\n",
    "\n",
    "difference = abs(soln['Kpath'] - K_ss)\n",
    "print(np.where(difference < .00001), \"\\nWe see from the above that at T = 10, the function gets within .00001 of the steady state capital, and it never leaves this window again.\")"
   ]
  },
  {
   "cell_type": "code",
   "execution_count": null,
   "metadata": {},
   "outputs": [],
   "source": []
  },
  {
   "cell_type": "code",
   "execution_count": null,
   "metadata": {},
   "outputs": [],
   "source": []
  },
  {
   "cell_type": "code",
   "execution_count": null,
   "metadata": {},
   "outputs": [],
   "source": []
  }
 ],
 "metadata": {
  "kernelspec": {
   "display_name": "Python 3",
   "language": "python",
   "name": "python3"
  },
  "language_info": {
   "codemirror_mode": {
    "name": "ipython",
    "version": 3
   },
   "file_extension": ".py",
   "mimetype": "text/x-python",
   "name": "python",
   "nbconvert_exporter": "python",
   "pygments_lexer": "ipython3",
   "version": "3.6.5"
  }
 },
 "nbformat": 4,
 "nbformat_minor": 2
}
