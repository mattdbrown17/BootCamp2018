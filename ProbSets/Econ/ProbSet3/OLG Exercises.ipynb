{
 "cells": [
  {
   "cell_type": "code",
   "execution_count": 165,
   "metadata": {},
   "outputs": [],
   "source": [
    "import numpy as np\n",
    "from scipy import optimize as opt\n",
    "import time\n",
    "from matplotlib import pyplot as plt"
   ]
  },
  {
   "cell_type": "markdown",
   "metadata": {},
   "source": [
    "## Exercise 1"
   ]
  },
  {
   "cell_type": "code",
   "execution_count": 129,
   "metadata": {},
   "outputs": [
    {
     "name": "stdout",
     "output_type": "stream",
     "text": [
      "test for (a) (0.65, -0.2915, (True, False), (True, False, False), False)\n",
      "test for (b) (0.18317391275691647, 3.036307374780331, (False, False), (False, False, False), False)\n",
      "test for (c) (0.28081863036662547, 1.021810349094628, (False, False), (False, False, False), False)\n",
      "test for (c) (0.20106532128214416, 2.45181263510991, (False, False), (False, False, False), False)\n"
     ]
    }
   ],
   "source": [
    "## First I'll define some useful functions for the 3-period model.\n",
    "def get_w(bvec, argsw):\n",
    "    '''\n",
    "    bvec is a 2-element list, the savings b_2t and b_3t.\n",
    "    argsw is a parameters vector [nvec, A, alpha]\n",
    "    Output is w_t the equilibrium wage rate\n",
    "    '''\n",
    "    nvec, A, alpha = argsw\n",
    "    w = (1 - alpha) * A * ((bvec[0] + bvec[1]) / np.sum(nvec)) ** alpha\n",
    "    return w\n",
    "\n",
    "get_w([.5, .5],)\n",
    "def get_r(bvec, argsr):\n",
    "    '''\n",
    "    bvec is a 2-element list, the savings b_2t and b_3t.\n",
    "    argsw is a parameters vector [nvec, A, alpha, delta]\n",
    "    Output is r_t the equilibrium intrest rate\n",
    "    '''\n",
    "    nvec, A, alpha, delta = argsr\n",
    "    r = alpha * A * (np.sum(nvec) / (bvec[0] +bvec[1])) ** (1 - alpha) - delta\n",
    "    return r\n",
    "\n",
    "def feasible(f_params, bvec_guess):\n",
    "    '''\n",
    "    fparams is a prameter vector [nvec, A, alpha, delta]\n",
    "    bvec_guess is the guess for bvec (steady-state savings vector)\n",
    "    '''\n",
    "    nvec, A, alpha, delta = f_params\n",
    "    w = get_w(bvec_guess, [nvec, A, alpha])\n",
    "    r = get_r(bvec_guess, [nvec, A, alpha, delta])\n",
    "    #print('w', w, 'r', r)\n",
    "    b_2, b_3 = bvec_guess[0], bvec_guess[0]\n",
    "    n_1, n_2, n_3 = nvec[0], nvec[1], nvec[2]\n",
    "    # K_cnstr = True if capital is <= 0.\n",
    "    K_cnstr = (b_2 + b_3 <= 0)\n",
    "    # c_cnstr = True if Consumption <= 0.\n",
    "    # I get these by plugging into the budget constraints.\n",
    "    c_1 = w * n_1 - b_2\n",
    "    c_2 = b_2 * (1+r) + w * n_2 - b_3\n",
    "    c_3 = b_3 * (1+r) + w * n_3\n",
    "    #print('c1', c_1, 'c2', c_2, 'c3', c_3)\n",
    "    c_cnstr = ((c_1 <= 0), (c_2 <= 0), (c_3 <= 0))\n",
    "    b_cnstr = ((c_cnstr[0] == True | c_cnstr[1] == True), (c_cnstr[1] == True | c_cnstr[2] == True))\n",
    "    return w, r, b_cnstr, c_cnstr, K_cnstr\n",
    "\n",
    "print(\"test for (a)\", feasible([[1, 1, .2], 1, .35, .6415], [1.0, 1.2]))\n",
    "print(\"test for (b)\", feasible([[1, 1, .2], 1, .35, .6415], [.06, -.001]))\n",
    "print(\"test for (c)\", feasible([[1, 1, .2], 1, .35, .6415], [.1, .1]))\n",
    "print(\"test for (c)\", feasible([[1, 1, .2], 1, .35, .6415], [.019, .058]))"
   ]
  },
  {
   "cell_type": "markdown",
   "metadata": {},
   "source": [
    "In (a) and (b), the first budget constraint of the household is violated. In (c), nothing is violated."
   ]
  },
  {
   "cell_type": "markdown",
   "metadata": {},
   "source": [
    "## Exercise 2"
   ]
  },
  {
   "cell_type": "code",
   "execution_count": 193,
   "metadata": {},
   "outputs": [
    {
     "data": {
      "image/png": "[encoded data removed]",
      "text/plain": [
       "<Figure size 432x288 with 1 Axes>"
      ]
     },
     "metadata": {},
     "output_type": "display_data"
    },
    {
     "name": "stdout",
     "output_type": "stream",
     "text": [
      "{'b_ss': array([0.01931262, 0.05841243]), 'c_ss': [0.18241332984586706, 0.2096142411367639, 0.2408765622579139], 'w_ss': 0.20172594930955895, 'r_ss': 2.433025771148647, 'K_ss': 0.07772504796372812, 'Y_ss': 0.6827647515092765, 'C_ss': 0.6329041332405448, 'EulErr_ss': array([-0.00253831,  0.0054862 ]), 'RCerr_ss': 9.020562075079397e-17, 'ss_time': 1247.2287691823917}\n"
     ]
    },
    {
     "data": {
      "image/png": "[encoded data removed]",
      "text/plain": [
       "<Figure size 432x288 with 1 Axes>"
      ]
     },
     "metadata": {},
     "output_type": "display_data"
    },
    {
     "name": "stdout",
     "output_type": "stream",
     "text": [
      "{'b_ss': array([0.02818307, 0.07686099]), 'c_ss': [0.19597038673396155, 0.22863868705115642, 0.2666784110010002], 'w_ss': 0.22415346070701764, 'r_ss': 1.8863500166253273, 'K_ss': 0.10504406365960055, 'Y_ss': 0.7586732516237521, 'C_ss': 0.6912874847861181, 'EulErr_ss': array([ 0.05081364, -0.03801077]), 'RCerr_ss': 2.220446049250313e-16, 'ss_time': 1247.4366214670415}\n"
     ]
    }
   ],
   "source": [
    "def uprime(c, sigma):\n",
    "    '''\n",
    "    Input is some level of consumption and CRRE parameter sigma\n",
    "    uprime \n",
    "    '''\n",
    "    if c <= 1e-6:\n",
    "        uprime = 1e20\n",
    "    else:\n",
    "        uprime = c ** (- sigma)\n",
    "    return uprime\n",
    "#uprime()\n",
    "\n",
    "def euler_errors(bvec, params):\n",
    "    '''\n",
    "    This function calculates the difference between the euler \n",
    "    equations for the age 1 householods and the age 2 households.\n",
    "    fparams is a prameter vector [nvec, A, alpha, delta]\n",
    "    bvec_guess is the guess for bvec\n",
    "    Output is eulerr = [diff1, diff2]\n",
    "    This is what we will try to set = 0 to optimize\n",
    "    '''\n",
    "    #Name things\n",
    "    nvec, A, alpha, delta, beta, sigma = params\n",
    "    w = get_w(bvec, [nvec, A, alpha])\n",
    "    r = get_r(bvec, [nvec, A, alpha, delta])\n",
    "    b_2, b_3 = bvec[0], bvec[1]\n",
    "    n_1, n_2, n_3 = nvec[0], nvec[1], nvec[2]\n",
    "    #Define Euler differences\n",
    "    eulerr1 = uprime((w - b_2), sigma) - beta * (1 + r) * uprime((w + (1 + r) * b_2 - b_3), sigma)\n",
    "    eulerr2 = uprime((w + (1 + r) * b_2 - b_3), sigma) - beta * (1+r) * uprime(((1 + r) * b_3 + n_3 * w), sigma)\n",
    "    return (eulerr1, eulerr2)\n",
    "\n",
    "#print(euler_errors([1.56e+7, 4.98e+22], [[1, 1, .2], 1, .35, .6415, .442, .3]))\n",
    "\n",
    "def c(bvec, nvec, w, r):\n",
    "    c1 = w * nvec[0] - bvec[0]\n",
    "    c2 = bvec[0] * (1+r) + w * nvec[1] - bvec[1]\n",
    "    c3 = bvec[1] * (1+r) + w * nvec[2]\n",
    "    cvec = [c1, c2, c3]\n",
    "    return cvec\n",
    "\n",
    "def get_SS(params, bvec_guess, SS_graphs):\n",
    "    '''\n",
    "    Inputs are the parameters for the model (defined below), an initial\n",
    "    guess of the steady sate savings, and a boolean withc tells me to\n",
    "    plot anything. Output ss_output has a variety of different factors\n",
    "    which are given in the definition.\n",
    "    '''\n",
    "    time.clock()\n",
    "    beta, sigma, nvec, L, A, alpha, delta, SS_tol = params\n",
    "    optimizer = opt.root(euler_errors, bvec_guess, args =[nvec, A, alpha, delta, beta, sigma], tol = SS_tol)\n",
    "    b_ss = optimizer.x\n",
    "    w_ss = get_w(b_ss, [nvec, A, alpha])\n",
    "    r_ss = get_r(b_ss, [nvec, A, alpha, delta])\n",
    "    c_ss = c(b_ss, nvec, w_ss, r_ss)\n",
    "    K_ss = np.sum(b_ss)\n",
    "    Y_ss = (A * K_ss ** alpha) * (L ** (1-alpha))\n",
    "    C_ss = np.sum(c_ss)\n",
    "    EulErr_ss = optimizer.fun\n",
    "    RCerr_ss = Y_ss - C_ss - delta * K_ss\n",
    "    ss_time = time.clock()\n",
    "    ss_output = {\n",
    "        'b_ss': b_ss, 'c_ss': c_ss, 'w_ss': w_ss, 'r_ss': r_ss,\n",
    "        'K_ss': K_ss, 'Y_ss': Y_ss, 'C_ss': C_ss,\n",
    "        'EulErr_ss': EulErr_ss, 'RCerr_ss': RCerr_ss,\n",
    "        'ss_time': ss_time}\n",
    "    if SS_graphs == True:\n",
    "        plt.barh([\"Young\", \"Middle Aged\", \"Old\"], c_ss)\n",
    "        plt.ylabel(\"Age group\")\n",
    "        plt.xlabel(\"Consumption at steady-state\")\n",
    "        plt.title(f\"Consumption by age group, beta = {beta}\")\n",
    "        plt.show()\n",
    "    return ss_output\n",
    "        \n",
    "#Run function\n",
    "params = [.442, 3, [1, 1, .2], 2.2, 1, .35, .6415, .01]\n",
    "bvec_guess = [.1,.1]\n",
    "print(get_SS(params, bvec_guess, SS_graphs = True))\n",
    "\n",
    "#Now with new beta\n",
    "params = [.55, 3, [1, 1, .2], 2.2, 1, .35, .6415, .01]\n",
    "print(get_SS(params, bvec_guess, SS_graphs = True))"
   ]
  },
  {
   "cell_type": "markdown",
   "metadata": {},
   "source": [
    "When we increase beta, we see that savings in both the young and middle-aged increases. Interestingly, so does consumption in all age groups, but the largest effect is in the old. Wages increase, and interst rates decrease."
   ]
  },
  {
   "cell_type": "code",
   "execution_count": null,
   "metadata": {},
   "outputs": [],
   "source": []
  },
  {
   "cell_type": "code",
   "execution_count": null,
   "metadata": {},
   "outputs": [],
   "source": []
  },
  {
   "cell_type": "code",
   "execution_count": null,
   "metadata": {},
   "outputs": [],
   "source": []
  }
 ],
 "metadata": {
  "kernelspec": {
   "display_name": "Python 3",
   "language": "python",
   "name": "python3"
  },
  "language_info": {
   "codemirror_mode": {
    "name": "ipython",
    "version": 3
   },
   "file_extension": ".py",
   "mimetype": "text/x-python",
   "name": "python",
   "nbconvert_exporter": "python",
   "pygments_lexer": "ipython3",
   "version": "3.6.5"
  }
 },
 "nbformat": 4,
 "nbformat_minor": 2
}
