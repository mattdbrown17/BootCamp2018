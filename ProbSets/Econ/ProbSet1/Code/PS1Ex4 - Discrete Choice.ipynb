{
 "cells": [
  {
   "cell_type": "markdown",
   "metadata": {},
   "source": [
    "# PS1Ex4 - Discrete Choice"
   ]
  },
  {
   "cell_type": "markdown",
   "metadata": {},
   "source": [
    "I will once again modify my code from Exercise 2 to fit the discrete-choice problem, following Jason's methods."
   ]
  },
  {
   "cell_type": "code",
   "execution_count": 1,
   "metadata": {},
   "outputs": [],
   "source": [
    "import numpy as np\n",
    "import matplotlib.pyplot as plt\n",
    "%matplotlib inline"
   ]
  },
  {
   "cell_type": "markdown",
   "metadata": {},
   "source": [
    "## Step 1: Set Parameter Values"
   ]
  },
  {
   "cell_type": "markdown",
   "metadata": {},
   "source": [
    "Parameters:\n",
    "$$ \n",
    "\\beta = \\text{ Rate of time preference} \\\\\n",
    "b = \\text{ Unemployment benefits} \\\\\n",
    "\\mu = {Mean of log wages} \\\\\n",
    "\\sigma = {Standard deviation of wage draws\n",
    "$$"
   ]
  },
  {
   "cell_type": "code",
   "execution_count": 2,
   "metadata": {},
   "outputs": [],
   "source": [
    "# Declare Parameters\n",
    "beta = .96\n",
    "b = .05\n",
    "mu = 0\n",
    "sigma = .15"
   ]
  },
  {
   "cell_type": "code",
   "execution_count": null,
   "metadata": {},
   "outputs": [],
   "source": [
    "I also declare some functions:"
   ]
  },
  {
   "cell_type": "code",
   "execution_count": 11,
   "metadata": {},
   "outputs": [
    {
     "name": "stdout",
     "output_type": "stream",
     "text": [
      "47.99999999999996\n"
     ]
    }
   ],
   "source": [
    "def util(w):\n",
    "    '''\n",
    "    This function defines the lifetime utility that a worker will get \n",
    "    if they choose to take a job at wage w.\n",
    "    '''\n",
    "    u = w * ( beta / (1 - beta) )\n",
    "    return u\n",
    "\n",
    "print(util(2))"
   ]
  },
  {
   "cell_type": "markdown",
   "metadata": {},
   "source": [
    "## Step 2: Create Grid for State Space"
   ]
  },
  {
   "cell_type": "code",
   "execution_count": 18,
   "metadata": {},
   "outputs": [],
   "source": [
    "'''\n",
    "------------------------------------------------------------------------\n",
    "Create grid for possible wages:\n",
    "------------------------------------------------------------------------\n",
    "size_w = integer, number of grid points in wage state space\n",
    "w = 1 dimensional array, possible values for wage offered\n",
    "ln(w) = N(mu, sigma) \n",
    "------------------------------------------------------------------------\n",
    "'''\n",
    "size_w = 300\n",
    "\n",
    "x = np.random.normal(mu, sigma, size_w)\n",
    "w = np.exp(x)\n",
    "\n",
    "'''\n",
    "'''\n",
    "\n",
    "\n",
    "'''\n",
    "------------------------------------------------------------------------\n",
    "Create grid of current utility values    \n",
    "------------------------------------------------------------------------\n",
    "U        = 1 dimensional array, lifetime PDV of wages for all possible \n",
    "           wage offers (utility if job offer is accepted)\n",
    "EU       = Expected PDV of all wages in the future - approximated \n",
    "           by averaging U for all the wage offers in w (should get \n",
    "           us close enough)\n",
    "------------------------------------------------------------------------\n",
    "'''\n",
    "U = util(w)\n",
    "EU = np.zeros(size_w)\n",
    "eu = np.sum(U) / len(U)\n",
    "EU = EU + eu \n",
    "# probably woulda been better to use the \"islike\" numpy here..."
   ]
  },
  {
   "cell_type": "markdown",
   "metadata": {},
   "source": [
    "## Step 3: VFI"
   ]
  },
  {
   "cell_type": "code",
   "execution_count": null,
   "metadata": {},
   "outputs": [],
   "source": [
    "'''\n",
    "------------------------------------------------------------------------\n",
    "Value Function Iteration    \n",
    "------------------------------------------------------------------------\n",
    "VFtol       = scalar, tolerance required for value function to converge\n",
    "VFdist      = scalar, distance between last two value functions\n",
    "VFmaxiter   = integer, maximum number of iterations for value function\n",
    "V           = vector, the value functions at each iteration\n",
    "TV          = vector, the value function after applying the Bellman operator\n",
    "PF_discrete = vector, indicies of choice of take offer (=0) or wait (=1)\n",
    "              for all wage offers\n",
    "Vstore      = array, stores V at each iteration \n",
    "VFiter      = integer, current iteration number\n",
    "Utake       = vector, utility from accepting job now\n",
    "Uwait       = vector, utility from accepting job tomorrow\n",
    "VF          = vector, the \"true\" value function\n",
    "------------------------------------------------------------------------\n",
    "'''\n",
    "\n",
    "VFtol = 1e-6\n",
    "VFdist = 7.0\n",
    "VFmaxiter = 3000\n",
    "V = np.zeros((size_w)) #initial guess at value function\n",
    "PF_discrete = np.zeros(size_w) # initial guess at policy function\n",
    "Vmat = np.zeors(size_w)\n",
    "Vstore = np.zeros((size_w, VFmaxiter)) #initialize Vstore\n",
    "VFiter = 1\n",
    "while VFdist > VFtol and VFiter < VFmaxiter:\n",
    "    for i in range(size_w):\n",
    "        TV[i] = max(util())"
   ]
  }
 ],
 "metadata": {
  "kernelspec": {
   "display_name": "Python 3",
   "language": "python",
   "name": "python3"
  },
  "language_info": {
   "codemirror_mode": {
    "name": "ipython",
    "version": 3
   },
   "file_extension": ".py",
   "mimetype": "text/x-python",
   "name": "python",
   "nbconvert_exporter": "python",
   "pygments_lexer": "ipython3",
   "version": "3.6.5"
  }
 },
 "nbformat": 4,
 "nbformat_minor": 2
}
