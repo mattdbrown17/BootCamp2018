{
 "cells": [
  {
   "cell_type": "markdown",
   "metadata": {},
   "source": [
    "# PS1Ex4 - Discrete Choice"
   ]
  },
  {
   "cell_type": "markdown",
   "metadata": {},
   "source": [
    "I will once again modify my code from Exercise 2 to fit the discrete-choice problem, following Jason's methods.\n",
    "\n",
    "By the way, credit to Albi and Tim for basically writing the code for this and number 3... "
   ]
  },
  {
   "cell_type": "code",
   "execution_count": 18,
   "metadata": {},
   "outputs": [],
   "source": [
    "import numpy as np\n",
    "import matplotlib.pyplot as plt\n",
    "%matplotlib inline"
   ]
  },
  {
   "cell_type": "markdown",
   "metadata": {},
   "source": [
    "## Step 1: Set Parameter Values"
   ]
  },
  {
   "cell_type": "markdown",
   "metadata": {},
   "source": [
    "Parameters:\n",
    "$$ \n",
    "\\beta = \\text{ Rate of time preference} \\\\\n",
    "b = \\text{ Unemployment benefits} \\\\\n",
    "\\mu = {Mean of log wages} \\\\\n",
    "\\sigma = {Standard deviation of wage draws\n",
    "$$"
   ]
  },
  {
   "cell_type": "code",
   "execution_count": 12,
   "metadata": {},
   "outputs": [],
   "source": [
    "# Declare Parameters\n",
    "# Preference parameters\n",
    "beta = 0.96\n",
    "b = 0.05\n",
    "# Taste shock parameters: AR(1) process:\n",
    "mu = 0\n",
    "sigma = .15\n",
    "size_w = 50\n",
    "rho = 0"
   ]
  },
  {
   "cell_type": "code",
   "execution_count": null,
   "metadata": {},
   "outputs": [],
   "source": []
  },
  {
   "cell_type": "code",
   "execution_count": 13,
   "metadata": {},
   "outputs": [
    {
     "name": "stdout",
     "output_type": "stream",
     "text": [
      "47.99999999999996\n"
     ]
    }
   ],
   "source": [
    "def util(w):\n",
    "    '''\n",
    "    This function defines the lifetime utility that a worker will get \n",
    "    if they choose to take a job at wage w.\n",
    "    '''\n",
    "    u = w * ( beta / (1 - beta) )\n",
    "    return u\n",
    "\n",
    "print(util(2))"
   ]
  },
  {
   "cell_type": "markdown",
   "metadata": {},
   "source": [
    "## Step 2: Create Grid for State Space"
   ]
  },
  {
   "cell_type": "code",
   "execution_count": 14,
   "metadata": {},
   "outputs": [],
   "source": [
    "'''\n",
    "------------------------------------------------------------------------\n",
    "Create Grid for State Space\n",
    "------------------------------------------------------------------------\n",
    "size_w    = integer, number of grid points in state space\n",
    "w_grid    = vector, size_w x 1 vector of grid points\n",
    "------------------------------------------------------------------------\n",
    "'''\n",
    "\n",
    "import ar1_approx as ar1\n",
    "ln_w_grid, pi_t = ar1.addacooper(size_w, mu, rho, sigma)\n",
    "w_grid = np.exp(ln_w_grid)\n",
    "pi = np.transpose(pi_t)\n",
    "\n",
    "'''\n",
    "------------------------------------------------------------------------\n",
    "Create grid of current utility values    \n",
    "------------------------------------------------------------------------\n",
    "U        = 1 dimensional array, lifetime PDV of wages for all possible \n",
    "           wage offers (utility if job offer is accepted)\n",
    "------------------------------------------------------------------------\n",
    "'''\n",
    "U = np.zeros(size_w) \n",
    "for i in range(size_w): # loop over w\n",
    "        U[i] = (w_grid[i])/(1-beta)"
   ]
  },
  {
   "cell_type": "markdown",
   "metadata": {},
   "source": [
    "## Step 3: VFI"
   ]
  },
  {
   "cell_type": "code",
   "execution_count": 15,
   "metadata": {},
   "outputs": [
    {
     "name": "stdout",
     "output_type": "stream",
     "text": [
      "This is the distance:  7.0 1\n",
      "This is the distance:  35.94578546211266 2\n",
      "Value function converged after this many iterations: 3\n"
     ]
    }
   ],
   "source": [
    "'''\n",
    "------------------------------------------------------------------------\n",
    "Value Function Iteration    \n",
    "------------------------------------------------------------------------\n",
    "VFtol       = scalar, tolerance required for value function to converge\n",
    "VFdist      = scalar, distance between last two value functions\n",
    "VFmaxiter   = integer, maximum number of iterations for value function\n",
    "V           = vector, the value functions at each iteration\n",
    "TV          = vector, the value function after applying the Bellman operator\n",
    "PF_discrete = vector, indicies of choice of take offer (=0) or wait (=1)\n",
    "              for all wage offers\n",
    "Vstore      = array, stores V at each iteration \n",
    "VFiter      = integer, current iteration number\n",
    "U_emp       = vector, utility from taking the job now\n",
    "Vun         = vector, utility from waiting/not accepting job offer\n",
    "VF          = vector, the \"true\" value function\n",
    "------------------------------------------------------------------------\n",
    "'''\n",
    "VFtol = 1e-5 \n",
    "VFdist = 7.0 \n",
    "VFmaxiter = 500 \n",
    "V = np.zeros(size_w) # initial guess at value function\n",
    "TV = np.zeros(size_w)\n",
    "PF_discrete = np.zeros(size_w)\n",
    "Vstore = np.zeros((size_w, VFmaxiter)) #initialize Vstore array\n",
    "VFiter = 1 \n",
    "while VFdist > VFtol and VFiter < VFmaxiter:\n",
    "    print('This is the distance: ', VFdist, VFiter)\n",
    "    for i in range(size_w): # loop over w\n",
    "        EV = 0\n",
    "        for ii in range(size_w):  # loop over w\n",
    "            EV += pi[i, ii] * V[ii]   # note can move one space because of how we constructed grid\n",
    "        U_emp = U[i]\n",
    "        Vun = b + beta * EV \n",
    "        TV[i] = max(U_emp, Vun)\n",
    "        PF_discrete[i] = U_emp >= Vun  # = 1 if take job\n",
    "            \n",
    "    Vstore[:, VFiter] = TV # store value function at each iteration for graphing later \n",
    "    VFdist = (np.absolute(V - TV)).max()  # check distance\n",
    "    V = TV\n",
    "    VFiter += 1 \n",
    "\n",
    "if VFiter < VFmaxiter:\n",
    "    print('Value function converged after this many iterations:', VFiter)\n",
    "else:\n",
    "    print('Value function did not converge')            \n",
    "\n",
    "\n",
    "VF = V # solution to the functional equation"
   ]
  },
  {
   "cell_type": "code",
   "execution_count": 16,
   "metadata": {},
   "outputs": [
    {
     "name": "stdout",
     "output_type": "stream",
     "text": [
      "1.0347248144573558\n"
     ]
    }
   ],
   "source": [
    "'''\n",
    "------------------------------------------------------------------------\n",
    "Find threshold policy functions   \n",
    "------------------------------------------------------------------------\n",
    "'''\n",
    "threshold_w = w_grid[np.argmax(PF_discrete)]\n",
    "print(threshold_w)"
   ]
  },
  {
   "cell_type": "code",
   "execution_count": 20,
   "metadata": {},
   "outputs": [
    {
     "data": {
      "text/plain": [
       "<Figure size 432x288 with 0 Axes>"
      ]
     },
     "metadata": {},
     "output_type": "display_data"
    },
    {
     "data": {
      "image/png": "[encoded data removed]",
      "text/plain": [
       "<Figure size 432x288 with 1 Axes>"
      ]
     },
     "metadata": {},
     "output_type": "display_data"
    }
   ],
   "source": [
    "# Plot value function \n",
    "plt.figure()\n",
    "fig, ax = plt.subplots()\n",
    "ax.plot(w_grid[:], VF[:])\n",
    "# Set the fontsize\n",
    "plt.xlabel('Wage offer')\n",
    "plt.ylabel('Value Function')\n",
    "plt.title('Value Function - search model')\n",
    "plt.show()"
   ]
  },
  {
   "cell_type": "code",
   "execution_count": 21,
   "metadata": {},
   "outputs": [
    {
     "name": "stdout",
     "output_type": "stream",
     "text": [
      "This is the distance 7.0 1\n",
      "This is the distance 35.94578546211266 2\n",
      "Value function converged after this many iterations: 3\n",
      "This is the distance 7.0 1\n",
      "This is the distance 35.94578546211266 2\n",
      "Value function converged after this many iterations: 3\n",
      "This is the distance 7.0 1\n",
      "This is the distance 35.94578546211266 2\n",
      "Value function converged after this many iterations: 3\n",
      "This is the distance 7.0 1\n",
      "This is the distance 35.94578546211266 2\n",
      "Value function converged after this many iterations: 3\n",
      "This is the distance 7.0 1\n",
      "This is the distance 35.94578546211266 2\n",
      "Value function converged after this many iterations: 3\n",
      "This is the distance 7.0 1\n",
      "This is the distance 35.94578546211266 2\n",
      "Value function converged after this many iterations: 3\n",
      "This is the distance 7.0 1\n",
      "This is the distance 35.94578546211266 2\n",
      "Value function converged after this many iterations: 3\n",
      "This is the distance 7.0 1\n",
      "This is the distance 35.94578546211266 2\n",
      "Value function converged after this many iterations: 3\n",
      "This is the distance 7.0 1\n",
      "This is the distance 35.94578546211266 2\n",
      "Value function converged after this many iterations: 3\n",
      "This is the distance 7.0 1\n",
      "This is the distance 35.94578546211266 2\n",
      "Value function converged after this many iterations: 3\n",
      "This is the distance 7.0 1\n",
      "This is the distance 35.94578546211266 2\n",
      "Value function converged after this many iterations: 3\n",
      "This is the distance 7.0 1\n",
      "This is the distance 35.94578546211266 2\n",
      "Value function converged after this many iterations: 3\n",
      "This is the distance 7.0 1\n",
      "This is the distance 35.94578546211266 2\n",
      "Value function converged after this many iterations: 3\n",
      "This is the distance 7.0 1\n",
      "This is the distance 35.94578546211266 2\n",
      "Value function converged after this many iterations: 3\n",
      "This is the distance 7.0 1\n",
      "This is the distance 35.94578546211266 2\n",
      "Value function converged after this many iterations: 3\n",
      "This is the distance 7.0 1\n",
      "This is the distance 35.94578546211266 2\n",
      "Value function converged after this many iterations: 3\n",
      "This is the distance 7.0 1\n",
      "This is the distance 35.94578546211266 2\n",
      "Value function converged after this many iterations: 3\n",
      "This is the distance 7.0 1\n",
      "This is the distance 35.94578546211266 2\n",
      "Value function converged after this many iterations: 3\n",
      "This is the distance 7.0 1\n",
      "This is the distance 35.94578546211266 2\n",
      "Value function converged after this many iterations: 3\n",
      "This is the distance 7.0 1\n",
      "This is the distance 35.94578546211266 2\n",
      "Value function converged after this many iterations: 3\n"
     ]
    }
   ],
   "source": [
    "#Set grid of b\n",
    "grid_b = np.linspace(0.05, 1, 20)\n",
    "threshold_vec = np.zeros(20)\n",
    "\n",
    "#Begin for loop\n",
    "for q in range(20):\n",
    "\n",
    "    VFtol = 1e-8 \n",
    "    VFdist = 7.0 \n",
    "    VFmaxiter = 500 \n",
    "    V = np.zeros(size_w) # initial guess at value function\n",
    "    TV = np.zeros(size_w)\n",
    "    PF_discrete = np.zeros(size_w)\n",
    "    Vstore = np.zeros((size_w, VFmaxiter)) #initialize Vstore array\n",
    "    VFiter = 1 \n",
    "    while VFdist > VFtol and VFiter < VFmaxiter:\n",
    "        print('This is the distance', VFdist, VFiter)\n",
    "        for i in range(size_w): # loop over w\n",
    "            EV = 0\n",
    "            for ii in range(size_w):  # loop over w\n",
    "                EV += pi[i, ii] * V[ii]   # note can move one space because of how we constructed grid\n",
    "            U_emp = U[i]\n",
    "            Vun = grid_b[q] + beta * EV \n",
    "            TV[i] = max(U_emp, Vun)\n",
    "            PF_discrete[i] = U_emp >= Vun  # = 1 if take job\n",
    "            \n",
    "        Vstore[:, VFiter] = TV # store value function at each iteration for graphing later \n",
    "        VFdist = (np.absolute(V - TV)).max()  # check distance\n",
    "        V = TV\n",
    "        VFiter += 1 \n",
    "\n",
    "    if VFiter < VFmaxiter:\n",
    "        print('Value function converged after this many iterations:', VFiter)\n",
    "    else:\n",
    "        print('Value function did not converge')            \n",
    "\n",
    "\n",
    "    VF = V # solution to the functional equation\n",
    "    threshold_vec[q]=w_grid[np.argmax(PF_discrete)]"
   ]
  },
  {
   "cell_type": "code",
   "execution_count": 24,
   "metadata": {},
   "outputs": [
    {
     "name": "stdout",
     "output_type": "stream",
     "text": [
      "[1.03472481 1.03472481 1.04279291 1.04279291 1.05104386 1.05104386\n",
      " 1.05950847 1.05950847 1.05950847 1.06822176 1.06822176 1.07722417\n",
      " 1.07722417 1.08656302 1.08656302 1.08656302 1.09629462 1.09629462\n",
      " 1.10648704 1.10648704]\n"
     ]
    }
   ],
   "source": [
    "print(threshold_vec)"
   ]
  },
  {
   "cell_type": "code",
   "execution_count": 23,
   "metadata": {},
   "outputs": [
    {
     "data": {
      "text/plain": [
       "<Figure size 432x288 with 0 Axes>"
      ]
     },
     "metadata": {},
     "output_type": "display_data"
    },
    {
     "data": {
      "image/png": "[encoded data removed]",
      "text/plain": [
       "<Figure size 432x288 with 1 Axes>"
      ]
     },
     "metadata": {},
     "output_type": "display_data"
    }
   ],
   "source": [
    "# Plot resevation wage as function of benefits \n",
    "plt.figure()\n",
    "fig, ax = plt.subplots()\n",
    "ax.plot(grid_b[:], threshold_vec[:])\n",
    "plt.xlabel('Benefits')\n",
    "plt.ylabel('Threshold wage offer')\n",
    "plt.title('Threshold wage - search model')\n",
    "plt.show()"
   ]
  },
  {
   "cell_type": "code",
   "execution_count": null,
   "metadata": {},
   "outputs": [],
   "source": []
  }
 ],
 "metadata": {
  "kernelspec": {
   "display_name": "Python 3",
   "language": "python",
   "name": "python3"
  },
  "language_info": {
   "codemirror_mode": {
    "name": "ipython",
    "version": 3
   },
   "file_extension": ".py",
   "mimetype": "text/x-python",
   "name": "python",
   "nbconvert_exporter": "python",
   "pygments_lexer": "ipython3",
   "version": "3.6.5"
  }
 },
 "nbformat": 4,
 "nbformat_minor": 2
}
