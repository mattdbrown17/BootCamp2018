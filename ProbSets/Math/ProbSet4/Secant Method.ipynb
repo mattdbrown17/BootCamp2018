{
 "cells": [
  {
   "cell_type": "markdown",
   "metadata": {},
   "source": [
    "# The Secant Method"
   ]
  },
  {
   "cell_type": "code",
   "execution_count": 13,
   "metadata": {},
   "outputs": [],
   "source": [
    "import numpy as np"
   ]
  },
  {
   "cell_type": "code",
   "execution_count": 23,
   "metadata": {},
   "outputs": [],
   "source": [
    "def secant(f, init1, init2, tol=1e-5, fp=\"none\"):\n",
    "    '''\n",
    "    inputs are:\n",
    "        f: a function of one variable x\n",
    "        init1: an inital guess for x\n",
    "        init2: a second intial guess for x\n",
    "        tol: the tolerance\n",
    "        fp: the analytical derivative of f\n",
    "    If fp is not given, I will approximate the derivatives at each point.\n",
    "    \n",
    "    I use the secant method as outlined in 6.34 to produce a minimum.\n",
    "    The stopping condition is relative, and we iterate until\n",
    "    |xk - xkm1| < |xk|ϵ\n",
    "    '''\n",
    "    #Initialize variables\n",
    "    xkm1 = init1\n",
    "    xk = init2\n",
    "    xkp1 = 0\n",
    "    fpxkm1 = fp(xkm1) \n",
    "    fpxk = fp(xk)\n",
    "    iter = 0\n",
    "    reldist = 5\n",
    "    while (reldist > tol) & (iter < 1000):\n",
    "        #Calculate next xk\n",
    "        xkp1 = xk - fpxk * (xk - xkm1)/(fpxk - fpxkm1)\n",
    "        #Iterate\n",
    "        xkm1 = xk\n",
    "        fpxkm1 = fpxk\n",
    "        xk = xkp1\n",
    "        #Calculate next fpxk\n",
    "        fpxk = fp(xk)\n",
    "        reldist = np.abs(xk - xkm1)\n",
    "        iter += 1\n",
    "        print(\"At iteration\", iter, \"reldist is\", reldist)\n",
    "    xmin = xk\n",
    "    fxmin = f(xmin)\n",
    "    return xmin, fxmin"
   ]
  },
  {
   "cell_type": "code",
   "execution_count": 25,
   "metadata": {},
   "outputs": [
    {
     "name": "stdout",
     "output_type": "stream",
     "text": [
      "At iteration 1 reldist is 0.42122546713986386\n",
      "At iteration 2 reldist is 0.1434941432229775\n",
      "At iteration 3 reldist is 0.14057818669380762\n",
      "At iteration 4 reldist is 0.07548516947681394\n",
      "At iteration 5 reldist is 0.03777148510215678\n",
      "At iteration 6 reldist is 0.01088377823910669\n",
      "At iteration 7 reldist is 0.0013987473235248515\n",
      "At iteration 8 reldist is 4.524612419465335e-05\n",
      "At iteration 9 reldist is 1.712302744039107e-07\n",
      "0.7691176054472798 -6.491498708985022\n"
     ]
    }
   ],
   "source": [
    "#Define functions for testingL\n",
    "f = lambda x: x**5 + 2 * x**4 - x**3 - 3 * x **2 + x - 6\n",
    "fp = lambda x: 5*x**4 + 8*x**3 - 3*x**2 - 6*x + 1    \n",
    "init1 = 1.5\n",
    "init2 = 1.6\n",
    "\n",
    "xmin, fxmin = secant(f, init1, init2, fp=fp)\n",
    "print(xmin, fxmin)"
   ]
  },
  {
   "cell_type": "code",
   "execution_count": null,
   "metadata": {},
   "outputs": [],
   "source": []
  }
 ],
 "metadata": {
  "kernelspec": {
   "display_name": "Python 3",
   "language": "python",
   "name": "python3"
  },
  "language_info": {
   "codemirror_mode": {
    "name": "ipython",
    "version": 3
   },
   "file_extension": ".py",
   "mimetype": "text/x-python",
   "name": "python",
   "nbconvert_exporter": "python",
   "pygments_lexer": "ipython3",
   "version": "3.6.5"
  }
 },
 "nbformat": 4,
 "nbformat_minor": 2
}
