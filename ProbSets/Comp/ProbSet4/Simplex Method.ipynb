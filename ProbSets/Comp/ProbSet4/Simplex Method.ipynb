{
 "cells": [
  {
   "cell_type": "markdown",
   "metadata": {},
   "source": [
    "# Simplex Method"
   ]
  },
  {
   "cell_type": "code",
   "execution_count": 1,
   "metadata": {},
   "outputs": [],
   "source": [
    "import numpy as np"
   ]
  },
  {
   "cell_type": "markdown",
   "metadata": {},
   "source": [
    "## Exercises 1-6"
   ]
  },
  {
   "cell_type": "code",
   "execution_count": 109,
   "metadata": {},
   "outputs": [],
   "source": [
    "class LinOptProb:\n",
    "    '''\n",
    "    A Linear Optimization Problem Class. \n",
    "    \n",
    "    Attributes:\n",
    "    A = matrix of coefficients in constraint\n",
    "    b = Vector of constraint vals\n",
    "    c = Vector for objective function\n",
    "    L = vector of basic variables\n",
    "    M, N = shape of matrix A - define dimension\n",
    "    '''\n",
    "    def __init__(self, A, b, c):\n",
    "        self.A = A\n",
    "        self.b = b\n",
    "        self.c = c\n",
    "        #Define dimension\n",
    "        self.M = len(b)\n",
    "        self.N = len(c)\n",
    "        self.L = np.append(np.linspace(self.N, self.N+self.M-1, self.M), \\\n",
    "                           np.linspace(0, self.N-1, self.N))\n",
    "        self.L = np.array(self.L, dtype=int)\n",
    "        if np.min(b) < 0: \n",
    "            raise ValueError(\"Problem is not feasible at the origin. \\\n",
    "            Go solve an auxillary problem and come back later.\")\n",
    "    \n",
    "    def createtab(self):\n",
    "        '''\n",
    "        This method creates the initial tableau.\n",
    "        '''\n",
    "        Abar = np.hstack([self.A, np.eye(self.M)])\n",
    "        cbar = np.hstack([self.c, np.zeros(self.M)]) \n",
    "        top = np.hstack([np.array([0]), -cbar.T, np.array([1])])\n",
    "        bot = np.column_stack([self.b, Abar, np.zeros(self.M)])\n",
    "        init_tableau = np.vstack([top, bot])\n",
    "        self.tableau = init_tableau\n",
    "        \n",
    "    def plocator(self):\n",
    "        '''\n",
    "        This method locates the pivot column/row for the tableau\n",
    "        '''\n",
    "        entindex = np.argwhere(self.tableau[0,1:] < 0)[0]\n",
    "        #Create mask for positive values in entindex\n",
    "        pivcol = self.tableau[:, entindex+1].T\n",
    "        conscol = self.tableau[:, 0] \n",
    "        mask = pivcol <= 0    \n",
    "        pivcol[mask] = np.nan\n",
    "        leavindex = np.array([np.nanargmin(conscol/pivcol)])[0]\n",
    "        #The index above implements Bland's Rule!\n",
    "        return entindex, leavindex\n",
    "    \n",
    "    def pivot(self):\n",
    "        '''\n",
    "        Performs one pivot at the entindex and leavindex specified by\n",
    "        plocator. Note that the pivot takes place in the column \n",
    "        entindex+1 and the row leavindex.\n",
    "        '''\n",
    "        entindex, leavindex = self.plocator()\n",
    "        #Swap basic tracker around (weird indexing, I know...)\n",
    "        self.L[self.M + entindex], self.L[leavindex-1] = self.L[leavindex-1], self.L[self.M + entindex]\n",
    "        pval = self.tableau[leavindex, entindex+1]\n",
    "        #divide pivot row by pivotval\n",
    "        self.tableau[leavindex, :] = self.tableau[leavindex, :]/pval\n",
    "        #Zero out other columns.\n",
    "        for i in range(self.M+1):\n",
    "            if i == leavindex:\n",
    "                #Do nothing to the pivot-row\n",
    "                i == i\n",
    "            else:\n",
    "                #determine what factor for pivot row is necessary to zero.\n",
    "                factor = self.tableau[i,entindex+1]\n",
    "                self.tableau[i, :] = self.tableau[i, :] - factor * self.tableau[leavindex, :]\n",
    "                \n",
    "    def solve(self):\n",
    "        '''\n",
    "        Function pivots the tableau until it cannot pivot any more, and then\n",
    "        reads out the optimal values as a dictionary.\n",
    "        \n",
    "        NOTE: This only gives the right answer when you run it the *first* time...\n",
    "        Or on other \"odd numbered\" times.\n",
    "        '''\n",
    "        self.createtab()\n",
    "        #Define tracker which will switch to true when pivoting is done\n",
    "        check = (np.all(self.tableau[0,:] >= 0)) \n",
    "        while check==False:\n",
    "            self.pivot()\n",
    "            check = np.all(self.tableau[0,:] >= 0)\n",
    "        #Read out correct vals\n",
    "        maximizer = self.tableau[0,0]\n",
    "        basicdict = {}\n",
    "        for i in range(self.M):\n",
    "            basicdict[self.L[i]] = \\\n",
    "            np.round_(self.tableau[:,0].T @ self.tableau[:,self.L[i]+1], 3)\n",
    "        nonbasicdict = {}\n",
    "        for j in range(self.N):\n",
    "            nonbasicdict[self.L[self.M+j]] = 0\n",
    "        output = (maximizer, basicdict, nonbasicdict)\n",
    "        return output"
   ]
  },
  {
   "cell_type": "code",
   "execution_count": 110,
   "metadata": {},
   "outputs": [],
   "source": [
    "# Define testing matrices\n",
    "Atest = np.array([[1, -1], [3, 1], [4, 3]])\n",
    "btest = np.array([2, 5, 7])\n",
    "ctest = np.array([3, 2])\n",
    "\n",
    "#Initialize problem class\n",
    "Prob = LinOptProb(Atest, btest, ctest)"
   ]
  },
  {
   "cell_type": "code",
   "execution_count": 112,
   "metadata": {
    "scrolled": true
   },
   "outputs": [
    {
     "name": "stdout",
     "output_type": "stream",
     "text": [
      "(5.2, {2: 0.6, 0: 1.6, 1: 0.2}, {3: 0, 4: 0})\n"
     ]
    }
   ],
   "source": [
    "result = Prob.solve()\n",
    "print(result)"
   ]
  },
  {
   "cell_type": "markdown",
   "metadata": {},
   "source": [
    "## Exercise 7"
   ]
  },
  {
   "cell_type": "code",
   "execution_count": 113,
   "metadata": {},
   "outputs": [],
   "source": [
    "#Read in Data\n",
    "data = np.load('Data/productMix.npz')\n",
    "A = data['A']\n",
    "p = data['p']\n",
    "m = data['m']\n",
    "d = data['d']\n",
    "\n",
    "A = np.vstack((A, np.identity(len(p))))\n",
    "b = np.hstack((m, d))\n",
    "c = p"
   ]
  },
  {
   "cell_type": "code",
   "execution_count": 114,
   "metadata": {},
   "outputs": [
    {
     "data": {
      "text/plain": [
       "(7453.596491228071,\n",
       " {1: 6.193, 3: 1.789, 6: 0.966, 0: 10.0, 8: 13.807, 2: 12.0, 10: 8.211},\n",
       " {7: 0, 4: 0, 9: 0, 5: 0})"
      ]
     },
     "execution_count": 114,
     "metadata": {},
     "output_type": "execute_result"
    }
   ],
   "source": [
    "LinOptProb(A, b, c).solve()"
   ]
  },
  {
   "cell_type": "markdown",
   "metadata": {},
   "source": [
    "It works!!! Hooray."
   ]
  }
 ],
 "metadata": {
  "kernelspec": {
   "display_name": "Python 3",
   "language": "python",
   "name": "python3"
  },
  "language_info": {
   "codemirror_mode": {
    "name": "ipython",
    "version": 3
   },
   "file_extension": ".py",
   "mimetype": "text/x-python",
   "name": "python",
   "nbconvert_exporter": "python",
   "pygments_lexer": "ipython3",
   "version": "3.6.5"
  }
 },
 "nbformat": 4,
 "nbformat_minor": 2
}
