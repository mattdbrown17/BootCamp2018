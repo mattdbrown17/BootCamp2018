{
 "cells": [
  {
   "cell_type": "markdown",
   "metadata": {},
   "source": [
    "# Simplex Method"
   ]
  },
  {
   "cell_type": "code",
   "execution_count": 5,
   "metadata": {},
   "outputs": [],
   "source": [
    "import numpy as np"
   ]
  },
  {
   "cell_type": "markdown",
   "metadata": {},
   "source": [
    "## Exercise 1"
   ]
  },
  {
   "cell_type": "code",
   "execution_count": 333,
   "metadata": {},
   "outputs": [],
   "source": [
    "class LinOptProb:\n",
    "    '''\n",
    "    A Linear Optimization Problem Class. \n",
    "    \n",
    "    Attributes:\n",
    "    A = matrix of coefficients in constraint\n",
    "    b = Vector of constraint vals\n",
    "    c = Vector for objective function\n",
    "    L = vector of basic variables\n",
    "    M, N = shape of matrix A - define dimension\n",
    "    '''\n",
    "    def __init__(self, A, b, c):\n",
    "        self.A = A\n",
    "        self.b = b\n",
    "        self.c = c\n",
    "        #Define dimension\n",
    "        self.M = len(b)\n",
    "        self.N = len(c)\n",
    "        self.L = np.append(np.linspace(self.N, self.N+self.M-1, self.M), \\\n",
    "                           np.linspace(0, self.N-1, self.N))\n",
    "        if np.min(b) < 0: \n",
    "            raise ValueError(\"Problem is not feasible at the origin. \\\n",
    "            Go solve an auxillary problem and come back later.\")\n",
    "    \n",
    "    def createtab(self):\n",
    "        '''\n",
    "        This method creates the initial tableau.\n",
    "        '''\n",
    "        Abar = np.hstack([self.A, np.eye(self.M)])\n",
    "        cbar = np.hstack([self.c, np.zeros(self.M)]) \n",
    "        top = np.hstack([np.array([0]), -cbar.T, np.array([1])])\n",
    "        bot = np.column_stack([self.b, Abar, np.zeros(self.M)])\n",
    "        init_tableau = np.vstack([top, bot])\n",
    "        self.tableau = init_tableau\n",
    "        \n",
    "    def plocator(self):\n",
    "        '''\n",
    "        This method locates the pivot column/row for the tableau\n",
    "        '''\n",
    "        entindex = np.argwhere(self.tableau[0,1:] < 0)[0]\n",
    "        #Create mask for positive values in entindex\n",
    "        pivcol = self.tableau[:, entindex+1].T\n",
    "        conscol = self.tableau[:, 0] \n",
    "        mask = pivcol <= 0\n",
    "        if np.all(self.tableau[:, entindex+1]) <=0:\n",
    "            raise ValueError(\"Unbounded!\")    \n",
    "        pivcol[mask] = np.nan\n",
    "        leavindex = np.array([np.nanargmin(conscol/pivcol)])[0]\n",
    "        #The index above implements Bland's Rule!\n",
    "        return entindex, leavindex\n",
    "    \n",
    "    def pivot(self):\n",
    "        '''\n",
    "        Performs one pivot at the entindex and leavindex specified by\n",
    "        plocator. Note that the pivot takes place in the column \n",
    "        leavindex+1 and the row entindex.\n",
    "        '''\n",
    "        entindex, leavindex = self.plocator()\n",
    "        #Swap basic tracker around (weird indexing, I know...)\n",
    "        self.L[self.M + entindex], self.L[leavindex-1] = self.L[leavindex-1], self.L[self.M + entindex]\n",
    "        pval = self.tableau[leavindex, entindex+1]\n",
    "        #divide pivot row by pivotval\n",
    "        self.tableau[leavindex, :] = self.tableau[leavindex, :]/pval\n",
    "        #Zero out other columns"
   ]
  },
  {
   "cell_type": "code",
   "execution_count": 334,
   "metadata": {},
   "outputs": [],
   "source": [
    "# Define testing matrices\n",
    "Atest = np.array([[1, -1], [3, 1], [4, 3]])\n",
    "btest = np.array([2, 5, 7])\n",
    "ctest = np.array([3, 2])\n",
    "\n",
    "#Initialize problem class\n",
    "Prob = LinOptProb(Atest, btest, ctest)"
   ]
  },
  {
   "cell_type": "code",
   "execution_count": 335,
   "metadata": {},
   "outputs": [
    {
     "name": "stdout",
     "output_type": "stream",
     "text": [
      "[3.] [[ 0.         -3.         -2.         -0.         -0.         -0.\n",
      "   1.        ]\n",
      " [ 2.          1.         -1.          1.          0.          0.\n",
      "   0.        ]\n",
      " [ 1.66666667  1.          0.33333333  0.          0.33333333  0.\n",
      "   0.        ]\n",
      " [ 7.          4.          3.          0.          0.          1.\n",
      "   0.        ]]\n"
     ]
    }
   ],
   "source": [
    "Prob.createtab()\n",
    "Prob.plocator()\n",
    "Prob.pivot()"
   ]
  },
  {
   "cell_type": "markdown",
   "metadata": {},
   "source": [
    "## Exercise 3"
   ]
  },
  {
   "cell_type": "code",
   "execution_count": 225,
   "metadata": {},
   "outputs": [],
   "source": [
    "Prob.createtab()"
   ]
  },
  {
   "cell_type": "markdown",
   "metadata": {},
   "source": [
    "## Exercise 4"
   ]
  },
  {
   "cell_type": "code",
   "execution_count": null,
   "metadata": {},
   "outputs": [],
   "source": []
  }
 ],
 "metadata": {
  "kernelspec": {
   "display_name": "Python 3",
   "language": "python",
   "name": "python3"
  },
  "language_info": {
   "codemirror_mode": {
    "name": "ipython",
    "version": 3
   },
   "file_extension": ".py",
   "mimetype": "text/x-python",
   "name": "python",
   "nbconvert_exporter": "python",
   "pygments_lexer": "ipython3",
   "version": "3.6.5"
  }
 },
 "nbformat": 4,
 "nbformat_minor": 2
}
