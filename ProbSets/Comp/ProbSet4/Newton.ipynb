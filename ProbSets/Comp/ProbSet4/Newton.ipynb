{
 "cells": [
  {
   "cell_type": "markdown",
   "metadata": {},
   "source": [
    "# Newton's Method"
   ]
  },
  {
   "cell_type": "code",
   "execution_count": 178,
   "metadata": {},
   "outputs": [],
   "source": [
    "import numpy as np\n",
    "from matplotlib import pyplot as plt\n",
    "import random as rand"
   ]
  },
  {
   "cell_type": "markdown",
   "metadata": {},
   "source": [
    "## Exercise 1"
   ]
  },
  {
   "cell_type": "code",
   "execution_count": 128,
   "metadata": {},
   "outputs": [],
   "source": [
    "def newtons(f, fprime, x_0, tol = 10e-5, maxiter = 15):\n",
    "    '''\n",
    "    This function finds a root using Newton's method. The inputs are\n",
    "    f the function to find the root of\n",
    "    fprime the derivative of f\n",
    "    x_0 the inital guess\n",
    "    tol the tolerance\n",
    "    maxiter the max number of iterations\n",
    "    '''\n",
    "    dist = 1000\n",
    "    count = 0\n",
    "    x_t = x_0\n",
    "    converge = True\n",
    "    while (dist > tol) & (count < maxiter):\n",
    "        x_tp1 = x_t - f(x_t)/fprime(x_t)\n",
    "        dist = np.abs(x_tp1 - x_t)\n",
    "        x_t = x_tp1\n",
    "        count += 1\n",
    "    if count == maxiter:\n",
    "        converge = False\n",
    "    return x_t, converge, count"
   ]
  },
  {
   "cell_type": "code",
   "execution_count": 129,
   "metadata": {},
   "outputs": [
    {
     "data": {
      "text/plain": [
       "(0.6931471805599453, True, 14)"
      ]
     },
     "execution_count": 129,
     "metadata": {},
     "output_type": "execute_result"
    }
   ],
   "source": [
    "#Test\n",
    "f = lambda x: np.exp(x) - 2\n",
    "fprime = lambda x: np.exp(x)\n",
    "\n",
    "newtons(f, fprime, 10)"
   ]
  },
  {
   "cell_type": "markdown",
   "metadata": {},
   "source": [
    "Looks good"
   ]
  },
  {
   "cell_type": "markdown",
   "metadata": {},
   "source": [
    "## Exercise 2"
   ]
  },
  {
   "cell_type": "code",
   "execution_count": 130,
   "metadata": {},
   "outputs": [],
   "source": [
    "def ex2func(N1, N2, P1, P2, x_0, tol = 10e-5, maxiter = 15):\n",
    "    '''\n",
    "    Function solves for the appropriate r in the equation from the \n",
    "    ACME tutorial. Inputs are as specified there and some arguments \n",
    "    to pass into newtons.\n",
    "    \n",
    "    Function calls newtons.\n",
    "    '''\n",
    "    f = lambda r: P1 * ( (1 + r) ** N1 - 1 ) - P2 * (1 - (1 + r) ** -N2 )\n",
    "    fprime = lambda r: P1 * N1 * (1+r) ** (N1-1) + P2 * N2 * (1+r) ** (-N2-1)\n",
    "    results = newtons(f, fprime, 10, tol = tol, maxiter = maxiter)\n",
    "    return results"
   ]
  },
  {
   "cell_type": "code",
   "execution_count": 131,
   "metadata": {},
   "outputs": [
    {
     "data": {
      "text/plain": [
       "(0.038861786384895465, True, 79)"
      ]
     },
     "execution_count": 131,
     "metadata": {},
     "output_type": "execute_result"
    }
   ],
   "source": [
    "ex2func(30, 20, 2000, 8000, .1, maxiter = 100)"
   ]
  },
  {
   "cell_type": "markdown",
   "metadata": {},
   "source": [
    "Excellent"
   ]
  },
  {
   "cell_type": "markdown",
   "metadata": {},
   "source": [
    "## Exercise 3"
   ]
  },
  {
   "cell_type": "code",
   "execution_count": 136,
   "metadata": {},
   "outputs": [],
   "source": [
    "def newtons3(f, fprime, x_0, tol = 10e-5, maxiter = 15, alpha=1):\n",
    "    '''\n",
    "    Modifies newtons to accept a backtracking parameter\n",
    "    '''\n",
    "    dist = 1000\n",
    "    count = 0\n",
    "    x_t = x_0\n",
    "    converge = True\n",
    "    while (dist > tol) & (count < maxiter):\n",
    "        x_tp1 = x_t - alpha * f(x_t)/fprime(x_t)\n",
    "        dist = np.abs(x_tp1 - x_t)\n",
    "        x_t = x_tp1\n",
    "        count += 1\n",
    "    if count == maxiter:\n",
    "        converge = False\n",
    "    return x_t, converge, count"
   ]
  },
  {
   "cell_type": "code",
   "execution_count": 145,
   "metadata": {},
   "outputs": [
    {
     "data": {
      "text/plain": [
       "(1.6000000000000186e-05, True, 4)"
      ]
     },
     "execution_count": 145,
     "metadata": {},
     "output_type": "execute_result"
    }
   ],
   "source": [
    "#Test\n",
    "f3 = lambda x: np.sign(x) * np.power(np.abs(x), 1/3)\n",
    "fprime3 = lambda x: (1/3) * np.power(np.abs(x), -2/3)\n",
    "newtons3(f3, fprime3, .01, alpha = .4, maxiter = 100)"
   ]
  },
  {
   "cell_type": "markdown",
   "metadata": {},
   "source": [
    "Good"
   ]
  },
  {
   "cell_type": "markdown",
   "metadata": {},
   "source": [
    "## Exercise 4"
   ]
  },
  {
   "cell_type": "code",
   "execution_count": 138,
   "metadata": {},
   "outputs": [],
   "source": [
    "def ex4func(f, fprime, x_0, tol = 10e-5, maxiter = 15, lb = 0, ub = 1, fineness = 100):\n",
    "    '''\n",
    "    Function uses newtons3 to plot a graph of the number of iterations needed\n",
    "    for convergence for different alphas. New arguments are:\n",
    "    lb a lower bound\n",
    "    ub an upper bound\n",
    "    fineness the number of alphas used\n",
    "    '''\n",
    "    alphagrid = np.linspace(lb, ub)\n",
    "    itergrid = np.zeros_like(alphagrid)\n",
    "    for i in range(len(alphagrid)):\n",
    "        itergrid[i] = newtons3(f, fprime, x_0, alpha = alphagrid[i], tol = tol, maxiter = maxiter)[2]\n",
    "    plt.plot(alphagrid, itergrid)\n",
    "    plt.xlabel('Alpha')\n",
    "    plt.ylabel(f'Number of iterations needed (maxiter = {maxiter})')\n",
    "    plt.title('Number of Iterations Needed for each Alpha')"
   ]
  },
  {
   "cell_type": "markdown",
   "metadata": {},
   "source": [
    "We see that the func from ex 3 converges for alpha < about .65, so that's the bound for the plot."
   ]
  },
  {
   "cell_type": "code",
   "execution_count": 139,
   "metadata": {},
   "outputs": [
    {
     "data": {
      "image/png": "[encoded data removed]",
      "text/plain": [
       "<Figure size 432x288 with 1 Axes>"
      ]
     },
     "metadata": {},
     "output_type": "display_data"
    }
   ],
   "source": [
    "ex4func(f3, fprime3, .01, fineness = 1000, lb = 0, ub = .65, maxiter = 100)"
   ]
  },
  {
   "cell_type": "markdown",
   "metadata": {},
   "source": [
    "## Exercise 5"
   ]
  },
  {
   "cell_type": "code",
   "execution_count": 158,
   "metadata": {},
   "outputs": [],
   "source": [
    "def newtons5(f, Df, x_0, tol = 10e-5, maxiter = 15, alpha=1):\n",
    "    '''\n",
    "    Modifies newtons3 to accept vectors.\n",
    "    f should be a row vector (1 by n)\n",
    "    Df should be a matrix (n by n)\n",
    "    x_0 shouls be an np array with n elements\n",
    "    '''\n",
    "    dist = 1000\n",
    "    count = 0\n",
    "    x_t = x_0\n",
    "    converge = True\n",
    "    if np.isscalar(x_0):\n",
    "        while (dist > tol) & (count < maxiter):\n",
    "            x_tp1 = x_t - alpha * f(x_t)/Df(x_t)\n",
    "            dist = np.abs(x_tp1 - x_t)\n",
    "            x_t = x_tp1\n",
    "            count += 1\n",
    "    else:\n",
    "        x_tp1 = x_t - alpha * np.linalg.inv(Df(x_t)) @ f(x_t)\n",
    "        dist = np.linalg.norm(x_tp1 - x_t)\n",
    "        x_t = x_tp1\n",
    "    if count == maxiter:\n",
    "        converge = False\n",
    "    return x_t, converge, count"
   ]
  },
  {
   "cell_type": "code",
   "execution_count": 172,
   "metadata": {},
   "outputs": [
    {
     "name": "stdout",
     "output_type": "stream",
     "text": [
      "Looks good for 1 dimensional: (1.6000000000000186e-05, True, 4)\n",
      "\n",
      "And for multidimensional: (array([0.00666667, 0.00666667]), True, 0) f = [ 2.96296296e-07 -4.33680869e-17]\n"
     ]
    }
   ],
   "source": [
    "#Test\n",
    "print('Looks good for 1 dimensional:', newtons5(f3, fprime3, .01, alpha = .4, maxiter = 100))\n",
    "f5 = lambda x: np.array([x[0]**3, x[0] - x[1]])\n",
    "Df5 = lambda x: np.array([[3 * x[0]**2, 0], [1, -1]])\n",
    "print('\\nAnd for multidimensional:', newtons5(f5, Df5, [.01, 1]), \"f =\", f(newtons5(f, Df, [.01, 1])[0]))"
   ]
  },
  {
   "cell_type": "markdown",
   "metadata": {},
   "source": [
    "## Exercise 6 (ERRORS)"
   ]
  },
  {
   "cell_type": "code",
   "execution_count": 242,
   "metadata": {},
   "outputs": [],
   "source": [
    "def x_0search(f, Df, region, tol = 10e-5, maxiter = 50, alpha=1, maxsearch = 50):\n",
    "    '''\n",
    "    Function searches a given region for an x_0 at which Newton's method\n",
    "    converges for the function f.\n",
    "    \n",
    "    I decided to randomly sample from the region - maybe there is a\n",
    "    \"smarter\" way to do this!\n",
    "    \n",
    "    Region is inputted as an n by 2 array.\n",
    "    '''\n",
    "    for i in range(maxsearch):\n",
    "        x_0 = rand.uniform(region[:,0], region[:,1])\n",
    "        results = newtons5(f, Df, [.01, 1])\n",
    "        if results[1]:\n",
    "            break\n",
    "    if i == maxsearch - 1:\n",
    "        return \"No x_0 was found\"\n",
    "    else:\n",
    "        return x_0, i"
   ]
  },
  {
   "cell_type": "code",
   "execution_count": 243,
   "metadata": {},
   "outputs": [
    {
     "name": "stdout",
     "output_type": "stream",
     "text": [
      "[[ 3  4]\n",
      " [-1  1]]\n",
      "Good enough x_0: (array([-367.57101319,  632.42898681]), 0)\n"
     ]
    },
    {
     "ename": "ValueError",
     "evalue": "setting an array element with a sequence.",
     "output_type": "error",
     "traceback": [
      "\u001b[1;31m---------------------------------------------------------------------------\u001b[0m",
      "\u001b[1;31mValueError\u001b[0m                                Traceback (most recent call last)",
      "\u001b[1;32m<ipython-input-243-c3e23e4cf449>\u001b[0m in \u001b[0;36m<module>\u001b[1;34m()\u001b[0m\n\u001b[0;32m      7\u001b[0m \u001b[0mprint\u001b[0m\u001b[1;33m(\u001b[0m\u001b[0mDf6\u001b[0m\u001b[1;33m(\u001b[0m\u001b[1;33m[\u001b[0m\u001b[1;36m1\u001b[0m\u001b[1;33m,\u001b[0m \u001b[1;36m1\u001b[0m\u001b[1;33m]\u001b[0m\u001b[1;33m)\u001b[0m\u001b[1;33m)\u001b[0m\u001b[1;33m\u001b[0m\u001b[0m\n\u001b[0;32m      8\u001b[0m \u001b[0mprint\u001b[0m\u001b[1;33m(\u001b[0m\u001b[1;34m\"Good enough x_0:\"\u001b[0m\u001b[1;33m,\u001b[0m \u001b[0mx0\u001b[0m\u001b[1;33m)\u001b[0m\u001b[1;33m\u001b[0m\u001b[0m\n\u001b[1;32m----> 9\u001b[1;33m \u001b[0mprint\u001b[0m\u001b[1;33m(\u001b[0m\u001b[1;34m\"Newton at x_0:\"\u001b[0m\u001b[1;33m,\u001b[0m \u001b[0mnewtons5\u001b[0m\u001b[1;33m(\u001b[0m\u001b[0mf6\u001b[0m\u001b[1;33m,\u001b[0m \u001b[0mDf6\u001b[0m\u001b[1;33m,\u001b[0m \u001b[0mx0\u001b[0m\u001b[1;33m)\u001b[0m\u001b[1;33m)\u001b[0m\u001b[1;33m\u001b[0m\u001b[0m\n\u001b[0m",
      "\u001b[1;32m<ipython-input-158-bf647db8606f>\u001b[0m in \u001b[0;36mnewtons5\u001b[1;34m(f, Df, x_0, tol, maxiter, alpha)\u001b[0m\n\u001b[0;32m     17\u001b[0m             \u001b[0mcount\u001b[0m \u001b[1;33m+=\u001b[0m \u001b[1;36m1\u001b[0m\u001b[1;33m\u001b[0m\u001b[0m\n\u001b[0;32m     18\u001b[0m     \u001b[1;32melse\u001b[0m\u001b[1;33m:\u001b[0m\u001b[1;33m\u001b[0m\u001b[0m\n\u001b[1;32m---> 19\u001b[1;33m         \u001b[0mx_tp1\u001b[0m \u001b[1;33m=\u001b[0m \u001b[0mx_t\u001b[0m \u001b[1;33m-\u001b[0m \u001b[0malpha\u001b[0m \u001b[1;33m*\u001b[0m \u001b[0mnp\u001b[0m\u001b[1;33m.\u001b[0m\u001b[0mlinalg\u001b[0m\u001b[1;33m.\u001b[0m\u001b[0minv\u001b[0m\u001b[1;33m(\u001b[0m\u001b[0mDf\u001b[0m\u001b[1;33m(\u001b[0m\u001b[0mx_t\u001b[0m\u001b[1;33m)\u001b[0m\u001b[1;33m)\u001b[0m \u001b[1;33m@\u001b[0m \u001b[0mf\u001b[0m\u001b[1;33m(\u001b[0m\u001b[0mx_t\u001b[0m\u001b[1;33m)\u001b[0m\u001b[1;33m\u001b[0m\u001b[0m\n\u001b[0m\u001b[0;32m     20\u001b[0m         \u001b[0mdist\u001b[0m \u001b[1;33m=\u001b[0m \u001b[0mnp\u001b[0m\u001b[1;33m.\u001b[0m\u001b[0mlinalg\u001b[0m\u001b[1;33m.\u001b[0m\u001b[0mnorm\u001b[0m\u001b[1;33m(\u001b[0m\u001b[0mx_tp1\u001b[0m \u001b[1;33m-\u001b[0m \u001b[0mx_t\u001b[0m\u001b[1;33m)\u001b[0m\u001b[1;33m\u001b[0m\u001b[0m\n\u001b[0;32m     21\u001b[0m         \u001b[0mx_t\u001b[0m \u001b[1;33m=\u001b[0m \u001b[0mx_tp1\u001b[0m\u001b[1;33m\u001b[0m\u001b[0m\n",
      "\u001b[1;32m<ipython-input-243-c3e23e4cf449>\u001b[0m in \u001b[0;36m<lambda>\u001b[1;34m(x)\u001b[0m\n\u001b[0;32m      2\u001b[0m \u001b[0mf6\u001b[0m \u001b[1;33m=\u001b[0m \u001b[1;32mlambda\u001b[0m \u001b[0mx\u001b[0m\u001b[1;33m:\u001b[0m \u001b[0mnp\u001b[0m\u001b[1;33m.\u001b[0m\u001b[0marray\u001b[0m\u001b[1;33m(\u001b[0m\u001b[1;33m[\u001b[0m\u001b[1;36m5\u001b[0m\u001b[1;33m*\u001b[0m\u001b[0mx\u001b[0m\u001b[1;33m[\u001b[0m\u001b[1;36m0\u001b[0m\u001b[1;33m]\u001b[0m\u001b[1;33m*\u001b[0m\u001b[0mx\u001b[0m\u001b[1;33m[\u001b[0m\u001b[1;36m1\u001b[0m\u001b[1;33m]\u001b[0m \u001b[1;33m-\u001b[0m \u001b[0mx\u001b[0m\u001b[1;33m[\u001b[0m\u001b[1;36m0\u001b[0m\u001b[1;33m]\u001b[0m\u001b[1;33m*\u001b[0m\u001b[1;33m(\u001b[0m\u001b[1;36m1\u001b[0m\u001b[1;33m+\u001b[0m\u001b[0mx\u001b[0m\u001b[1;33m[\u001b[0m\u001b[1;36m1\u001b[0m\u001b[1;33m]\u001b[0m\u001b[1;33m)\u001b[0m\u001b[1;33m,\u001b[0m                          \u001b[1;33m-\u001b[0m\u001b[0mx\u001b[0m\u001b[1;33m[\u001b[0m\u001b[1;36m0\u001b[0m\u001b[1;33m]\u001b[0m\u001b[1;33m*\u001b[0m\u001b[0mx\u001b[0m\u001b[1;33m[\u001b[0m\u001b[1;36m1\u001b[0m\u001b[1;33m]\u001b[0m \u001b[1;33m+\u001b[0m \u001b[1;33m(\u001b[0m\u001b[1;36m1\u001b[0m\u001b[1;33m-\u001b[0m\u001b[0mx\u001b[0m\u001b[1;33m[\u001b[0m\u001b[1;36m1\u001b[0m\u001b[1;33m]\u001b[0m\u001b[1;33m)\u001b[0m\u001b[1;33m*\u001b[0m\u001b[1;33m(\u001b[0m\u001b[1;36m1\u001b[0m\u001b[1;33m+\u001b[0m\u001b[0mx\u001b[0m\u001b[1;33m[\u001b[0m\u001b[1;36m1\u001b[0m\u001b[1;33m]\u001b[0m\u001b[1;33m)\u001b[0m\u001b[1;33m]\u001b[0m\u001b[1;33m)\u001b[0m\u001b[1;33m\u001b[0m\u001b[0m\n\u001b[0;32m      3\u001b[0m Df6 = lambda x: np.array([ [5*x[1]-(1+x[1]), 5*x[0]-x[0] ],\n\u001b[1;32m----> 4\u001b[1;33m                          [ -x[1], -x[0] + 2*x[1] ] ])\n\u001b[0m\u001b[0;32m      5\u001b[0m \u001b[1;33m\u001b[0m\u001b[0m\n\u001b[0;32m      6\u001b[0m \u001b[0mx0\u001b[0m \u001b[1;33m=\u001b[0m \u001b[0mx_0search\u001b[0m\u001b[1;33m(\u001b[0m\u001b[0mf6\u001b[0m\u001b[1;33m,\u001b[0m \u001b[0mDf6\u001b[0m\u001b[1;33m,\u001b[0m \u001b[0mregion\u001b[0m\u001b[1;33m)\u001b[0m\u001b[1;33m\u001b[0m\u001b[0m\n",
      "\u001b[1;31mValueError\u001b[0m: setting an array element with a sequence."
     ]
    }
   ],
   "source": [
    "#Deine functions f6, Df6\n",
    "f6 = lambda x: np.array([5*x[0]*x[1] - x[0]*(1+x[1]), \\\n",
    "                         -x[0]*x[1] + (1-x[1])*(1+x[1])])\n",
    "Df6 = lambda x: np.array([ [5*x[1]-(1+x[1]), 5*x[0]-x[0] ],\n",
    "                         [ -x[1], -x[0] + 2*x[1] ] ])\n",
    "\n",
    "x0 = x_0search(f6, Df6, region)\n",
    "print(Df6([1, 1]))\n",
    "print(\"Good enough x_0:\", x0)\n",
    "print(\"Newton at x_0:\", newtons5(f6, Df6, x0))"
   ]
  },
  {
   "cell_type": "markdown",
   "metadata": {},
   "source": [
    "## Exercise 7"
   ]
  },
  {
   "cell_type": "markdown",
   "metadata": {},
   "source": [
    "Thanks to Reiko for a good bit of this code"
   ]
  },
  {
   "cell_type": "code",
   "execution_count": 284,
   "metadata": {},
   "outputs": [],
   "source": [
    "def ex7func(f, fprime, zeros, rmin, rmax, imin, imax, res, iters=10):\n",
    "    '''\n",
    "    Function computes and plots the basins of attraction over a complex\n",
    "    region.\n",
    "    Inputs:\n",
    "    f a complex valued function\n",
    "    fprime the function's derivative\n",
    "    zeros a matrix of the function's zeros\n",
    "    rmin, rmax, imin, imax: domain of region\n",
    "    res the resolution\n",
    "    iters number of iterations\n",
    "    '''\n",
    "    #Initialize grid\n",
    "    rgrid = np.linspace(rmin, rmax, res)\n",
    "    igrid = np.linspace(imin, imax, res)\n",
    "    Xreal, Ximag = np.meshgrid(rgrid, igrid)\n",
    "    X_0 = Xreal + Ximag*1j\n",
    "    \n",
    "    #Run Newton Method on X_0 iters times (no check for convergence).\n",
    "    X_t = X_0\n",
    "    for i in range(iters):\n",
    "        X_t = X_t - f(X_t) / fprime(X_t)\n",
    "        i += 1\n",
    "    \n",
    "    #Create Y matrix to figure which root to use in plot\n",
    "    Y = np.zeros_like(X_t, dtype = int)\n",
    "    for i in range(res):\n",
    "        for j in range(res):\n",
    "            Y[i, j] = np.argmin(np.abs(zeros - X_t[i,j]))\n",
    "    \n",
    "    plt.pcolormesh(Xreal, Ximag, Y, cmap='infe')\n",
    "    plt.show()"
   ]
  },
  {
   "cell_type": "code",
   "execution_count": 285,
   "metadata": {},
   "outputs": [
    {
     "data": {
      "image/png": "[encoded data removed]",
      "text/plain": [
       "<Figure size 432x288 with 1 Axes>"
      ]
     },
     "metadata": {},
     "output_type": "display_data"
    },
    {
     "data": {
      "image/png": "[encoded data removed]",
      "text/plain": [
       "<Figure size 432x288 with 1 Axes>"
      ]
     },
     "metadata": {},
     "output_type": "display_data"
    }
   ],
   "source": [
    "f7a = lambda x: x**3 - 1\n",
    "f7b = lambda x: x**3 - x\n",
    "fp7a = lambda x: 3*x**2\n",
    "fp7b = lambda x: 3*x**2 - 1\n",
    "f7zerosa = [-1/2 - np.sqrt(3) / 2 * 1j, -1/2 + np.sqrt(3) / 2 * 1j, 1]\n",
    "f7zerosb = [0, -1, 1]\n",
    "ex7func(f7a, fp7a, f7zerosa, -1.5, 1.5, -1.5, 1.5, 500, 50)\n",
    "ex7func(f7b, fp7b, f7zerosb, -1.5, 1.5, -1.5, 1.5, 500, 50)"
   ]
  },
  {
   "cell_type": "code",
   "execution_count": null,
   "metadata": {},
   "outputs": [],
   "source": []
  }
 ],
 "metadata": {
  "kernelspec": {
   "display_name": "Python 3",
   "language": "python",
   "name": "python3"
  },
  "language_info": {
   "codemirror_mode": {
    "name": "ipython",
    "version": 3
   },
   "file_extension": ".py",
   "mimetype": "text/x-python",
   "name": "python",
   "nbconvert_exporter": "python",
   "pygments_lexer": "ipython3",
   "version": "3.6.5"
  }
 },
 "nbformat": 4,
 "nbformat_minor": 2
}
