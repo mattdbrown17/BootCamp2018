{
 "cells": [
  {
   "cell_type": "markdown",
   "metadata": {},
   "source": [
    "# Numerical Integration"
   ]
  },
  {
   "cell_type": "code",
   "execution_count": 176,
   "metadata": {},
   "outputs": [],
   "source": [
    "import numpy as np\n",
    "from matplotlib import pyplot as plt\n",
    "import scipy.integrate"
   ]
  },
  {
   "cell_type": "markdown",
   "metadata": {},
   "source": [
    "## Exercies 14.1"
   ]
  },
  {
   "cell_type": "code",
   "execution_count": 111,
   "metadata": {},
   "outputs": [],
   "source": [
    "def ex1func(g, a, b, N, method = 'trapezoid'):\n",
    "    '''\n",
    "    Function is capable of three numerical integration approximations,\n",
    "    specified by method = 'midpoint', trapezoid', or 'Simpsons.' Other\n",
    "    inputs are:\n",
    "    g = function\n",
    "    a, b = integration bounds\n",
    "    N = fineness ('number of intervals')\n",
    "    \n",
    "    Details on methods found in the notes\n",
    "    '''\n",
    "    #Partition boundary\n",
    "    partition = np.linspace(a, b, N)\n",
    "    #initialize integral\n",
    "    integral = 0\n",
    "    if method == 'midpoint':\n",
    "        for i in range(N-1):\n",
    "            midpoint = (partition[i]+partition[i+1])/2\n",
    "            integral += g(midpoint)\n",
    "        integral = integral * ((b-a)/N)\n",
    "    elif method == 'trapezoid':\n",
    "        for i in range(1, N-1):\n",
    "            integral += 2*g(partition[i])\n",
    "        integral += g(partition[0]) + g(partition[N-1])\n",
    "        integral = integral * (b-a)/(2*N)\n",
    "    elif method == 'Simpsons':\n",
    "        for i in range(N-1):\n",
    "            midpoint = (partition[i]+partition[i+1])/2\n",
    "            integral += ((partition[i+1] -partition[i])/6) * \\\n",
    "            (g(partition[i]) + 4*g(midpoint) + g(partition[i+1]))\n",
    "    else:\n",
    "        raise ValueError('method is invalid')\n",
    "    return integral"
   ]
  },
  {
   "cell_type": "code",
   "execution_count": 112,
   "metadata": {},
   "outputs": [
    {
     "data": {
      "text/plain": [
       "2.393333333610939"
      ]
     },
     "execution_count": 112,
     "metadata": {},
     "output_type": "execute_result"
    }
   ],
   "source": [
    "#Testing:\n",
    "g = lambda x: .1*x**4 - 1.5*x**3 + .53*x**2 + 2*x + 1\n",
    "ex1func(g, -1, 1, 100, method='Simpsons')"
   ]
  },
  {
   "cell_type": "markdown",
   "metadata": {},
   "source": [
    "## Exercise 14.2"
   ]
  },
  {
   "cell_type": "code",
   "execution_count": 87,
   "metadata": {},
   "outputs": [],
   "source": [
    "import scipy.stats as sts"
   ]
  },
  {
   "cell_type": "code",
   "execution_count": 91,
   "metadata": {},
   "outputs": [],
   "source": [
    "def normalapprox(mu, sigma, N, k):\n",
    "    '''\n",
    "    This function gives a discrete approximation of the distribution\n",
    "    of the normal distribution with mean mu, std. deviation sigma. N \n",
    "    is the number of nodes, and k is the number of standard deviations \n",
    "    away from the mean that I consider.\n",
    "    \n",
    "    Returns Zvec a vector of nodes, and Wvec a vector of weights. \n",
    "    '''\n",
    "    #define left and right bounds\n",
    "    lbound = mu - sigma * k\n",
    "    rbound = mu + sigma * k\n",
    "    Zvec = np.linspace(lbound, rbound, N)\n",
    "    #initialize weight vector\n",
    "    Wvec = np.zeros_like(Zvec)\n",
    "    for i in range(N):\n",
    "        if i == 0:\n",
    "            Wvec[i] = sts.norm.cdf((Zvec[i] + Zvec[i+1]) / 2, \\\n",
    "            loc=mu, scale=sigma)\n",
    "        elif i == N-1:\n",
    "            Wvec[i] = 1 - sts.norm.cdf((Zvec[i-1] + Zvec[i]) / 2, \\\n",
    "            loc=mu, scale=sigma)\n",
    "        else:\n",
    "            #Using midpoint method\n",
    "            Wvec[i] = sts.norm.pdf(Zvec[i], loc=mu, scale=sigma) \\\n",
    "            * (rbound - lbound)/N\n",
    "    return Zvec, Wvec"
   ]
  },
  {
   "cell_type": "code",
   "execution_count": 95,
   "metadata": {},
   "outputs": [
    {
     "name": "stdout",
     "output_type": "stream",
     "text": [
      "For N = 11, k = 4: \n",
      " \n",
      " Nodes =  [-4.  -3.2 -2.4 -1.6 -0.8  0.   0.8  1.6  2.4  3.2  4. ]  \n",
      " \n",
      " Weights [1.59108590e-04 1.73388233e-03 1.62869311e-02 8.06696979e-02\n",
      " 2.10684766e-01 2.90139840e-01 2.10684766e-01 8.06696979e-02\n",
      " 1.62869311e-02 1.73388233e-03 1.59108590e-04] \n",
      " \n",
      " A useful visualization:\n"
     ]
    },
    {
     "data": {
      "image/png": "[encoded data removed]",
      "text/plain": [
       "<Figure size 432x288 with 1 Axes>"
      ]
     },
     "metadata": {},
     "output_type": "display_data"
    },
    {
     "data": {
      "text/plain": [
       "0.9092086115628059"
      ]
     },
     "execution_count": 95,
     "metadata": {},
     "output_type": "execute_result"
    }
   ],
   "source": [
    "#Test\n",
    "Zvec, Wvec = normalapprox(0, 1, 11, 4)\n",
    "plt.plot(Zvec, Wvec, 'o')\n",
    "plt.xlabel('x')\n",
    "plt.ylabel('Density')\n",
    "print(\"For N = 11, k = 4: \\n \\n Nodes = \", Zvec, \n",
    "      \" \\n \\n Weights\", Wvec , \\\n",
    "      \"\\n \\n A useful visualization:\")\n",
    "plt.show()"
   ]
  },
  {
   "cell_type": "markdown",
   "metadata": {},
   "source": [
    "## Exercise 14.3"
   ]
  },
  {
   "cell_type": "code",
   "execution_count": 96,
   "metadata": {},
   "outputs": [],
   "source": [
    "def lognormalapprox(mu, sigma, N, k):\n",
    "    '''\n",
    "    Function uses the normalapprox function to create a discrete \n",
    "    approximation for the lognormal distribution. Inputs/Outputs\n",
    "    are interpreted similarly\n",
    "    '''\n",
    "    #Grab normal discrete approximation\n",
    "    Zvecnorm, Wvecnorm = normalapprox(mu, sigma, N, k)\n",
    "    #Transform node location while keeping weights same\n",
    "    Zvec = np.exp(Zvecnorm)\n",
    "    Wvec = Wvecnorm\n",
    "    return Zvec, Wvec"
   ]
  },
  {
   "cell_type": "code",
   "execution_count": 97,
   "metadata": {},
   "outputs": [
    {
     "data": {
      "image/png": "[encoded data removed]",
      "text/plain": [
       "<Figure size 432x288 with 1 Axes>"
      ]
     },
     "metadata": {},
     "output_type": "display_data"
    },
    {
     "name": "stdout",
     "output_type": "stream",
     "text": [
      "Looks pretty good!\n"
     ]
    },
    {
     "data": {
      "text/plain": [
       "0.9714351580624834"
      ]
     },
     "execution_count": 97,
     "metadata": {},
     "output_type": "execute_result"
    }
   ],
   "source": [
    "# Test by plotting\n",
    "Zvec, Wvec = lognormalapprox(1, .5, 35, 4)\n",
    "plt.plot(Zvec, Wvec, 'o')\n",
    "plt.xlabel('x')\n",
    "plt.ylabel('Density')\n",
    "plt.show()\n",
    "print(\"Looks pretty good!\")"
   ]
  },
  {
   "cell_type": "markdown",
   "metadata": {},
   "source": [
    "## Exercise 14.4"
   ]
  },
  {
   "cell_type": "code",
   "execution_count": 100,
   "metadata": {},
   "outputs": [],
   "source": [
    "def expinc(mu, sigma, N, k):\n",
    "    '''\n",
    "    Uses above function to compute average U.S household income\n",
    "    using the lognormalapprox function. Inputs are exactly the same,\n",
    "    but now output is simply the expected income.\n",
    "    '''\n",
    "    Zvec, Wvec = lognormalapprox(mu, sigma, N, k)\n",
    "    meaninc = np.average(Zvec, weights = Wvec)\n",
    "    return meaninc"
   ]
  },
  {
   "cell_type": "code",
   "execution_count": 105,
   "metadata": {},
   "outputs": [
    {
     "name": "stdout",
     "output_type": "stream",
     "text": [
      "For N = 100: \n",
      " Estimated val: 168.170282681114 \n",
      " True val: 168.17414165184545\n"
     ]
    }
   ],
   "source": [
    "#Test\n",
    "mu = 5\n",
    "sigma = .5 \n",
    "N = 100\n",
    "k = 4\n",
    "\n",
    "estval = expinc(mu, sigma, N, k)\n",
    "trueval = np.exp(mu + (sigma**2)/2)\n",
    "\n",
    "print(f\"For N = {N}: \\n Estimated val:\", estval, \"\\n True val:\", trueval )"
   ]
  },
  {
   "cell_type": "markdown",
   "metadata": {},
   "source": [
    "## Exercise 14.5"
   ]
  },
  {
   "cell_type": "code",
   "execution_count": 23,
   "metadata": {},
   "outputs": [],
   "source": [
    "import scipy.optimize as opt"
   ]
  },
  {
   "cell_type": "code",
   "execution_count": 108,
   "metadata": {},
   "outputs": [],
   "source": [
    "def error(params, args):\n",
    "    '''\n",
    "    Defines function which gives the left side - right side for the\n",
    "    system of equations (14.11) for a given Ω, X, N, a, b.\n",
    "    \n",
    "    Ω, X are length N\n",
    "    \n",
    "    We'll want to set this = 0 and do a root-finder. \n",
    "    '''\n",
    "    a, b, N = args\n",
    "    Ω, X = params[:N], params[N:]\n",
    "    left = np.zeros(2*N)\n",
    "    right = np.zeros(2*N)\n",
    "    # define left-side vector\n",
    "    for i in range(2*N):\n",
    "        left[i] = ( b ** (i+1) - a ** (i+1) ) / (i+1)\n",
    "        right[i] = np.sum(Ω * np.power(X, i))\n",
    "    err = np.abs(left-right)\n",
    "    return err\n",
    "        \n",
    "def gaussquad(f, a, b, N, Ω_guess, X_guess):\n",
    "    '''\n",
    "    This function does gaussian quadrature using the class of polynomials x^i as \n",
    "    a basis. \n",
    "    \n",
    "    I'll go ahead and extend the function to take arbitrary N. Arguments are:\n",
    "    f = the function\n",
    "    N = the number of weights/nodes\n",
    "    a, b = integration limits\n",
    "    Ω_guess = length-N initial guess for Ω\n",
    "    X_guess = length-N initial guess for X\n",
    "    See rick's chapter 14 page 194 for the system used to get nodes/weights\n",
    "    \n",
    "    Output is just the integral approximation\n",
    "    '''\n",
    "    #Grab params\n",
    "    args = np.array([a, b, N])\n",
    "    params_guess = (Ω_guess + X_guess)\n",
    "    # I need to calculate the weights/nodes with a system of equations\n",
    "    # Initialize vectors\n",
    "    W = np.zeros(N)\n",
    "    X = np.zeros(N)\n",
    "    results = opt.fsolve(error, params_guess, args=args)\n",
    "    Ω, X = results[:N], results[N:]\n",
    "    #Calculate function approximation\n",
    "    approx = np.sum(Ω * f(X))\n",
    "    return approx"
   ]
  },
  {
   "cell_type": "code",
   "execution_count": 114,
   "metadata": {},
   "outputs": [
    {
     "data": {
      "text/plain": [
       "2.3933333333331515"
      ]
     },
     "execution_count": 114,
     "metadata": {},
     "output_type": "execute_result"
    }
   ],
   "source": [
    "g = lambda x: .1*x**4 - 1.5*x**3 + .53*x**2 + 2*x + 1\n",
    "Ω = [1, 1, 1]\n",
    "X = [-.5, 0, .5]\n",
    "a = -1\n",
    "b = 1\n",
    "N = 3"
   ]
  },
  {
   "cell_type": "code",
   "execution_count": 115,
   "metadata": {},
   "outputs": [
    {
     "name": "stdout",
     "output_type": "stream",
     "text": [
      "The integral approximation is 2.3933333333331515 which is the correct value\n"
     ]
    }
   ],
   "source": [
    "print(\"The integral approximation is\", gaussquad(g, a, b, N, Ω, X), \"which is the correct value\".)"
   ]
  },
  {
   "cell_type": "markdown",
   "metadata": {},
   "source": [
    "## Exercise 14.6"
   ]
  },
  {
   "cell_type": "code",
   "execution_count": 121,
   "metadata": {},
   "outputs": [
    {
     "name": "stdout",
     "output_type": "stream",
     "text": [
      "The approximated value 2.3933333333333335 is very close to the exact value\n"
     ]
    }
   ],
   "source": [
    "result, error = sci.integrate.quad(g, -1, 1)\n",
    "print(\"The approximated value\", result, \"is very close to the exact value\" )"
   ]
  },
  {
   "cell_type": "markdown",
   "metadata": {},
   "source": [
    "## Exercise 14.7"
   ]
  },
  {
   "cell_type": "code",
   "execution_count": null,
   "metadata": {},
   "outputs": [],
   "source": [
    "def montecarlo(g, Ω, K):\n",
    "    '''\n",
    "    Function approximates itegrals using monte carlo integration (again)\n",
    "    Inputs are \n",
    "    g is the function\n",
    "    Ω is the domain: an Nx2 array with the limits of the box in the\n",
    "    ith dimension as the ith row (this function only takes box domains)\n",
    "    K the number of random draws\n",
    "    \n",
    "    Output is the monte carlo approximation to g\n",
    "    '''\n",
    "    #parse Ω for N the dimension\n",
    "    N = Ω.shape[0]\n",
    "    #Define volume of Ω\n",
    "    vol = np.prod(Ω[:, 1] - Ω[:, 0])\n",
    "    #simulate function K times\n",
    "    integral = 0\n",
    "    K = np.int(K)\n",
    "    for i in range(K):\n",
    "        #Modifications are to fit it into the correct domain\n",
    "        randx = np.random.rand(N) * (Ω[:, 1] - Ω[:, 0]).T + Ω[:, 0].T\n",
    "        integral += g(*randx)\n",
    "    integral = vol * (1/K) * integral\n",
    "    return integral"
   ]
  },
  {
   "cell_type": "code",
   "execution_count": 201,
   "metadata": {},
   "outputs": [
    {
     "name": "stdout",
     "output_type": "stream",
     "text": [
      "K is 100000\n",
      "It's hard to get a good approximation\n"
     ]
    }
   ],
   "source": [
    "g = lambda x, y: int(x**2 + y**2 <= 1)\n",
    "Ω = np.array([[-1, 1], [-1, 1]])\n",
    "K = 100000\n",
    "montecarlo(g, Ω, K)\n",
    "print(\"It's hard to get a good approximation\")"
   ]
  },
  {
   "cell_type": "markdown",
   "metadata": {},
   "source": [
    "## Exercise 14.8"
   ]
  },
  {
   "cell_type": "code",
   "execution_count": 378,
   "metadata": {},
   "outputs": [],
   "source": [
    "#function which gives M primes which tim found online\n",
    "def primeslength(M):\n",
    "    primes  = []\n",
    "    number = 2\n",
    "    while len(primes) < M:\n",
    "        ptest    = [number for i in primes if number%i == 0]\n",
    "        primes  += [] if ptest else [number]\n",
    "        number += 1\n",
    "    primes = np.array(primes)\n",
    "    return primes\n",
    "\n",
    "def equidist(d, n, kind = 'Weyl'):\n",
    "    '''\n",
    "    Function gives the nth element of a d-dimensional equidimensional\n",
    "    sequence.\n",
    "    \n",
    "    Possible types are: 'Weyl', 'Haber', 'Niederreiter', 'Baker' \n",
    "    \n",
    "    Output is n by d - a row is a sequence element.  \n",
    "    Note - for large n, the creation of the primelist will be quite \n",
    "    computationally expensive.\n",
    "    '''\n",
    "    primelist = primeslength(d)\n",
    "    equidseq = np.zeros((n, d))\n",
    "    nlist = np.arange(1, n+1, 1)\n",
    "    if kind == 'Weyl':\n",
    "        mat = np.outer(nlist, np.sqrt(primelist))\n",
    "    elif kind == 'Haber':\n",
    "        mat = np.outer((nlist*(nlist + 1))/2, np.sqrt(primelist))\n",
    "    elif kind =='Niederreiter':\n",
    "        slist = np.linspace(1, d, d)\n",
    "        S, N = np.meshgrid(slist, nlist)\n",
    "        mat = N * (2 ** (S/(N+1)))\n",
    "    elif kind == 'Baker':\n",
    "        print(\"Not sure how to construct this - strange definition\")\n",
    "    else: \n",
    "        raise ValueError('kind must be Weyl, Haber, Niederreiter, Baker')\n",
    "    equidseq = mat - np.floor(mat)\n",
    "    return equidseq"
   ]
  },
  {
   "cell_type": "code",
   "execution_count": 379,
   "metadata": {
    "scrolled": true
   },
   "outputs": [
    {
     "name": "stdout",
     "output_type": "stream",
     "text": [
      "[[0.41421356 0.        ]\n",
      " [0.5198421  0.1748021 ]\n",
      " [0.56762135 0.24264069]\n",
      " ...\n",
      " [0.69313812 0.38628585]\n",
      " [0.69313812 0.38628585]\n",
      " [0.69313812 0.38628585]]\n",
      "I don't know how to do Baker.\n"
     ]
    },
    {
     "data": {
      "text/plain": [
       "[<matplotlib.lines.Line2D at 0x1e7036ed4e0>]"
      ]
     },
     "execution_count": 379,
     "metadata": {},
     "output_type": "execute_result"
    },
    {
     "data": {
      "image/png": "[encoded data removed]",
      "text/plain": [
       "<Figure size 432x288 with 1 Axes>"
      ]
     },
     "metadata": {},
     "output_type": "display_data"
    }
   ],
   "source": [
    "equidseq = equidist(2, 50000, kind = 'Niederreiter')\n",
    "print(equidseq)\n",
    "print(\"I don't know how to do Baker.\")\n",
    "plt.plot(equidseq[:, 0], equidseq[:, 1], 'o')"
   ]
  },
  {
   "cell_type": "markdown",
   "metadata": {},
   "source": [
    "## Exercise 14.9"
   ]
  },
  {
   "cell_type": "code",
   "execution_count": 385,
   "metadata": {},
   "outputs": [],
   "source": [
    "def montecarlo9(g, Ω, K):\n",
    "    '''\n",
    "    Function approximates itegrals using pseudo monte carlo integration (again)\n",
    "    \n",
    "    Inputs are \n",
    "    g is the function\n",
    "    Ω is the domain: an Nx2 array with the limits of the box in the\n",
    "    ith dimension as the ith row (this function only takes box domains)\n",
    "    K the number of random draws\n",
    "    \n",
    "    I use weyl's pseudorandom sequence.\n",
    "    \n",
    "    Output is the monte carlo approximation to g using equidifferent sequences.\n",
    "    '''\n",
    "    #parse Ω for N the dimension\n",
    "    N = Ω.shape[0]\n",
    "    #Define volume of Ω\n",
    "    vol = np.prod(Ω[:, 1] - Ω[:, 0])\n",
    "    #simulate function K times\n",
    "    integral = 0\n",
    "    K = np.int(K)\n",
    "    for i in range(K):\n",
    "        #Modifications are to fit it into the correct domain\n",
    "        randx = equidist(N, K)[i, :]\n",
    "        integral += g(*randx)\n",
    "    integral = vol * (1/K) * integral\n",
    "    return integral"
   ]
  },
  {
   "cell_type": "code",
   "execution_count": 392,
   "metadata": {},
   "outputs": [
    {
     "name": "stdout",
     "output_type": "stream",
     "text": [
      "At K = 10000, pi approximates to 3.1412 which is pretty good!\n"
     ]
    }
   ],
   "source": [
    "g = lambda x, y: int(x**2 + y**2 <= 1)\n",
    "Ω = np.array([[-1, 1], [-1, 1]])\n",
    "K = 10000\n",
    "print(f\"At K = {K}, pi approximates to {montecarlo9(g, Ω, K)} which is pretty good!\")"
   ]
  }
 ],
 "metadata": {
  "kernelspec": {
   "display_name": "Python 3",
   "language": "python",
   "name": "python3"
  },
  "language_info": {
   "codemirror_mode": {
    "name": "ipython",
    "version": 3
   },
   "file_extension": ".py",
   "mimetype": "text/x-python",
   "name": "python",
   "nbconvert_exporter": "python",
   "pygments_lexer": "ipython3",
   "version": "3.6.5"
  }
 },
 "nbformat": 4,
 "nbformat_minor": 2
}
