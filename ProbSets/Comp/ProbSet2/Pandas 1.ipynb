{
 "cells": [
  {
   "cell_type": "code",
   "execution_count": 31,
   "metadata": {},
   "outputs": [],
   "source": [
    "import pandas as pd\n",
    "import numpy as np\n",
    "from matplotlib import pyplot as plt\n",
    "from numpy import random as rand\n",
    "from pydataset import data"
   ]
  },
  {
   "cell_type": "markdown",
   "metadata": {},
   "source": [
    "## Probelm 1"
   ]
  },
  {
   "cell_type": "code",
   "execution_count": 2,
   "metadata": {
    "scrolled": true
   },
   "outputs": [],
   "source": [
    "i = np.linspace(0, 50, 26)\n",
    "t = i ** 2 - 1\n",
    "\n",
    "series = pd.Series(t, index=i, name=\"Series\")\n",
    "\n",
    "series[np.array([i % 3 == 0 for i in series.index])] = 0"
   ]
  },
  {
   "cell_type": "markdown",
   "metadata": {},
   "source": [
    "## Problem 2"
   ]
  },
  {
   "cell_type": "code",
   "execution_count": 3,
   "metadata": {},
   "outputs": [
    {
     "data": {
      "text/plain": [
       "<matplotlib.axes._subplots.AxesSubplot at 0x1f7b017e710>"
      ]
     },
     "execution_count": 3,
     "metadata": {},
     "output_type": "execute_result"
    },
    {
     "data": {
      "image/png": "[encoded data removed]",
      "text/plain": [
       "<Figure size 432x288 with 1 Axes>"
      ]
     },
     "metadata": {},
     "output_type": "display_data"
    }
   ],
   "source": [
    "#I didn't exactly follow the instructions, I realize.\n",
    "\n",
    "def valtomorrow(p, v_t):\n",
    "    '''\n",
    "    Executes one step of the stock movement. Inputs are p = \n",
    "    probability of stock going up, v_t = value today. Output\n",
    "    is v_tprime = v_t plus or minus 1\n",
    "    '''\n",
    "    z = rand.binomial(1, p)\n",
    "    if z == 1:\n",
    "        v_tprime = v_t + 1\n",
    "    else:\n",
    "        v_tprime = v_t - 1\n",
    "    return(v_tprime)\n",
    "    \n",
    "def randomwalk(p, d=100):\n",
    "    '''\n",
    "    This function models the random movements of a volatile \n",
    "    stock. Inputs are d = the dollar amount at the beginning \n",
    "    and p = the probability of the stock going up. Output is\n",
    "    a series that has the stock value at each date between 1 \n",
    "    Jan 2000 and 31 Dec 2000.\n",
    "    '''\n",
    "    dates = pd.date_range(\"1/1/2000\", \"12/31/2000\", freq = \"D\")\n",
    "    #note that this includes leap year\n",
    "    series = pd.Series(np.zeros(366), index = dates)\n",
    "   \n",
    "    #do the random walk\n",
    "    series[0] = d\n",
    "    for i in range(1, 366):\n",
    "        series[i] = valtomorrow(p, series[i-1])\n",
    "    \n",
    "    #correct for negative entries\n",
    "    series[np.array([series[i] < 0 for i in series.index])] = 0\n",
    "    return series\n",
    "\n",
    "s1 = randomwalk(.5, 100)\n",
    "s2 = randomwalk(.6, 70)\n",
    "s3 = randomwalk(.2, 150)\n",
    "\n",
    "s1.plot()\n",
    "s2.plot()\n",
    "s3.plot()"
   ]
  },
  {
   "cell_type": "markdown",
   "metadata": {},
   "source": [
    "## Exercise 3"
   ]
  },
  {
   "cell_type": "code",
   "execution_count": 4,
   "metadata": {},
   "outputs": [
    {
     "data": {
      "text/html": [
       "<div>\n",
       "<style scoped>\n",
       "    .dataframe tbody tr th:only-of-type {\n",
       "        vertical-align: middle;\n",
       "    }\n",
       "\n",
       "    .dataframe tbody tr th {\n",
       "        vertical-align: top;\n",
       "    }\n",
       "\n",
       "    .dataframe thead th {\n",
       "        text-align: right;\n",
       "    }\n",
       "</style>\n",
       "<table border=\"1\" class=\"dataframe\">\n",
       "  <thead>\n",
       "    <tr style=\"text-align: right;\">\n",
       "      <th></th>\n",
       "      <th>ID</th>\n",
       "      <th>Name</th>\n",
       "    </tr>\n",
       "  </thead>\n",
       "  <tbody>\n",
       "    <tr>\n",
       "      <th>0</th>\n",
       "      <td>0</td>\n",
       "      <td>Mylan</td>\n",
       "    </tr>\n",
       "    <tr>\n",
       "      <th>6</th>\n",
       "      <td>6</td>\n",
       "      <td>Matt</td>\n",
       "    </tr>\n",
       "  </tbody>\n",
       "</table>\n",
       "</div>"
      ],
      "text/plain": [
       "   ID   Name\n",
       "0   0  Mylan\n",
       "6   6   Matt"
      ]
     },
     "execution_count": 4,
     "metadata": {},
     "output_type": "execute_result"
    }
   ],
   "source": [
    "# Build Toy Data\n",
    "name = ['Mylan', 'Regan', 'Justin', 'Jess', 'Jason', 'Remi', 'Matt', \\\n",
    "        'Alexander', 'JeanMarie']\n",
    "sex = ['M', 'F', 'M', 'F', 'M', 'F', 'M', 'M', 'F']\n",
    "age = [20, 21, 18, 22, 19, 20, 20, 19, 20]\n",
    "rank = ['Sp', 'Se', 'Fr', 'Se', 'Sp', 'J', 'J', 'J', 'Se']\n",
    "ID = range(9)\n",
    "aid = ['y', 'n', 'n', 'y', 'n', 'n', 'n', 'y', 'n']\n",
    "GPA = [3.8, 3.5, 3.0, 3.9, 2.8, 2.9, 3.8, 3.4, 3.7]\n",
    "mathID = [0, 1, 5, 6, 3]\n",
    "mathGd = [4.0, 3.0, 3.5, 3.0, 4.0]\n",
    "major = ['y', 'n', 'y', 'n', 'n']\n",
    "studentInfo = pd.DataFrame({'ID': ID, 'Name': name, 'Sex': sex, \\\n",
    "                            'Age': age, 'Class': rank})\n",
    "otherInfo = pd.DataFrame({'ID': ID, 'GPA': GPA, 'Financial_Aid': aid})\n",
    "mathInfo = pd.DataFrame({'ID': mathID, 'Grade': mathGd, 'Math_Major': \\\n",
    "                         major})\n",
    "\n",
    "#Execute Query\n",
    "studentInfo[(studentInfo['Age'] > 19) & (studentInfo['Sex'] =='M')]\\\n",
    "[['ID', 'Name']]\n"
   ]
  },
  {
   "cell_type": "markdown",
   "metadata": {},
   "source": [
    "## Problem 4"
   ]
  },
  {
   "cell_type": "code",
   "execution_count": 5,
   "metadata": {
    "scrolled": true
   },
   "outputs": [
    {
     "data": {
      "text/html": [
       "<div>\n",
       "<style scoped>\n",
       "    .dataframe tbody tr th:only-of-type {\n",
       "        vertical-align: middle;\n",
       "    }\n",
       "\n",
       "    .dataframe tbody tr th {\n",
       "        vertical-align: top;\n",
       "    }\n",
       "\n",
       "    .dataframe thead th {\n",
       "        text-align: right;\n",
       "    }\n",
       "</style>\n",
       "<table border=\"1\" class=\"dataframe\">\n",
       "  <thead>\n",
       "    <tr style=\"text-align: right;\">\n",
       "      <th></th>\n",
       "      <th>ID</th>\n",
       "      <th>Age</th>\n",
       "      <th>GPA</th>\n",
       "    </tr>\n",
       "  </thead>\n",
       "  <tbody>\n",
       "    <tr>\n",
       "      <th>0</th>\n",
       "      <td>0</td>\n",
       "      <td>20</td>\n",
       "      <td>3.8</td>\n",
       "    </tr>\n",
       "    <tr>\n",
       "      <th>1</th>\n",
       "      <td>2</td>\n",
       "      <td>18</td>\n",
       "      <td>3.0</td>\n",
       "    </tr>\n",
       "    <tr>\n",
       "      <th>2</th>\n",
       "      <td>4</td>\n",
       "      <td>19</td>\n",
       "      <td>2.8</td>\n",
       "    </tr>\n",
       "    <tr>\n",
       "      <th>3</th>\n",
       "      <td>6</td>\n",
       "      <td>20</td>\n",
       "      <td>3.8</td>\n",
       "    </tr>\n",
       "    <tr>\n",
       "      <th>4</th>\n",
       "      <td>7</td>\n",
       "      <td>19</td>\n",
       "      <td>3.4</td>\n",
       "    </tr>\n",
       "  </tbody>\n",
       "</table>\n",
       "</div>"
      ],
      "text/plain": [
       "   ID  Age  GPA\n",
       "0   0   20  3.8\n",
       "1   2   18  3.0\n",
       "2   4   19  2.8\n",
       "3   6   20  3.8\n",
       "4   7   19  3.4"
      ]
     },
     "execution_count": 5,
     "metadata": {},
     "output_type": "execute_result"
    }
   ],
   "source": [
    "pd.merge(studentInfo[(studentInfo['Sex']=='M')][['ID', 'Age']], \\\n",
    "         otherInfo[['ID', 'GPA']], on = 'ID', how= 'inner')"
   ]
  },
  {
   "cell_type": "code",
   "execution_count": 6,
   "metadata": {},
   "outputs": [
    {
     "data": {
      "image/png": "[encoded data removed]",
      "text/plain": [
       "<Figure size 432x288 with 1 Axes>"
      ]
     },
     "metadata": {},
     "output_type": "display_data"
    },
    {
     "name": "stdout",
     "output_type": "stream",
     "text": [
      "The top years for crime rate in descending order are:\n",
      "The average number of total crimes from 1960 to 2012 is:\n",
      "10638068.075471697\n",
      "The average number of burglaries from 1960 to 2012 is:\n",
      "2446286.2075471696\n",
      "The years for which total number of crimes were below average but burglaries were above average are: \n"
     ]
    },
    {
     "data": {
      "image/png": "[encoded data removed]",
      "text/plain": [
       "<Figure size 432x288 with 1 Axes>"
      ]
     },
     "metadata": {},
     "output_type": "display_data"
    }
   ],
   "source": [
    "#Redin\n",
    "df = pd.read_csv('Data/crime_data.csv', header = 1, index_col = 0)\n",
    "\n",
    "#Mess with data\n",
    "df['Crime Rate'] = df['Total'] / df['Population']\n",
    "\n",
    "yearrate = pd.Series(df['Crime Rate'], df.index)\n",
    "yearrate.plot()\n",
    "plt.ylabel('Crimes per person')\n",
    "plt.title(\"Crime Rate by year\")\n",
    "plt.show()\n",
    "\n",
    "print(\"The top years for crime rate in descending order are:\")\n",
    "df.sort_values('Crime Rate', ascending = False).head().index.tolist()\n",
    "\n",
    "print(\"The average number of total crimes from 1960 to 2012 is:\")\n",
    "print(df['Total'].mean())\n",
    "print(\"The average number of burglaries from 1960 to 2012 is:\")\n",
    "print(df['Burglary'].mean())\n",
    "\n",
    "print(\"The years for which total number of crimes were below average \\\n",
    "but burglaries were above average are: \")\n",
    "df[ ( df['Total'] < df['Total'].mean() ) & ( df['Burglary'] > \\\n",
    "df['Burglary'].mean() ) ].index.tolist()\n",
    "\n",
    "df.plot('Population', 'Murder')\n",
    "plt.title('Murders as a function of Population')\n",
    "plt.xlabel('Population (In millions)')\n",
    "plt.ylabel('Murders')\n",
    "plt.show()\n",
    "\n",
    "df[['Population', 'Violent', 'Robbery']].to_csv('Data/crime_subset.csv')"
   ]
  },
  {
   "cell_type": "markdown",
   "metadata": {},
   "source": [
    "## Exercise 6"
   ]
  },
  {
   "cell_type": "code",
   "execution_count": 98,
   "metadata": {
    "scrolled": true
   },
   "outputs": [
    {
     "name": "stdout",
     "output_type": "stream",
     "text": [
      "29.8811345124283\n",
      "This many people survived: 500\n",
      "This percent of passengers survived: 38.19709702062643\n",
      "This was the average price of a ticket: 33.29547928134572\n",
      "This was the price of the most expensive ticket: 512.3292\n",
      "This was the age of the oldest survivor: 80.0\n",
      "This was the age of the youngest survivor: 0.1667\n",
      "This was the age of the oldest nonsurvivor: 74.0\n",
      "This was the age of the youngest nonsurvivor: 0.3333\n"
     ]
    }
   ],
   "source": [
    "from pydataset import data\n",
    "\n",
    "#Cleaning\n",
    "df = pd.read_csv('Data/titanic.csv', header = 0)\n",
    "df = df.drop(columns = ['Sibsp', 'Parch', 'Cabin', 'Boat', 'Body'])\n",
    "df = df.dropna(subset = ['Survived'])\n",
    "df['Survived'] = (df['Survived']==1)\n",
    "print(df['Age'].mean())\n",
    "df.fillna({'Age': df['Age'].mean()})\n",
    "df.to_csv('Data/titanic_clean.csv')\n",
    "\n",
    "#Analysis \n",
    "\n",
    "print(\"This many people survived:\", df['Survived'].sum())\n",
    "print(\"This percent of passengers survived:\", 100 * (df['Survived'].sum() / len(df['Survived'])))\n",
    "print(\"This was the average price of a ticket:\", df['Fare'].mean())\n",
    "print(\"This was the price of the most expensive ticket:\", df['Fare'].max())\n",
    "print(\"This was the age of the oldest survivor:\", df[df['Survived'] == 1]['Age'].max())\n",
    "print(\"This was the age of the youngest survivor:\", df[df['Survived'] == 1]['Age'].min())\n",
    "print(\"This was the age of the oldest nonsurvivor:\", df[df['Survived'] == 0]['Age'].max())\n",
    "print(\"This was the age of the youngest nonsurvivor:\", df[df['Survived'] == 0]['Age'].min())"
   ]
  },
  {
   "cell_type": "code",
   "execution_count": null,
   "metadata": {},
   "outputs": [],
   "source": []
  },
  {
   "cell_type": "code",
   "execution_count": null,
   "metadata": {},
   "outputs": [],
   "source": []
  },
  {
   "cell_type": "code",
   "execution_count": null,
   "metadata": {},
   "outputs": [],
   "source": []
  }
 ],
 "metadata": {
  "kernelspec": {
   "display_name": "Python 3",
   "language": "python",
   "name": "python3"
  },
  "language_info": {
   "codemirror_mode": {
    "name": "ipython",
    "version": 3
   },
   "file_extension": ".py",
   "mimetype": "text/x-python",
   "name": "python",
   "nbconvert_exporter": "python",
   "pygments_lexer": "ipython3",
   "version": "3.6.5"
  }
 },
 "nbformat": 4,
 "nbformat_minor": 2
}
