{
 "cells": [
  {
   "cell_type": "code",
   "execution_count": 1,
   "metadata": {},
   "outputs": [],
   "source": [
    "import numpy as np\n",
    "from matplotlib import pyplot as plt\n",
    "from scipy import linalg as la\n",
    "import pandas as pd"
   ]
  },
  {
   "cell_type": "markdown",
   "metadata": {},
   "source": [
    "## Exercise 1"
   ]
  },
  {
   "cell_type": "code",
   "execution_count": 2,
   "metadata": {},
   "outputs": [
    {
     "data": {
      "text/plain": [
       "True"
      ]
     },
     "execution_count": 2,
     "metadata": {},
     "output_type": "execute_result"
    }
   ],
   "source": [
    "def drazintest(A, k, AD):\n",
    "    '''\n",
    "    function accepts square matrices A, AD, and k the index of A.\n",
    "    (Question - is there an algorithm to compute the index \n",
    "    of a matrix?)\n",
    "    Returns Boolean for statement (AD is drazin inverse of A)\n",
    "    '''\n",
    "    output = (np.allclose(A @ AD, AD @ A) & \\\n",
    "              np.allclose(np.linalg.matrix_power(A, k+1) @ AD, np.linalg.matrix_power(A, k)) & \\\n",
    "              np.allclose(AD @ A @ AD, AD))\n",
    "    return output\n",
    "    \n",
    "A = np.array([[1, 3, 0, 0], \\\n",
    "              [0, 1, 3, 0], \\\n",
    "              [0, 0, 1, 3], \\\n",
    "              [0, 0, 0, 0]] )\n",
    "Ak = 1\n",
    "AD = np.array([[1, -3, 9, 81], \\\n",
    "               [0, 1, -3, -18], \\\n",
    "               [0, 0, 1, 3], \\\n",
    "               [0, 0, 0, 0]])\n",
    "\n",
    "B = np.array([[1, 1, 3], \\\n",
    "               [5, 2, 6], \\\n",
    "               [-2, -1, -3]])\n",
    "Bk = 3\n",
    "BD = np.zeros((3, 3))\n",
    "\n",
    "drazintest(A, Ak, AD)\n",
    "drazintest(B, Bk, BD)"
   ]
  },
  {
   "cell_type": "markdown",
   "metadata": {},
   "source": [
    "## Exercise 2"
   ]
  },
  {
   "cell_type": "code",
   "execution_count": 12,
   "metadata": {},
   "outputs": [
    {
     "data": {
      "text/plain": [
       "array([[  1.,  -3.,   9.,  81.],\n",
       "       [  0.,   1.,  -3., -18.],\n",
       "       [  0.,   0.,   1.,   3.],\n",
       "       [  0.,   0.,   0.,   0.]])"
      ]
     },
     "execution_count": 12,
     "metadata": {},
     "output_type": "execute_result"
    }
   ],
   "source": [
    "A = np.random.rand(5, 5)\n",
    "tol = .3\n",
    "\n",
    "def drazin(A, tol):    \n",
    "    n = A.shape[0]\n",
    "    # Sort schur decomposition so that zero eigenvals come last\n",
    "    f1 = lambda x: abs(x) > tol\n",
    "    Q1, S, k1 = la.schur(A, sort = f1)\n",
    "    f2 = lambda x: abs(x) <= tol\n",
    "    Q2, T, k2 = la.schur(A, sort = f2)\n",
    "    U = np.hstack((S[:, :k1], T[:,:(n-k1)]))\n",
    "    #Compute Drazin inverse as in 15.2\n",
    "    Uinv = np.linalg.inv(U)\n",
    "    V = Uinv @ A @ U\n",
    "    Z = np.zeros((n, n), dtype =float)\n",
    "    if k1 == 0:\n",
    "        print('ERROR: All zero eigenvalues')\n",
    "    else:\n",
    "        Minv = np.linalg.inv(V[:k1,:k1])\n",
    "        Z[:k1,:k1] = Minv\n",
    "    out = U @ Z @ Uinv\n",
    "    return out\n",
    "\n",
    "#print(\"\\n A = \\n\", A, \"\\n T1 = \\n\", T1, \"\\n Z1TZ1^-1 = \\n\", U1 @ T1 @ U1inv)\n",
    "A = np.array([[1, 3, 0, 0], \\\n",
    "              [0, 1, 3, 0], \\\n",
    "              [0, 0, 1, 3], \\\n",
    "              [0, 0, 0, 0]] )\n",
    "drazin(A, .01)\n",
    "# I am not sure why this algorithm is not working..."
   ]
  },
  {
   "cell_type": "markdown",
   "metadata": {},
   "source": [
    "## Exercise 3"
   ]
  },
  {
   "cell_type": "code",
   "execution_count": 9,
   "metadata": {},
   "outputs": [],
   "source": [
    "def drazin2(A, tol):\n",
    "    n, n = A.shape\n",
    "    f = lambda x: abs(x) > tol\n",
    "    g = lambda x: abs(x) <= tol\n",
    "    Q1, S, k1 = la.schur(A, sort=f)\n",
    "    Q2, T, k2 = la.schur(A, sort=g)\n",
    "    U = np.hstack((S[:, :k1], T[:, :(n - k1)]))\n",
    "    U_inv = la.inv(U)\n",
    "    V = U_inv @ A @ U\n",
    "    Z = np.zeros((n, n))\n",
    "    if k1 != 0:\n",
    "        M_inv = la.inv(V[:k1, :k1])\n",
    "        Z[:k1, :k1] = M_inv\n",
    "#     else:\n",
    "#         raise ValueError()\n",
    "    return U @ Z @ U_inv"
   ]
  },
  {
   "cell_type": "code",
   "execution_count": 10,
   "metadata": {},
   "outputs": [],
   "source": [
    "def getresist(A):\n",
    "    '''\n",
    "    Function takes in an adjacency matrix (square matrix, \n",
    "    each vertex is the number of connections from one node \n",
    "    to another) and returns the effective resistance for the\n",
    "    graph.\n",
    "    '''\n",
    "    n = A.shape[0]\n",
    "    #Defaine degree matrix\n",
    "    deg = np.sum(A, axis = 0)\n",
    "    D = np.diag(deg)\n",
    "    # Create laplacian\n",
    "    L = D - A\n",
    "    I = np.identity(n)\n",
    "    R = np.zeros((n,n))\n",
    "    for j in range(n):\n",
    "        Lj = L.copy()\n",
    "        Lj[:, j] = I[:, j]\n",
    "        LjD = drazin(Lj, .01)\n",
    "        R[:, j] = LjD.diagonal()\n",
    "        R[j, j] = 0\n",
    "    return R\n",
    "\n",
    "#Credit to reiko for typing out all these adjacency matrices\n"
   ]
  },
  {
   "cell_type": "code",
   "execution_count": 6,
   "metadata": {},
   "outputs": [
    {
     "ename": "NameError",
     "evalue": "name 'k' is not defined",
     "output_type": "error",
     "traceback": [
      "\u001b[1;31m---------------------------------------------------------------------------\u001b[0m",
      "\u001b[1;31mNameError\u001b[0m                                 Traceback (most recent call last)",
      "\u001b[1;32m<ipython-input-6-4af908adb86d>\u001b[0m in \u001b[0;36m<module>\u001b[1;34m()\u001b[0m\n\u001b[0;32m      1\u001b[0m \u001b[0mG1\u001b[0m \u001b[1;33m=\u001b[0m \u001b[0mnp\u001b[0m\u001b[1;33m.\u001b[0m\u001b[0marray\u001b[0m\u001b[1;33m(\u001b[0m\u001b[1;33m[\u001b[0m\u001b[1;33m[\u001b[0m\u001b[1;36m0\u001b[0m\u001b[1;33m,\u001b[0m \u001b[1;36m1\u001b[0m\u001b[1;33m,\u001b[0m \u001b[1;36m0\u001b[0m\u001b[1;33m,\u001b[0m \u001b[1;36m0\u001b[0m\u001b[1;33m]\u001b[0m\u001b[1;33m,\u001b[0m \u001b[1;33m[\u001b[0m\u001b[1;36m1\u001b[0m\u001b[1;33m,\u001b[0m \u001b[1;36m0\u001b[0m\u001b[1;33m,\u001b[0m \u001b[1;36m1\u001b[0m\u001b[1;33m,\u001b[0m \u001b[1;36m0\u001b[0m\u001b[1;33m]\u001b[0m\u001b[1;33m,\u001b[0m \u001b[1;33m[\u001b[0m\u001b[1;36m0\u001b[0m\u001b[1;33m,\u001b[0m \u001b[1;36m1\u001b[0m\u001b[1;33m,\u001b[0m \u001b[1;36m0\u001b[0m\u001b[1;33m,\u001b[0m \u001b[1;36m1\u001b[0m\u001b[1;33m]\u001b[0m\u001b[1;33m,\u001b[0m \u001b[1;33m[\u001b[0m\u001b[1;36m0\u001b[0m\u001b[1;33m,\u001b[0m \u001b[1;36m0\u001b[0m\u001b[1;33m,\u001b[0m \u001b[1;36m1\u001b[0m\u001b[1;33m,\u001b[0m \u001b[1;36m0\u001b[0m\u001b[1;33m]\u001b[0m\u001b[1;33m]\u001b[0m\u001b[1;33m)\u001b[0m\u001b[1;33m\u001b[0m\u001b[0m\n\u001b[1;32m----> 2\u001b[1;33m \u001b[0mgetresist\u001b[0m\u001b[1;33m(\u001b[0m\u001b[0mG1\u001b[0m\u001b[1;33m)\u001b[0m\u001b[1;33m\u001b[0m\u001b[0m\n\u001b[0m",
      "\u001b[1;32m<ipython-input-5-11b64ca47ad6>\u001b[0m in \u001b[0;36mgetresist\u001b[1;34m(A)\u001b[0m\n\u001b[0;32m     17\u001b[0m         \u001b[0mLj\u001b[0m \u001b[1;33m=\u001b[0m \u001b[0mL\u001b[0m\u001b[1;33m.\u001b[0m\u001b[0mcopy\u001b[0m\u001b[1;33m(\u001b[0m\u001b[1;33m)\u001b[0m\u001b[1;33m\u001b[0m\u001b[0m\n\u001b[0;32m     18\u001b[0m         \u001b[0mLj\u001b[0m\u001b[1;33m[\u001b[0m\u001b[1;33m:\u001b[0m\u001b[1;33m,\u001b[0m \u001b[0mj\u001b[0m\u001b[1;33m]\u001b[0m \u001b[1;33m=\u001b[0m \u001b[0mI\u001b[0m\u001b[1;33m[\u001b[0m\u001b[1;33m:\u001b[0m\u001b[1;33m,\u001b[0m \u001b[0mj\u001b[0m\u001b[1;33m]\u001b[0m\u001b[1;33m\u001b[0m\u001b[0m\n\u001b[1;32m---> 19\u001b[1;33m         \u001b[0mLjD\u001b[0m \u001b[1;33m=\u001b[0m \u001b[0mdrazin\u001b[0m\u001b[1;33m(\u001b[0m\u001b[0mLj\u001b[0m\u001b[1;33m,\u001b[0m \u001b[1;36m.01\u001b[0m\u001b[1;33m)\u001b[0m\u001b[1;33m\u001b[0m\u001b[0m\n\u001b[0m\u001b[0;32m     20\u001b[0m         \u001b[0mR\u001b[0m\u001b[1;33m[\u001b[0m\u001b[1;33m:\u001b[0m\u001b[1;33m,\u001b[0m \u001b[0mj\u001b[0m\u001b[1;33m]\u001b[0m \u001b[1;33m=\u001b[0m \u001b[0mLjD\u001b[0m\u001b[1;33m.\u001b[0m\u001b[0mdiagonal\u001b[0m\u001b[1;33m(\u001b[0m\u001b[1;33m)\u001b[0m\u001b[1;33m\u001b[0m\u001b[0m\n\u001b[0;32m     21\u001b[0m         \u001b[0mR\u001b[0m\u001b[1;33m[\u001b[0m\u001b[0mj\u001b[0m\u001b[1;33m,\u001b[0m \u001b[0mj\u001b[0m\u001b[1;33m]\u001b[0m \u001b[1;33m=\u001b[0m \u001b[1;36m0\u001b[0m\u001b[1;33m\u001b[0m\u001b[0m\n",
      "\u001b[1;32m<ipython-input-3-66d2fbe40486>\u001b[0m in \u001b[0;36mdrazin\u001b[1;34m(A, tol)\u001b[0m\n\u001b[0;32m     14\u001b[0m     \u001b[0mV\u001b[0m \u001b[1;33m=\u001b[0m \u001b[0mUinv\u001b[0m \u001b[1;33m@\u001b[0m \u001b[0mA\u001b[0m \u001b[1;33m@\u001b[0m \u001b[0mU\u001b[0m\u001b[1;33m\u001b[0m\u001b[0m\n\u001b[0;32m     15\u001b[0m     \u001b[0mZ\u001b[0m \u001b[1;33m=\u001b[0m \u001b[0mnp\u001b[0m\u001b[1;33m.\u001b[0m\u001b[0mzeros\u001b[0m\u001b[1;33m(\u001b[0m\u001b[1;33m(\u001b[0m\u001b[0mn\u001b[0m\u001b[1;33m,\u001b[0m \u001b[0mn\u001b[0m\u001b[1;33m)\u001b[0m\u001b[1;33m,\u001b[0m \u001b[0mdtype\u001b[0m \u001b[1;33m=\u001b[0m\u001b[0mfloat\u001b[0m\u001b[1;33m)\u001b[0m\u001b[1;33m\u001b[0m\u001b[0m\n\u001b[1;32m---> 16\u001b[1;33m     \u001b[1;32mif\u001b[0m \u001b[0mk\u001b[0m \u001b[1;33m==\u001b[0m \u001b[1;36m0\u001b[0m\u001b[1;33m:\u001b[0m\u001b[1;33m\u001b[0m\u001b[0m\n\u001b[0m\u001b[0;32m     17\u001b[0m         \u001b[0mprint\u001b[0m\u001b[1;33m(\u001b[0m\u001b[1;34m'ERROR: All zero eigenvalues'\u001b[0m\u001b[1;33m)\u001b[0m\u001b[1;33m\u001b[0m\u001b[0m\n\u001b[0;32m     18\u001b[0m     \u001b[1;32melse\u001b[0m\u001b[1;33m:\u001b[0m\u001b[1;33m\u001b[0m\u001b[0m\n",
      "\u001b[1;31mNameError\u001b[0m: name 'k' is not defined"
     ]
    }
   ],
   "source": [
    "G1 = np.array([[0, 1, 0, 0], [1, 0, 1, 0], [0, 1, 0, 1], [0, 0, 1, 0]])\n",
    "getresist(G1)"
   ]
  },
  {
   "cell_type": "code",
   "execution_count": 212,
   "metadata": {},
   "outputs": [
    {
     "data": {
      "text/plain": [
       "array([[0., 1.],\n",
       "       [1., 0.]])"
      ]
     },
     "execution_count": 212,
     "metadata": {},
     "output_type": "execute_result"
    }
   ],
   "source": [
    "G2 = np.array([[0, 1], [1, 0]])\n",
    "getresist(G2)"
   ]
  },
  {
   "cell_type": "code",
   "execution_count": 213,
   "metadata": {},
   "outputs": [
    {
     "data": {
      "text/plain": [
       "array([[0.        , 0.66666667, 0.66666667],\n",
       "       [0.66666667, 0.        , 0.66666667],\n",
       "       [0.66666667, 0.66666667, 0.        ]])"
      ]
     },
     "execution_count": 213,
     "metadata": {},
     "output_type": "execute_result"
    }
   ],
   "source": [
    "G3 = np.array([[0, 1, 1], [1, 0, 1], [1, 1, 0]])\n",
    "getresist(G3)\n"
   ]
  },
  {
   "cell_type": "code",
   "execution_count": 214,
   "metadata": {},
   "outputs": [
    {
     "data": {
      "text/plain": [
       "array([[0.        , 0.33333333],\n",
       "       [0.33333333, 0.        ]])"
      ]
     },
     "execution_count": 214,
     "metadata": {},
     "output_type": "execute_result"
    }
   ],
   "source": [
    "G4 = np.array([[0, 3], [3, 0]])\n",
    "getresist(G4)"
   ]
  },
  {
   "cell_type": "code",
   "execution_count": 215,
   "metadata": {},
   "outputs": [
    {
     "data": {
      "text/plain": [
       "array([[0. , 0.5],\n",
       "       [0.5, 0. ]])"
      ]
     },
     "execution_count": 215,
     "metadata": {},
     "output_type": "execute_result"
    }
   ],
   "source": [
    "G5 = np.array([[0, 2], [2, 0]])\n",
    "getresist(G5)"
   ]
  },
  {
   "cell_type": "code",
   "execution_count": 216,
   "metadata": {},
   "outputs": [
    {
     "data": {
      "text/plain": [
       "array([[0.  , 0.25],\n",
       "       [0.25, 0.  ]])"
      ]
     },
     "execution_count": 216,
     "metadata": {},
     "output_type": "execute_result"
    }
   ],
   "source": [
    "G6 = np.array([[0, 4], [4, 0]])\n",
    "getresist(G6)"
   ]
  },
  {
   "cell_type": "markdown",
   "metadata": {},
   "source": [
    "## Exercise 4 + 5"
   ]
  },
  {
   "cell_type": "code",
   "execution_count": 324,
   "metadata": {
    "scrolled": true
   },
   "outputs": [
    {
     "name": "stdout",
     "output_type": "stream",
     "text": [
      "['Sonia']\n",
      "['Piers']\n",
      "HOORAY!\n"
     ]
    }
   ],
   "source": [
    "class LinkPredictor:\n",
    "    '''\n",
    "    Link Predictor class. Accepts filename as an input.\n",
    "    The format of the file is \"\"\n",
    "    '''\n",
    "    def __init__(self, file):\n",
    "        #Get raw data\n",
    "        self.raw = pd.read_csv(file, header=None)\n",
    "        #Grab names\n",
    "        self.names = np.unique(np.concatenate((self.raw[0], self.raw[1])))\n",
    "        n = len(self.names)\n",
    "        # Create adjacency matrix\n",
    "        adj = np.zeros((n, n))\n",
    "        for i in self.raw.index:\n",
    "            name1, name2 = self.raw[0][i], self.raw[1][i]\n",
    "            name1loc = np.where(name1 == self.names)\n",
    "            name2loc = np.where(name2 == self.names)\n",
    "            adj[name1loc, name2loc] = 1\n",
    "            adj[name2loc, name1loc] = 1\n",
    "        self.adj = adj\n",
    "        #Compute resistance matrix\n",
    "        self.resist = getresist(self.adj)\n",
    "        \n",
    "    def predict_link(self, node='none'):\n",
    "        '''\n",
    "        Parameter node = none or the string representative\n",
    "        of a node. if node = none, return a tuple of the names\n",
    "        of the nodes between which the next link should occur, \n",
    "        if node = name return the name of the next node which\n",
    "        name should be connected to\n",
    "        '''\n",
    "        #First step - zero out all connected nodes\n",
    "        possconnectmat = self.resist * (1 - self.adj)\n",
    "        if (node == 'None')| (node == 'none'):\n",
    "            # Now find minimal nonzero value in this matrix\n",
    "            minresist = np.min(possconnectmat[possconnectmat > 0])\n",
    "            # Figure out where this value is\n",
    "            locator = np.where(possconnectmat==minresist)\n",
    "            # Redundant so I only spit out the first item. \n",
    "            return self.names[locator[0]]\n",
    "            '''\n",
    "            Note that this only returns the *first* pair (there could \n",
    "            be multiple pairs that have the same minimal resistance)\n",
    "            If I wanted to check for more loops I'd just loop through\n",
    "            the length of the locator.\n",
    "            '''\n",
    "        elif (node in self.names):\n",
    "            #Figure out where in name list node is.\n",
    "            nameloc = np.where(self.names == node)\n",
    "            Col = possconnectmat[:,nameloc]\n",
    "            minresist = np.min(Col[Col > 0])\n",
    "            locator = np.where(Col==minresist)\n",
    "            return self.names[locator[0]]\n",
    "        else:\n",
    "            raise ValueError(\"Input not valid name\")\n",
    "\n",
    "        \n",
    "    def add_link(self, node1, node2):\n",
    "        if (node1 in self.names) & (node2 in self.names):\n",
    "            # Grab locators\n",
    "            loc1 = np.where(self.names==node1)\n",
    "            loc2 = np.where(self.names==node2)\n",
    "            # Add link\n",
    "            self.adj[loc1, loc2] = 1\n",
    "            self.adj[loc2, loc1] = 1\n",
    "        else:\n",
    "            raise ValueError(\"Inputs are not valid names\")\n",
    "\n",
    "        \n",
    "Soc = LinkPredictor(\"Data/social_network.csv\")\n",
    "print(Soc.predict_link('Alan'))\n",
    "Soc.add_link('Sonia', 'Alan')\n",
    "print(Soc.predict_link(\"Alan\"))\n",
    "print(\"HOORAY!\")"
   ]
  },
  {
   "cell_type": "code",
   "execution_count": null,
   "metadata": {},
   "outputs": [],
   "source": []
  },
  {
   "cell_type": "code",
   "execution_count": null,
   "metadata": {},
   "outputs": [],
   "source": []
  }
 ],
 "metadata": {
  "kernelspec": {
   "display_name": "Python 3",
   "language": "python",
   "name": "python3"
  },
  "language_info": {
   "codemirror_mode": {
    "name": "ipython",
    "version": 3
   },
   "file_extension": ".py",
   "mimetype": "text/x-python",
   "name": "python",
   "nbconvert_exporter": "python",
   "pygments_lexer": "ipython3",
   "version": "3.6.5"
  }
 },
 "nbformat": 4,
 "nbformat_minor": 2
}
