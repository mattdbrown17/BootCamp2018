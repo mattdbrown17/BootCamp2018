{
 "cells": [
  {
   "cell_type": "code",
   "execution_count": 19,
   "metadata": {},
   "outputs": [],
   "source": [
    "import numpy as np\n",
    "from scipy import linalg as la\n",
    "import sympy as sy\n",
    "from matplotlib import pyplot as plt"
   ]
  },
  {
   "cell_type": "markdown",
   "metadata": {},
   "source": [
    "## Exercise 1"
   ]
  },
  {
   "cell_type": "code",
   "execution_count": 16,
   "metadata": {},
   "outputs": [
    {
     "name": "stdout",
     "output_type": "stream",
     "text": [
      "My number is close to scipys: 1.4210854715202004e-14\n",
      "Orthonormals have QR decomp of 1: 1.0000000000000004\n"
     ]
    }
   ],
   "source": [
    "def condnum(A):\n",
    "    σ = la.svd(A)[1]\n",
    "    cnum = σ[0] / σ[-1]\n",
    "    return cnum\n",
    "\n",
    "A = np.random.rand(5, 5)\n",
    "\n",
    "print(\"My number is close to scipys:\", condnum(A) - np.linalg.cond(A))\n",
    "Q = la.qr(A)[0]\n",
    "print(\"Orthonormals have QR decomp of 1:\", condnum(Q))"
   ]
  },
  {
   "cell_type": "markdown",
   "metadata": {},
   "source": [
    "## Exercise 2"
   ]
  },
  {
   "cell_type": "code",
   "execution_count": 71,
   "metadata": {},
   "outputs": [
    {
     "data": {
      "image/png": "[encoded data removed]",
      "text/plain": [
       "<Figure size 432x288 with 1 Axes>"
      ]
     },
     "metadata": {},
     "output_type": "display_data"
    },
    {
     "name": "stdout",
     "output_type": "stream",
     "text": [
      "The estimated absolute condition number is 3.57444205215334e-9\n",
      "The estimated relative condition number is 2467055010.53413\n"
     ]
    }
   ],
   "source": [
    "# Define wilkinson polynomial\n",
    "x, i = sy.symbols('x i')\n",
    "w = sy.poly_from_expr(sy.product(x-i, (i, 1, 20)))[0]\n",
    "w_coeffs = np.array(w.all_coeffs())\n",
    "# find roots\n",
    "trueroots = np.roots(np.poly1d(w_coeffs))\n",
    "# Plot (only real coeffs.)\n",
    "plt.plot(trueroots, np.zeros(20), 'o', label = \"Original\")\n",
    "# Initialize storage lists\n",
    "acnlist = []\n",
    "rcnlist = []\n",
    "# Now loop over 100 perturbations\n",
    "for i in range(100):\n",
    "    #Initialize perturbation\n",
    "    c = np.random.normal(1, 1e-10, 21)\n",
    "    newcoeffs = w_coeffs * c\n",
    "    newroots = np.roots(np.poly1d(newcoeffs))\n",
    "    if i == 98:\n",
    "        plt.plot(newroots.real, newroots.imag, 'k,', label = \"Perturbed\") \n",
    "        plt.xlabel(\"Real Part\")\n",
    "        plt.ylabel(\"Imaginary Part\")\n",
    "        plt.legend()\n",
    "        plt.title(\"The Wilkinson Polynomial is Completely Bonkers\")\n",
    "    else:\n",
    "        plt.plot(newroots.real, newroots.imag, 'k,') \n",
    "    #Estimate absolute cond. norm\n",
    "    h = newcoeffs - w_coeffs\n",
    "    acn = la.norm(newroots - trueroots, np.inf) / la.norm(h, np.inf)\n",
    "    #Estimate Relative cond. norm\n",
    "    rcn = acn * la.norm(w_coeffs, np.inf) / la.norm(trueroots, np.inf) \n",
    "    #Store\n",
    "    acnlist = acnlist + [acn]\n",
    "    rcnlist = rcnlist + [rcn]\n",
    "plt.show()\n",
    "print(\"The estimated absolute condition number is\", np.mean(acnlist))\n",
    "print(\"The estimated relative condition number is\", np.mean(rcnlist))"
   ]
  },
  {
   "cell_type": "markdown",
   "metadata": {},
   "source": [
    "## Exercise 3 (BROKEN)"
   ]
  },
  {
   "cell_type": "code",
   "execution_count": 92,
   "metadata": {},
   "outputs": [
    {
     "name": "stdout",
     "output_type": "stream",
     "text": [
      "19.045159583220727 (0.7778207915466689, 5855050324.215831)\n"
     ]
    }
   ],
   "source": [
    "def estcondno(A):\n",
    "    '''\n",
    "    Function accepts A and estimates condition number of A\n",
    "    '''\n",
    "    # Initialize perturbation matrix H\n",
    "    reals = np.random.normal(0, 1e-10, A.shape)\n",
    "    imags = np.random.normal(0, 1e-10, A.shape)\n",
    "    #grab eigs\n",
    "    H = reals + 1j*imags\n",
    "    Aeigs = la.eigvals(A)\n",
    "    Perteigs = la.eigvals(A+H)\n",
    "    # calculate perturbation no.\n",
    "    eigdiff = Aeigs - Perteigs\n",
    "    acn = (la.norm(eigdiff, 2)) / (la.norm(H, 2))\n",
    "    rcn = acn * (la.norm(A, 2)) / (la.norm(eigdiff, 2))\n",
    "    return acn, rcn\n",
    "\n",
    "A = np.random.rand(5, 5)\n",
    "print(np.linalg.cond(A), estcondno(A))"
   ]
  },
  {
   "cell_type": "markdown",
   "metadata": {},
   "source": [
    "## Exercise 4"
   ]
  },
  {
   "cell_type": "code",
   "execution_count": 93,
   "metadata": {},
   "outputs": [
    {
     "ename": "SyntaxError",
     "evalue": "unexpected EOF while parsing (<ipython-input-93-013f485914c3>, line 2)",
     "output_type": "error",
     "traceback": [
      "\u001b[1;36m  File \u001b[1;32m\"<ipython-input-93-013f485914c3>\"\u001b[1;36m, line \u001b[1;32m2\u001b[0m\n\u001b[1;33m    # This depends on exercise 3...\u001b[0m\n\u001b[1;37m                                   ^\u001b[0m\n\u001b[1;31mSyntaxError\u001b[0m\u001b[1;31m:\u001b[0m unexpected EOF while parsing\n"
     ]
    }
   ],
   "source": [
    "def condnoplot(xin, xmax, ymin, ymax, res):\n",
    "    # This depends on exercise 3..."
   ]
  },
  {
   "cell_type": "code",
   "execution_count": null,
   "metadata": {},
   "outputs": [],
   "source": []
  }
 ],
 "metadata": {
  "kernelspec": {
   "display_name": "Python 3",
   "language": "python",
   "name": "python3"
  },
  "language_info": {
   "codemirror_mode": {
    "name": "ipython",
    "version": 3
   },
   "file_extension": ".py",
   "mimetype": "text/x-python",
   "name": "python",
   "nbconvert_exporter": "python",
   "pygments_lexer": "ipython3",
   "version": "3.6.5"
  }
 },
 "nbformat": 4,
 "nbformat_minor": 2
}
