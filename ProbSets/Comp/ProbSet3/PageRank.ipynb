{
 "cells": [
  {
   "cell_type": "markdown",
   "metadata": {},
   "source": [
    "## PageRank"
   ]
  },
  {
   "cell_type": "markdown",
   "metadata": {},
   "source": [
    "## Exercise 1"
   ]
  },
  {
   "cell_type": "code",
   "execution_count": 1,
   "metadata": {},
   "outputs": [],
   "source": [
    "import numpy as np\n",
    "from scipy.sparse import dok_matrix\n",
    "from scipy import linalg as la\n",
    "import pandas as pd"
   ]
  },
  {
   "cell_type": "code",
   "execution_count": 2,
   "metadata": {},
   "outputs": [
    {
     "data": {
      "text/plain": [
       "array([[0., 0., 0., 0., 0., 0., 0., 1.],\n",
       "       [1., 0., 0., 0., 0., 0., 0., 0.],\n",
       "       [0., 0., 0., 0., 0., 0., 0., 0.],\n",
       "       [1., 0., 1., 0., 0., 0., 1., 0.],\n",
       "       [1., 0., 0., 0., 0., 1., 1., 0.],\n",
       "       [1., 0., 0., 0., 0., 0., 1., 0.],\n",
       "       [1., 0., 0., 0., 0., 0., 0., 0.],\n",
       "       [1., 0., 0., 0., 0., 0., 0., 0.]])"
      ]
     },
     "execution_count": 2,
     "metadata": {},
     "output_type": "execute_result"
    }
   ],
   "source": [
    "def readmatfromtext(filename):\n",
    "    '''\n",
    "    Accepts a .txt file with nodes listed in each line and\n",
    "    creates an adjacency matrix from them.\n",
    "    '''\n",
    "    nodes = []\n",
    "    N = 0\n",
    "    with open(filename, 'r') as myfile:\n",
    "        for line in myfile:\n",
    "            try:\n",
    "                line = list(map(int, line.strip().split()))\n",
    "                nodes.append(line)\n",
    "            except:\n",
    "                pass\n",
    "    #Grab highest node\n",
    "    N = np.amax(nodes) + 1\n",
    "    A = np.zeros((N,N))\n",
    "    for i in range(N):\n",
    "        for j in range(N):\n",
    "            if[i, j] in nodes:\n",
    "                A[i, j] = 1\n",
    "    return dok_matrix(A)\n",
    "\n",
    "readmatfromtext(\"Data/matrix.txt\").toarray()"
   ]
  },
  {
   "cell_type": "markdown",
   "metadata": {},
   "source": [
    "## Exercise 2"
   ]
  },
  {
   "cell_type": "code",
   "execution_count": 13,
   "metadata": {},
   "outputs": [
    {
     "data": {
      "text/plain": [
       "array([[0.        , 1.        , 0.125     , 0.33333333, 0.33333333,\n",
       "        0.5       , 1.        , 1.        ],\n",
       "       [0.        , 0.        , 0.125     , 0.        , 0.        ,\n",
       "        0.        , 0.        , 0.        ],\n",
       "       [0.        , 0.        , 0.125     , 0.33333333, 0.        ,\n",
       "        0.        , 0.        , 0.        ],\n",
       "       [0.        , 0.        , 0.125     , 0.        , 0.        ,\n",
       "        0.        , 0.        , 0.        ],\n",
       "       [0.        , 0.        , 0.125     , 0.        , 0.        ,\n",
       "        0.        , 0.        , 0.        ],\n",
       "       [0.        , 0.        , 0.125     , 0.        , 0.33333333,\n",
       "        0.        , 0.        , 0.        ],\n",
       "       [0.        , 0.        , 0.125     , 0.33333333, 0.33333333,\n",
       "        0.5       , 0.        , 0.        ],\n",
       "       [1.        , 0.        , 0.125     , 0.        , 0.        ,\n",
       "        0.        , 0.        , 0.        ]])"
      ]
     },
     "execution_count": 13,
     "metadata": {},
     "output_type": "execute_result"
    }
   ],
   "source": [
    "def Kmat(A):\n",
    "    '''\n",
    "    Accepts an adjacency matrix and returns the K matrix\n",
    "    '''\n",
    "    #Compute modified adjacency matrix\n",
    "    N = A.shape[0]\n",
    "    A[A.sum(axis=1) == 0, :] = np.ones(N)\n",
    "    # Get diagonals\n",
    "    D = A.sum(axis = 1)\n",
    "    K = A.T / D\n",
    "    return(K)\n",
    "\n",
    "Data = readmatfromtext(\"Data/matrix.txt\").toarray()\n",
    "\n",
    "Kmat(Data)"
   ]
  },
  {
   "cell_type": "markdown",
   "metadata": {},
   "source": [
    "## Exercise 3"
   ]
  },
  {
   "cell_type": "code",
   "execution_count": 14,
   "metadata": {},
   "outputs": [
    {
     "name": "stdout",
     "output_type": "stream",
     "text": [
      "Compute steady-state:\n",
      "At iter: 0 Distance was 0.3977708407215281\n",
      "At iter: 1 Distance was 0.261953778207579\n",
      "At iter: 2 Distance was 0.1607067540560277\n",
      "At iter: 3 Distance was 0.1478835252342078\n",
      "At iter: 4 Distance was 0.12446934452876753\n",
      "At iter: 5 Distance was 0.1060788318385615\n",
      "At iter: 6 Distance was 0.09010053996785777\n",
      "At iter: 7 Distance was 0.07660096951530819\n",
      "At iter: 8 Distance was 0.06510717662599859\n",
      "At iter: 9 Distance was 0.05534195470165871\n",
      "At iter: 10 Distance was 0.04704046090074032\n",
      "At iter: 11 Distance was 0.03998443880542127\n",
      "At iter: 12 Distance was 0.033986761947890534\n",
      "At iter: 13 Distance was 0.028888750244453587\n",
      "At iter: 14 Distance was 0.024555437100480113\n",
      "At iter: 15 Distance was 0.020872121677866333\n",
      "At iter: 16 Distance was 0.017741303392767735\n",
      "At iter: 17 Distance was 0.015080107891691915\n",
      "At iter: 18 Distance was 0.012818091706099224\n",
      "At iter: 19 Distance was 0.010895377950615763\n",
      "At iter: 20 Distance was 0.0092610712579222\n",
      "At iter: 21 Distance was 0.007871910569257573\n",
      "At iter: 22 Distance was 0.006691123983863361\n",
      "At iter: 23 Distance was 0.005687455386285205\n",
      "At iter: 24 Distance was 0.004834337078342161\n",
      "At iter: 25 Distance was 0.004109186516590919\n",
      "At iter: 26 Distance was 0.0034928085391022524\n",
      "At iter: 27 Distance was 0.0029688872582369105\n",
      "At iter: 28 Distance was 0.0025235541695013955\n",
      "At iter: 29 Distance was 0.0021450210440761997\n",
      "At iter: 30 Distance was 0.001823267887464766\n",
      "At iter: 31 Distance was 0.001549777704345051\n",
      "At iter: 32 Distance was 0.0013173110486933014\n",
      "At iter: 33 Distance was 0.001119714391389308\n",
      "At iter: 34 Distance was 0.0009517572326809335\n",
      "At iter: 35 Distance was 0.0008089936477788327\n",
      "At iter: 36 Distance was 0.0006876446006120509\n",
      "At iter: 37 Distance was 0.0005844979105202787\n",
      "At iter: 38 Distance was 0.0004968232239422447\n",
      "At iter: 39 Distance was 0.00042229974035088444\n",
      "At iter: 40 Distance was 0.0003589547792982282\n",
      "At iter: 41 Distance was 0.00030511156240350576\n",
      "At iter: 42 Distance was 0.00025934482804297203\n",
      "At iter: 43 Distance was 0.00022044310383647915\n",
      "At iter: 44 Distance was 0.00018737663826100335\n",
      "At iter: 45 Distance was 0.00015927014252189602\n",
      "At iter: 46 Distance was 0.00013537962114363125\n",
      "At iter: 47 Distance was 0.00011507267797206496\n",
      "At iter: 48 Distance was 9.781177627625522e-05\n",
      "At iter: 49 Distance was 8.314000983485619e-05\n",
      "At iter: 50 Distance was 7.066900835964739e-05\n",
      "At iter: 51 Distance was 6.006865710571009e-05\n",
      "At iter: 52 Distance was 5.105835853986536e-05\n",
      "At iter: 53 Distance was 4.339960475887966e-05\n",
      "At iter: 54 Distance was 3.688966404504379e-05\n",
      "At iter: 55 Distance was 3.1356214438326473e-05\n",
      "At iter: 56 Distance was 2.665278227263638e-05\n",
      "At iter: 57 Distance was 2.2654864931764476e-05\n",
      "At iter: 58 Distance was 1.925663519202728e-05\n",
      "At iter: 59 Distance was 1.636813991323104e-05\n",
      "At iter: 60 Distance was 1.391291892625816e-05\n",
      "At iter: 61 Distance was 1.1825981087327286e-05\n",
      "At iter: 62 Distance was 1.0052083924232118e-05\n",
      "At iter: 63 Distance was 8.5442713355973e-06\n"
     ]
    },
    {
     "data": {
      "text/plain": [
       "array([0.43869011, 0.02171029, 0.02786154, 0.02171029, 0.02171029,\n",
       "       0.02786154, 0.04585394, 0.39460202])"
      ]
     },
     "execution_count": 14,
     "metadata": {},
     "output_type": "execute_result"
    }
   ],
   "source": [
    "def steadystate(A, N = 'none', d =.85, tol = 1e-5, maxiter=1000):\n",
    "    '''\n",
    "    Input A is the adjacency matrix - we can find it by using\n",
    "    for example the function above. Output will be a probability\n",
    "    density vector for each of the nodes of the graph.\n",
    "    '''\n",
    "    # Restrict to relevant section of A\n",
    "    if N != 'none':\n",
    "        A = A[:N,:N]\n",
    "    n = A.shape[0]\n",
    "    #Initialize random vector for p_t\n",
    "    p_t = np.random.rand(n)\n",
    "    #normalize\n",
    "    p_t = p_t / np.sum(p_t)\n",
    "    #Initialize distance and iter counters\n",
    "    pdist = 5\n",
    "    iter = 0\n",
    "    while (pdist > tol) & (iter < maxiter):\n",
    "        pnext = d * A @ p_t + ((1 - d)/ n)\n",
    "        pdist = la.norm(pnext - p_t)\n",
    "        p_t = pnext\n",
    "        print(\"At iter:\", iter, \"Distance was\", pdist)\n",
    "        iter += 1\n",
    "    return(p_t)\n",
    "\n",
    "Data = readmatfromtext(\"Data/matrix.txt\").toarray()\n",
    "A = Kmat(Data)\n",
    "\n",
    "print(\"Compute steady-state:\")\n",
    "steadystate(A)\n",
    "    "
   ]
  },
  {
   "cell_type": "markdown",
   "metadata": {},
   "source": [
    "## Problem 4 Incomplete"
   ]
  },
  {
   "cell_type": "code",
   "execution_count": 23,
   "metadata": {},
   "outputs": [
    {
     "name": "stdout",
     "output_type": "stream",
     "text": [
      "[0.03870928 0.02641669 0.48031139 0.32401996 0.04643401 0.03127529\n",
      " 0.02641669 0.02641669]\n",
      "This isn't right, I think - I should be getting the same SS as in Exercise 3?\n"
     ]
    }
   ],
   "source": [
    "def sseigen(A, N='none', d = .85):\n",
    "    n = len(A[0])\n",
    "    #Define B matrix\n",
    "    K = Kmat(A)\n",
    "    E = np.ones((n, n))\n",
    "    B = (d * K + ((1 - d) / n) * E)\n",
    "    #Get eigenvalues\n",
    "    eigs, eigvecs = la.eig(B)\n",
    "    p_ss = eigvecs[:,0]/ np.sum(eigvecs[:,0])\n",
    "    return p_ss\n",
    "\n",
    "Data = readmatfromtext(\"Data/matrix.txt\").toarray()\n",
    "A = Kmat(Data)\n",
    "print(sseigen(A))\n",
    "print(\"This isn't right, I think - I should be getting the same SS as in Exercise 3?\")"
   ]
  },
  {
   "cell_type": "markdown",
   "metadata": {},
   "source": [
    "## Exercise 5"
   ]
  },
  {
   "cell_type": "code",
   "execution_count": 6,
   "metadata": {},
   "outputs": [
    {
     "name": "stdout",
     "output_type": "stream",
     "text": [
      "At iter: 0 Distance was 0.0369568174458181\n",
      "At iter: 1 Distance was 0.010036802584170458\n",
      "At iter: 2 Distance was 0.004232337870560207\n",
      "At iter: 3 Distance was 0.0020801294153565976\n",
      "At iter: 4 Distance was 0.0010539100663760831\n",
      "At iter: 5 Distance was 0.0005419685328260932\n",
      "At iter: 6 Distance was 0.000279527479519883\n",
      "At iter: 7 Distance was 0.0001448214653226444\n",
      "At iter: 8 Distance was 7.541511619685228e-05\n",
      "At iter: 9 Distance was 3.941263146505431e-05\n",
      "At iter: 10 Distance was 2.0664193143839017e-05\n",
      "At iter: 11 Distance was 1.0865213474267182e-05\n",
      "At iter: 12 Distance was 5.727553454944199e-06\n",
      "The 5 best teams are: ['Duke' 'Butler' 'Louisville' 'Illinois' 'Indiana']\n",
      "You can tell this is a bad algorithm because Notre Dame isn't ranked number 1!\n"
     ]
    }
   ],
   "source": [
    "raw = pd.read_csv('Data/ncaa2013.csv')\n",
    "winners = raw['WINNING_TEAM']\n",
    "# NOTE THAT THERE IS A SPACE BEFORE LOSING TEAM!!!\n",
    "losers = raw[' LOSING_TEAM']\n",
    "names = np.unique(np.concatenate((winners, losers)))\n",
    "n = len(names)\n",
    "# Create adjacency matrix (Code from link predictor)\n",
    "adj = np.zeros((n, n))\n",
    "for i in raw.index:\n",
    "    name1, name2 = winners[i], losers[i]\n",
    "    name1loc = np.where(name1 == names)\n",
    "    name2loc = np.where(name2 == names)\n",
    "    '''\n",
    "    Note - this is where I deviate from the earlier method.\n",
    "    Now, I have a directed graph, so I only want one of the\n",
    "    connections to be switched to 1.\n",
    "    '''\n",
    "    adj[name2loc, name1loc] = 1\n",
    "#Grab true adjacency matrix\n",
    "A = Kmat(adj)\n",
    "#Get Steady State of Adjacency matrix.\n",
    "ss = steadystate(A, d=.7)\n",
    "# Pull rank indices\n",
    "namerank = np.argsort(ss)\n",
    "best = names[namerank]\n",
    "print(f\"The 5 best teams are: {best[-5:][::-1]}\")\n",
    "print(\"You can tell this is a bad algorithm because Notre Dame isn't ranked number 1!\")\n",
    "#np.where('Cleveland St'==names), np.where('Grambling'==names)\n"
   ]
  },
  {
   "cell_type": "code",
   "execution_count": null,
   "metadata": {},
   "outputs": [],
   "source": []
  }
 ],
 "metadata": {
  "kernelspec": {
   "display_name": "Python 3",
   "language": "python",
   "name": "python3"
  },
  "language_info": {
   "codemirror_mode": {
    "name": "ipython",
    "version": 3
   },
   "file_extension": ".py",
   "mimetype": "text/x-python",
   "name": "python",
   "nbconvert_exporter": "python",
   "pygments_lexer": "ipython3",
   "version": "3.6.5"
  }
 },
 "nbformat": 4,
 "nbformat_minor": 2
}
