{
 "cells": [
  {
   "cell_type": "markdown",
   "metadata": {},
   "source": [
    "## PageRank"
   ]
  },
  {
   "cell_type": "markdown",
   "metadata": {},
   "source": [
    "## Exercise 1"
   ]
  },
  {
   "cell_type": "code",
   "execution_count": 113,
   "metadata": {},
   "outputs": [],
   "source": [
    "import numpy as np\n",
    "from scipy.sparse import dok_matrix\n",
    "from scipy import linalg as la\n",
    "import pandas as pd"
   ]
  },
  {
   "cell_type": "code",
   "execution_count": 76,
   "metadata": {},
   "outputs": [
    {
     "data": {
      "text/plain": [
       "array([[0., 0., 0., 0., 0., 0., 0., 1.],\n",
       "       [1., 0., 0., 0., 0., 0., 0., 0.],\n",
       "       [0., 0., 0., 0., 0., 0., 0., 0.],\n",
       "       [1., 0., 1., 0., 0., 0., 1., 0.],\n",
       "       [1., 0., 0., 0., 0., 1., 1., 0.],\n",
       "       [1., 0., 0., 0., 0., 0., 1., 0.],\n",
       "       [1., 0., 0., 0., 0., 0., 0., 0.],\n",
       "       [1., 0., 0., 0., 0., 0., 0., 0.]])"
      ]
     },
     "execution_count": 76,
     "metadata": {},
     "output_type": "execute_result"
    }
   ],
   "source": [
    "def readmatfromtext(filename):\n",
    "    '''\n",
    "    Accepts a .txt file with nodes listed in each line and\n",
    "    creates an adjacency matrix from them.\n",
    "    '''\n",
    "    nodes = []\n",
    "    N = 0\n",
    "    with open(filename, 'r') as myfile:\n",
    "        for line in myfile:\n",
    "            try:\n",
    "                line = list(map(int, line.strip().split()))\n",
    "                nodes.append(line)\n",
    "            except:\n",
    "                pass\n",
    "    #Grab highest node\n",
    "    N = np.amax(nodes) + 1\n",
    "    A = np.zeros((N,N))\n",
    "    for i in range(N):\n",
    "        for j in range(N):\n",
    "            if[i, j] in nodes:\n",
    "                A[i, j] = 1\n",
    "    return dok_matrix(A)\n",
    "\n",
    "readmatfromtext(\"Data/matrix.txt\").toarray()"
   ]
  },
  {
   "cell_type": "markdown",
   "metadata": {},
   "source": [
    "## Exercise 2"
   ]
  },
  {
   "cell_type": "code",
   "execution_count": 77,
   "metadata": {},
   "outputs": [
    {
     "data": {
      "text/plain": [
       "array([[0.        , 1.        , 0.125     , 0.33333333, 0.33333333,\n",
       "        0.5       , 1.        , 1.        ],\n",
       "       [0.        , 0.        , 0.125     , 0.        , 0.        ,\n",
       "        0.        , 0.        , 0.        ],\n",
       "       [0.        , 0.        , 0.125     , 0.33333333, 0.        ,\n",
       "        0.        , 0.        , 0.        ],\n",
       "       [0.        , 0.        , 0.125     , 0.        , 0.        ,\n",
       "        0.        , 0.        , 0.        ],\n",
       "       [0.        , 0.        , 0.125     , 0.        , 0.        ,\n",
       "        0.        , 0.        , 0.        ],\n",
       "       [0.        , 0.        , 0.125     , 0.        , 0.33333333,\n",
       "        0.        , 0.        , 0.        ],\n",
       "       [0.        , 0.        , 0.125     , 0.33333333, 0.33333333,\n",
       "        0.5       , 0.        , 0.        ],\n",
       "       [1.        , 0.        , 0.125     , 0.        , 0.        ,\n",
       "        0.        , 0.        , 0.        ]])"
      ]
     },
     "execution_count": 77,
     "metadata": {},
     "output_type": "execute_result"
    }
   ],
   "source": [
    "def Kmat(A):\n",
    "    '''\n",
    "    Accepts an adjacency matrix and returns the K matrix\n",
    "    '''\n",
    "    #Compute modified adjacency matrix\n",
    "    N = A.shape[0]\n",
    "    A[A.sum(axis=1) == 0, :] = np.ones(N)\n",
    "    # Get diagonals\n",
    "    D = A.sum(axis = 1)\n",
    "    K = A.T / D\n",
    "    return(K)\n",
    "\n",
    "Data = readmatfromtext(\"Data/matrix.txt\").toarray()\n",
    "\n",
    "Kmat(Data)"
   ]
  },
  {
   "cell_type": "markdown",
   "metadata": {},
   "source": [
    "## Exercise 3"
   ]
  },
  {
   "cell_type": "code",
   "execution_count": 79,
   "metadata": {},
   "outputs": [
    {
     "name": "stdout",
     "output_type": "stream",
     "text": [
      "At iter: 0 Distance was 0.4124925690034114\n",
      "At iter: 1 Distance was 0.28485637604362485\n",
      "At iter: 2 Distance was 0.07430087821591272\n",
      "At iter: 3 Distance was 0.07255765968259882\n",
      "At iter: 4 Distance was 0.056304368893569566\n",
      "At iter: 5 Distance was 0.049018648073046345\n",
      "At iter: 6 Distance was 0.041391709425534266\n",
      "At iter: 7 Distance was 0.03524791738852704\n",
      "At iter: 8 Distance was 0.029945627971558707\n",
      "At iter: 9 Distance was 0.025457347663465794\n",
      "At iter: 10 Distance was 0.021637912452949926\n",
      "At iter: 11 Distance was 0.0183924214006226\n",
      "At iter: 12 Distance was 0.01563351230747961\n",
      "At iter: 13 Distance was 0.013288496231360379\n",
      "At iter: 14 Distance was 0.011295219271076634\n",
      "At iter: 15 Distance was 0.009600936972980194\n",
      "At iter: 16 Distance was 0.008160796288042666\n",
      "At iter: 17 Distance was 0.006936676877442695\n",
      "At iter: 18 Distance was 0.005896175338177678\n",
      "At iter: 19 Distance was 0.005011749039245306\n",
      "At iter: 20 Distance was 0.004259986682937641\n",
      "At iter: 21 Distance was 0.00362098868059575\n",
      "At iter: 22 Distance was 0.0030778403784832344\n",
      "At iter: 23 Distance was 0.0026161643217161895\n",
      "At iter: 24 Distance was 0.0022237396734574757\n",
      "At iter: 25 Distance was 0.0018901787224391584\n",
      "At iter: 26 Distance was 0.0016066519140732552\n",
      "At iter: 27 Distance was 0.0013656541269623061\n",
      "At iter: 28 Distance was 0.0011608060079179839\n",
      "At iter: 29 Distance was 0.0009866851067303177\n",
      "At iter: 30 Distance was 0.0008386823407207779\n",
      "At iter: 31 Distance was 0.0007128799896126337\n",
      "At iter: 32 Distance was 0.000605947991170719\n",
      "At iter: 33 Distance was 0.0005150557924950994\n",
      "At iter: 34 Distance was 0.0004377974236207952\n",
      "At iter: 35 Distance was 0.00037212781007766417\n",
      "At iter: 36 Distance was 0.00031630863856605773\n",
      "At iter: 37 Distance was 0.000268862342781153\n",
      "At iter: 38 Distance was 0.00022853299136396825\n",
      "At iter: 39 Distance was 0.00019425304265938872\n",
      "At iter: 40 Distance was 0.00016511508626047255\n",
      "At iter: 41 Distance was 0.00014034782332139774\n",
      "At iter: 42 Distance was 0.00011929564982319986\n",
      "At iter: 43 Distance was 0.00010140130234975522\n",
      "At iter: 44 Distance was 8.619110699729979e-05\n",
      "At iter: 45 Distance was 7.326244094765772e-05\n",
      "At iter: 46 Distance was 6.22730748054541e-05\n",
      "At iter: 47 Distance was 5.2932113584628134e-05\n",
      "At iter: 48 Distance was 4.499229654692999e-05\n",
      "At iter: 49 Distance was 3.824345206488264e-05\n",
      "At iter: 50 Distance was 3.2506934255158096e-05\n",
      "At iter: 51 Distance was 2.7630894116880457e-05\n",
      "At iter: 52 Distance was 2.3486259999352314e-05\n",
      "At iter: 53 Distance was 1.9963320999416103e-05\n",
      "At iter: 54 Distance was 1.6968822849436958e-05\n",
      "At iter: 55 Distance was 1.4423499422021414e-05\n",
      "At iter: 56 Distance was 1.2259974508737827e-05\n",
      "At iter: 57 Distance was 1.0420978332427154e-05\n",
      "At iter: 58 Distance was 8.857831582582707e-06\n"
     ]
    },
    {
     "data": {
      "text/plain": [
       "array([0.43869576, 0.02171029, 0.02786154, 0.02171029, 0.02171029,\n",
       "       0.02786154, 0.04585394, 0.39459636])"
      ]
     },
     "execution_count": 79,
     "metadata": {},
     "output_type": "execute_result"
    }
   ],
   "source": [
    "def steadystate(A, N = 'none', d =.85, tol = 1e-5, maxiter=1000):\n",
    "    '''\n",
    "    Input A is the adjacency matrix - we can find it by using\n",
    "    for example the function above. Output will be a probability\n",
    "    density vector for each of the nodes of the graph.\n",
    "    '''\n",
    "    # Restrict to relevant section of A\n",
    "    if N != 'none':\n",
    "        A = A[:N,:N]\n",
    "    n = A.shape[0]\n",
    "    #Initialize random vector for p_t\n",
    "    p_t = np.random.rand(n)\n",
    "    #normalize\n",
    "    p_t = p_t / np.sum(p_t)\n",
    "    #Initialize distance and iter counters\n",
    "    pdist = 5\n",
    "    iter = 0\n",
    "    while (pdist > tol) & (iter < maxiter):\n",
    "        pnext = d * A @ p_t + ((1 - d)/ n)\n",
    "        pdist = la.norm(pnext - p_t)\n",
    "        p_t = pnext\n",
    "        print(\"At iter:\", iter, \"Distance was\", pdist)\n",
    "        iter += 1\n",
    "    return(p_t)\n",
    "\n",
    "Data = readmatfromtext(\"Data/matrix.txt\").toarray()\n",
    "A = Kmat(Data)\n",
    "steadystate(A)\n",
    "    "
   ]
  },
  {
   "cell_type": "markdown",
   "metadata": {},
   "source": [
    "## Problem 4 Incomplete"
   ]
  },
  {
   "cell_type": "code",
   "execution_count": 111,
   "metadata": {},
   "outputs": [
    {
     "name": "stdout",
     "output_type": "stream",
     "text": [
      "[[0.         0.         0.         0.         0.         0.\n",
      "  0.         0.88888889]\n",
      " [0.23300971 0.         0.         0.         0.         0.\n",
      "  0.         0.        ]\n",
      " [0.02912621 1.         0.27272727 1.         1.         0.27272727\n",
      "  0.09677419 0.11111111]\n",
      " [0.0776699  0.         0.72727273 0.         0.         0.\n",
      "  0.25806452 0.        ]\n",
      " [0.0776699  0.         0.         0.         0.         0.72727273\n",
      "  0.25806452 0.        ]\n",
      " [0.11650485 0.         0.         0.         0.         0.\n",
      "  0.38709677 0.        ]\n",
      " [0.23300971 0.         0.         0.         0.         0.\n",
      "  0.         0.        ]\n",
      " [0.23300971 0.         0.         0.         0.         0.\n",
      "  0.         0.        ]]\n",
      "[0.03870928 0.02641669 0.48031139 0.32401996 0.04643401 0.03127529\n",
      " 0.02641669 0.02641669]\n"
     ]
    }
   ],
   "source": [
    "def sseigen(A, N='none', d = .85):\n",
    "    n = len(A)\n",
    "    #Define B matrix\n",
    "    K = Kmat(A)\n",
    "    # Everything good except K - fix!!!\n",
    "    E = np.ones((n, n))\n",
    "    B = (d * K + ((1 - d) / n) * E)\n",
    "    #Get eigenvalues\n",
    "    eigs, eigvecs = la.eig(B)\n",
    "    p_ss = eigvecs[:, 0]/ np.sum(eigvecs[:,0])\n",
    "    return p_ss\n",
    "\n",
    "Data = readmatfromtext(\"Data/matrix.txt\").toarray()\n",
    "A = Kmat(Data)\n",
    "#print(steadystate(A))\n",
    "print(sseigen(A))"
   ]
  },
  {
   "cell_type": "markdown",
   "metadata": {},
   "source": [
    "## Exercise 5"
   ]
  },
  {
   "cell_type": "code",
   "execution_count": 136,
   "metadata": {},
   "outputs": [
    {
     "name": "stdout",
     "output_type": "stream",
     "text": [
      "1.0 0.0\n"
     ]
    }
   ],
   "source": [
    "raw = pd.read_csv('Data/ncaa2013.csv')\n",
    "winners = raw['WINNING_TEAM']\n",
    "# NOTE THAT THERE IS A SPACE BEFORE LOSING TEAM!!!\n",
    "losers = raw[' LOSING_TEAM']\n",
    "names = np.unique(np.concatenate((winners, losers)))\n",
    "n = len(names)\n",
    "# Create adjacency matrix (P from link predictor)\n",
    "adj = np.zeros((n, n))\n",
    "for i in raw.index:\n",
    "    name1, name2 = winners[i], losers[i]\n",
    "    name1loc = np.where(name1 == names)\n",
    "    name2loc = np.where(name2 == names)\n",
    "    '''\n",
    "    Note - this is where \n",
    "    '''\n",
    "    adj[name2loc, name1loc] = 1\n",
    "np.where('Cleveland St'==names), np.where('Grambling'==names)\n"
   ]
  },
  {
   "cell_type": "code",
   "execution_count": null,
   "metadata": {},
   "outputs": [],
   "source": []
  }
 ],
 "metadata": {
  "kernelspec": {
   "display_name": "Python 3",
   "language": "python",
   "name": "python3"
  },
  "language_info": {
   "codemirror_mode": {
    "name": "ipython",
    "version": 3
   },
   "file_extension": ".py",
   "mimetype": "text/x-python",
   "name": "python",
   "nbconvert_exporter": "python",
   "pygments_lexer": "ipython3",
   "version": "3.6.5"
  }
 },
 "nbformat": 4,
 "nbformat_minor": 2
}
