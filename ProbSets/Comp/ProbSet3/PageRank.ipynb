{
 "cells": [
  {
   "cell_type": "markdown",
   "metadata": {},
   "source": [
    "## PageRank"
   ]
  },
  {
   "cell_type": "markdown",
   "metadata": {},
   "source": [
    "## Exercise 1"
   ]
  },
  {
   "cell_type": "code",
   "execution_count": 113,
   "metadata": {},
   "outputs": [],
   "source": [
    "import numpy as np\n",
    "from scipy.sparse import dok_matrix\n",
    "from scipy import linalg as la\n",
    "import pandas as pd"
   ]
  },
  {
   "cell_type": "code",
   "execution_count": 76,
   "metadata": {},
   "outputs": [
    {
     "data": {
      "text/plain": [
       "array([[0., 0., 0., 0., 0., 0., 0., 1.],\n",
       "       [1., 0., 0., 0., 0., 0., 0., 0.],\n",
       "       [0., 0., 0., 0., 0., 0., 0., 0.],\n",
       "       [1., 0., 1., 0., 0., 0., 1., 0.],\n",
       "       [1., 0., 0., 0., 0., 1., 1., 0.],\n",
       "       [1., 0., 0., 0., 0., 0., 1., 0.],\n",
       "       [1., 0., 0., 0., 0., 0., 0., 0.],\n",
       "       [1., 0., 0., 0., 0., 0., 0., 0.]])"
      ]
     },
     "execution_count": 76,
     "metadata": {},
     "output_type": "execute_result"
    }
   ],
   "source": [
    "def readmatfromtext(filename):\n",
    "    '''\n",
    "    Accepts a .txt file with nodes listed in each line and\n",
    "    creates an adjacency matrix from them.\n",
    "    '''\n",
    "    nodes = []\n",
    "    N = 0\n",
    "    with open(filename, 'r') as myfile:\n",
    "        for line in myfile:\n",
    "            try:\n",
    "                line = list(map(int, line.strip().split()))\n",
    "                nodes.append(line)\n",
    "            except:\n",
    "                pass\n",
    "    #Grab highest node\n",
    "    N = np.amax(nodes) + 1\n",
    "    A = np.zeros((N,N))\n",
    "    for i in range(N):\n",
    "        for j in range(N):\n",
    "            if[i, j] in nodes:\n",
    "                A[i, j] = 1\n",
    "    return dok_matrix(A)\n",
    "\n",
    "readmatfromtext(\"Data/matrix.txt\").toarray()"
   ]
  },
  {
   "cell_type": "markdown",
   "metadata": {},
   "source": [
    "## Exercise 2"
   ]
  },
  {
   "cell_type": "code",
   "execution_count": 77,
   "metadata": {},
   "outputs": [
    {
     "data": {
      "text/plain": [
       "array([[0.        , 1.        , 0.125     , 0.33333333, 0.33333333,\n",
       "        0.5       , 1.        , 1.        ],\n",
       "       [0.        , 0.        , 0.125     , 0.        , 0.        ,\n",
       "        0.        , 0.        , 0.        ],\n",
       "       [0.        , 0.        , 0.125     , 0.33333333, 0.        ,\n",
       "        0.        , 0.        , 0.        ],\n",
       "       [0.        , 0.        , 0.125     , 0.        , 0.        ,\n",
       "        0.        , 0.        , 0.        ],\n",
       "       [0.        , 0.        , 0.125     , 0.        , 0.        ,\n",
       "        0.        , 0.        , 0.        ],\n",
       "       [0.        , 0.        , 0.125     , 0.        , 0.33333333,\n",
       "        0.        , 0.        , 0.        ],\n",
       "       [0.        , 0.        , 0.125     , 0.33333333, 0.33333333,\n",
       "        0.5       , 0.        , 0.        ],\n",
       "       [1.        , 0.        , 0.125     , 0.        , 0.        ,\n",
       "        0.        , 0.        , 0.        ]])"
      ]
     },
     "execution_count": 77,
     "metadata": {},
     "output_type": "execute_result"
    }
   ],
   "source": [
    "def Kmat(A):\n",
    "    '''\n",
    "    Accepts an adjacency matrix and returns the K matrix\n",
    "    '''\n",
    "    #Compute modified adjacency matrix\n",
    "    N = A.shape[0]\n",
    "    A[A.sum(axis=1) == 0, :] = np.ones(N)\n",
    "    # Get diagonals\n",
    "    D = A.sum(axis = 1)\n",
    "    K = A.T / D\n",
    "    return(K)\n",
    "\n",
    "Data = readmatfromtext(\"Data/matrix.txt\").toarray()\n",
    "\n",
    "Kmat(Data)"
   ]
  },
  {
   "cell_type": "markdown",
   "metadata": {},
   "source": [
    "## Exercise 3"
   ]
  },
  {
   "cell_type": "code",
   "execution_count": 138,
   "metadata": {},
   "outputs": [
    {
     "name": "stdout",
     "output_type": "stream",
     "text": [
      "At iter: 0 Distance was 0.7260867639566944\n",
      "At iter: 1 Distance was 0.6957982673082554\n",
      "At iter: 2 Distance was 0.5627622767509463\n",
      "At iter: 3 Distance was 0.488143843010561\n",
      "At iter: 4 Distance was 0.4120713564186548\n",
      "At iter: 5 Distance was 0.35094742516819244\n",
      "At iter: 6 Distance was 0.2981471014898515\n",
      "At iter: 7 Distance was 0.25346256132340234\n",
      "At iter: 8 Distance was 0.21543442984399577\n",
      "At iter: 9 Distance was 0.18312132459361782\n",
      "At iter: 10 Distance was 0.15565264379289695\n",
      "At iter: 11 Distance was 0.13230486044031453\n",
      "At iter: 12 Distance was 0.11245910483150458\n",
      "At iter: 13 Distance was 0.09559024533523429\n",
      "At iter: 14 Distance was 0.08125170707412818\n",
      "At iter: 15 Distance was 0.06906395135572369\n",
      "At iter: 16 Distance was 0.05870435857197492\n",
      "At iter: 17 Distance was 0.04989870480503728\n",
      "At iter: 18 Distance was 0.042413899079857896\n",
      "At iter: 19 Distance was 0.03605181421891696\n",
      "At iter: 20 Distance was 0.03064404208583597\n",
      "At iter: 21 Distance was 0.026047435773017696\n",
      "At iter: 22 Distance was 0.02214032040705164\n",
      "At iter: 23 Distance was 0.018819272345997045\n",
      "At iter: 24 Distance was 0.015996381494096833\n",
      "At iter: 25 Distance was 0.01359692426998253\n",
      "At iter: 26 Distance was 0.011557385629485115\n",
      "At iter: 27 Distance was 0.009823777785062368\n",
      "At iter: 28 Distance was 0.008350211117303004\n",
      "At iter: 29 Distance was 0.007097679449707522\n",
      "At iter: 30 Distance was 0.00603302753225139\n",
      "At iter: 31 Distance was 0.005128073402413715\n",
      "At iter: 32 Distance was 0.004358862392051689\n",
      "At iter: 33 Distance was 0.003705033033243932\n",
      "At iter: 34 Distance was 0.0031492780782573144\n",
      "At iter: 35 Distance was 0.0026768863665187215\n",
      "At iter: 36 Distance was 0.0022753534115409328\n",
      "At iter: 37 Distance was 0.0019340503998097613\n",
      "At iter: 38 Distance was 0.0016439428398382382\n",
      "At iter: 39 Distance was 0.0013973514138624673\n",
      "At iter: 40 Distance was 0.001187748701783105\n",
      "At iter: 41 Distance was 0.0010095863965156472\n",
      "At iter: 42 Distance was 0.0008581484370382745\n",
      "At iter: 43 Distance was 0.000729426171482549\n",
      "At iter: 44 Distance was 0.000620012245760206\n",
      "At iter: 45 Distance was 0.0005270104088961476\n",
      "At iter: 46 Distance was 0.0004479588475616901\n",
      "At iter: 47 Distance was 0.00038076502042740914\n",
      "At iter: 48 Distance was 0.00032365026736327814\n",
      "At iter: 49 Distance was 0.00027510272725879035\n",
      "At iter: 50 Distance was 0.00023383731816998749\n",
      "At iter: 51 Distance was 0.00019876172044447758\n",
      "At iter: 52 Distance was 0.000168947462377751\n",
      "At iter: 53 Distance was 0.00014360534302107264\n",
      "At iter: 54 Distance was 0.00012206454156795886\n",
      "At iter: 55 Distance was 0.00010375486033283175\n",
      "At iter: 56 Distance was 8.819163128295802e-05\n",
      "At iter: 57 Distance was 7.496288659056535e-05\n",
      "At iter: 58 Distance was 6.37184536019884e-05\n",
      "At iter: 59 Distance was 5.4160685561639104e-05\n",
      "At iter: 60 Distance was 4.603658272735006e-05\n",
      "At iter: 61 Distance was 3.91310953182554e-05\n",
      "At iter: 62 Distance was 3.326143102054457e-05\n",
      "At iter: 63 Distance was 2.8272216367431482e-05\n",
      "At iter: 64 Distance was 2.4031383912261808e-05\n",
      "At iter: 65 Distance was 2.042667632541076e-05\n",
      "At iter: 66 Distance was 1.7362674876626623e-05\n",
      "At iter: 67 Distance was 1.4758273645152255e-05\n",
      "At iter: 68 Distance was 1.2544532598377455e-05\n",
      "At iter: 69 Distance was 1.0662852708583546e-05\n",
      "At iter: 70 Distance was 9.063424802237136e-06\n"
     ]
    },
    {
     "data": {
      "text/plain": [
       "array([0.43869583, 0.02171029, 0.02786154, 0.02171029, 0.02171029,\n",
       "       0.02786154, 0.04585394, 0.3945963 ])"
      ]
     },
     "execution_count": 138,
     "metadata": {},
     "output_type": "execute_result"
    }
   ],
   "source": [
    "def steadystate(A, N = 'none', d =.85, tol = 1e-5, maxiter=1000):\n",
    "    '''\n",
    "    Input A is the adjacency matrix - we can find it by using\n",
    "    for example the function above. Output will be a probability\n",
    "    density vector for each of the nodes of the graph.\n",
    "    '''\n",
    "    # Restrict to relevant section of A\n",
    "    if N != 'none':\n",
    "        A = A[:N,:N]\n",
    "    n = A.shape[0]\n",
    "    #Initialize random vector for p_t\n",
    "    p_t = np.random.rand(n)\n",
    "    #normalize\n",
    "    p_t = p_t / np.sum(p_t)\n",
    "    #Initialize distance and iter counters\n",
    "    pdist = 5\n",
    "    iter = 0\n",
    "    while (pdist > tol) & (iter < maxiter):\n",
    "        pnext = d * A @ p_t + ((1 - d)/ n)\n",
    "        pdist = la.norm(pnext - p_t)\n",
    "        p_t = pnext\n",
    "        print(\"At iter:\", iter, \"Distance was\", pdist)\n",
    "        iter += 1\n",
    "    return(p_t)\n",
    "\n",
    "Data = readmatfromtext(\"Data/matrix.txt\").toarray()\n",
    "A = Kmat(Data)\n",
    "steadystate(A)\n",
    "    "
   ]
  },
  {
   "cell_type": "markdown",
   "metadata": {},
   "source": [
    "## Problem 4 Incomplete"
   ]
  },
  {
   "cell_type": "code",
   "execution_count": 111,
   "metadata": {},
   "outputs": [
    {
     "name": "stdout",
     "output_type": "stream",
     "text": [
      "[[0.         0.         0.         0.         0.         0.\n",
      "  0.         0.88888889]\n",
      " [0.23300971 0.         0.         0.         0.         0.\n",
      "  0.         0.        ]\n",
      " [0.02912621 1.         0.27272727 1.         1.         0.27272727\n",
      "  0.09677419 0.11111111]\n",
      " [0.0776699  0.         0.72727273 0.         0.         0.\n",
      "  0.25806452 0.        ]\n",
      " [0.0776699  0.         0.         0.         0.         0.72727273\n",
      "  0.25806452 0.        ]\n",
      " [0.11650485 0.         0.         0.         0.         0.\n",
      "  0.38709677 0.        ]\n",
      " [0.23300971 0.         0.         0.         0.         0.\n",
      "  0.         0.        ]\n",
      " [0.23300971 0.         0.         0.         0.         0.\n",
      "  0.         0.        ]]\n",
      "[0.03870928 0.02641669 0.48031139 0.32401996 0.04643401 0.03127529\n",
      " 0.02641669 0.02641669]\n"
     ]
    }
   ],
   "source": [
    "def sseigen(A, N='none', d = .85):\n",
    "    n = len(A)\n",
    "    #Define B matrix\n",
    "    K = Kmat(A)\n",
    "    # Everything good except K - fix!!!\n",
    "    E = np.ones((n, n))\n",
    "    B = (d * K + ((1 - d) / n) * E)\n",
    "    #Get eigenvalues\n",
    "    eigs, eigvecs = la.eig(B)\n",
    "    p_ss = eigvecs[:, 0]/ np.sum(eigvecs[:,0])\n",
    "    return p_ss\n",
    "\n",
    "Data = readmatfromtext(\"Data/matrix.txt\").toarray()\n",
    "A = Kmat(Data)\n",
    "#print(steadystate(A))\n",
    "print(sseigen(A))"
   ]
  },
  {
   "cell_type": "markdown",
   "metadata": {},
   "source": [
    "## Exercise 5"
   ]
  },
  {
   "cell_type": "code",
   "execution_count": 148,
   "metadata": {},
   "outputs": [
    {
     "name": "stdout",
     "output_type": "stream",
     "text": [
      "At iter: 0 Distance was 0.03578377358007139\n",
      "At iter: 1 Distance was 0.010247763970980997\n",
      "At iter: 2 Distance was 0.004032532425221514\n",
      "At iter: 3 Distance was 0.0019028916578856445\n",
      "At iter: 4 Distance was 0.0009349131718913085\n",
      "At iter: 5 Distance was 0.0004668395399876965\n",
      "At iter: 6 Distance was 0.00023642918406946914\n",
      "At iter: 7 Distance was 0.00012045238527362104\n",
      "At iter: 8 Distance was 6.16930124081624e-05\n",
      "At iter: 9 Distance was 3.171013429757476e-05\n",
      "At iter: 10 Distance was 1.6341773071825042e-05\n",
      "At iter: 11 Distance was 8.438238337842991e-06\n",
      "The 5 best teams are: ['Duke' 'Butler' 'Louisville' 'Illinois' 'Indiana']\n",
      "You can tell this is a bad algorithm because Notre Dame isn't ranked number 1!\n"
     ]
    }
   ],
   "source": [
    "raw = pd.read_csv('Data/ncaa2013.csv')\n",
    "winners = raw['WINNING_TEAM']\n",
    "# NOTE THAT THERE IS A SPACE BEFORE LOSING TEAM!!!\n",
    "losers = raw[' LOSING_TEAM']\n",
    "names = np.unique(np.concatenate((winners, losers)))\n",
    "n = len(names)\n",
    "# Create adjacency matrix (Code from link predictor)\n",
    "adj = np.zeros((n, n))\n",
    "for i in raw.index:\n",
    "    name1, name2 = winners[i], losers[i]\n",
    "    name1loc = np.where(name1 == names)\n",
    "    name2loc = np.where(name2 == names)\n",
    "    '''\n",
    "    Note - this is where I deviate from the earlier method.\n",
    "    Now, I have a directed graph, so I only want one of the\n",
    "    connections to be switched to 1.\n",
    "    '''\n",
    "    adj[name2loc, name1loc] = 1\n",
    "#Grab true adjacency matrix\n",
    "A = Kmat(adj)\n",
    "#Get Steady State of Adjacency matrix.\n",
    "ss = steadystate(A, d=.7)\n",
    "# Pull rank indices\n",
    "namerank = np.argsort(ss)\n",
    "best = names[namerank]\n",
    "print(f\"The 5 best teams are: {best[-5:][::-1]}\")\n",
    "print(\"You can tell this is a bad algorithm because Notre Dame isn't ranked number 1!\")\n",
    "#np.where('Cleveland St'==names), np.where('Grambling'==names)\n"
   ]
  },
  {
   "cell_type": "code",
   "execution_count": null,
   "metadata": {},
   "outputs": [],
   "source": []
  }
 ],
 "metadata": {
  "kernelspec": {
   "display_name": "Python 3",
   "language": "python",
   "name": "python3"
  },
  "language_info": {
   "codemirror_mode": {
    "name": "ipython",
    "version": 3
   },
   "file_extension": ".py",
   "mimetype": "text/x-python",
   "name": "python",
   "nbconvert_exporter": "python",
   "pygments_lexer": "ipython3",
   "version": "3.6.5"
  }
 },
 "nbformat": 4,
 "nbformat_minor": 2
}
